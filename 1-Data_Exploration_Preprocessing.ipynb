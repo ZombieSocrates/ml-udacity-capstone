{
 "cells": [
  {
   "cell_type": "code",
   "execution_count": 1,
   "metadata": {},
   "outputs": [],
   "source": [
    "import pathlib\n",
    "import scipy.io as sio\n",
    "\n",
    "from matplotlib import pyplot as plt"
   ]
  },
  {
   "cell_type": "markdown",
   "metadata": {},
   "source": [
    "## General order of events / goals of this notebook\n",
    "1. Download the Stanford Dogs dataset to a local gitignored directory\n",
    "1. Understand the size and shape of the data (class frequencies, etc.)\n",
    "1. Experimenting with resolving individual dog breeds to American Kennel Club breed groups\n",
    "1. Testing out how to apply bounding boxes to the images to focus on the dogs that need to be classified\n",
    "1. Implementing a benchmark RandomGuess model."
   ]
  },
  {
   "cell_type": "markdown",
   "metadata": {},
   "source": [
    "### 1. Bringing the data in locally"
   ]
  },
  {
   "cell_type": "markdown",
   "metadata": {},
   "source": [
    "First, we'll create a directory to hold all the downloaded files"
   ]
  },
  {
   "cell_type": "code",
   "execution_count": 2,
   "metadata": {},
   "outputs": [],
   "source": [
    "data_dir = pathlib.Path('data')\n",
    "if not data_dir.exists():\n",
    "    data_dir.mkdir(exist_ok = False)"
   ]
  },
  {
   "cell_type": "markdown",
   "metadata": {},
   "source": [
    "Here's how we receive the **list** provided by the researchers that map images to train and test sets"
   ]
  },
  {
   "cell_type": "code",
   "execution_count": 4,
   "metadata": {},
   "outputs": [
    {
     "name": "stdout",
     "output_type": "stream",
     "text": [
      "--2020-06-17 13:38:01--  http://vision.stanford.edu/aditya86/ImageNetDogs/lists.tar\n",
      "Resolving vision.stanford.edu (vision.stanford.edu)... 171.64.68.10\n",
      "Connecting to vision.stanford.edu (vision.stanford.edu)|171.64.68.10|:80... connected.\n",
      "HTTP request sent, awaiting response... 200 OK\n",
      "Length: 481280 (470K) [application/x-tar]\n",
      "Saving to: ‘data/temp.tar’\n",
      "\n",
      "data/temp.tar       100%[===================>] 470.00K   607KB/s    in 0.8s    \n",
      "\n",
      "2020-06-17 13:38:01 (607 KB/s) - ‘data/temp.tar’ saved [481280/481280]\n",
      "\n"
     ]
    }
   ],
   "source": [
    "!wget http://vision.stanford.edu/aditya86/ImageNetDogs/lists.tar -O data/temp.tar\n",
    "!tar xofp data/temp.tar -C data\n",
    "!rm data/temp.tar"
   ]
  },
  {
   "cell_type": "code",
   "execution_count": 8,
   "metadata": {},
   "outputs": [
    {
     "name": "stdout",
     "output_type": "stream",
     "text": [
      "[PosixPath('data/file_list.mat'), PosixPath('data/test_list.mat'), PosixPath('data/train_list.mat')]\n"
     ]
    }
   ],
   "source": [
    "files_downloaded = [x for x in data_dir.glob('*') if x.is_file()]\n",
    "print(files_downloaded)"
   ]
  },
  {
   "cell_type": "markdown",
   "metadata": {},
   "source": [
    "Noting that these `_list` files are of the `.mat` type, so we'll need to use scipy.io to read them as numpy arrays...\n",
    "\n",
    "Here's a similar process for the **Annotations** files that contain bounding boxes..."
   ]
  },
  {
   "cell_type": "code",
   "execution_count": 9,
   "metadata": {},
   "outputs": [
    {
     "name": "stdout",
     "output_type": "stream",
     "text": [
      "--2020-06-17 13:44:48--  http://vision.stanford.edu/aditya86/ImageNetDogs/annotation.tar\n",
      "Resolving vision.stanford.edu (vision.stanford.edu)... 171.64.68.10\n",
      "Connecting to vision.stanford.edu (vision.stanford.edu)|171.64.68.10|:80... connected.\n",
      "HTTP request sent, awaiting response... 200 OK\n",
      "Length: 21852160 (21M) [application/x-tar]\n",
      "Saving to: ‘data/temp.tar’\n",
      "\n",
      "data/temp.tar       100%[===================>]  20.84M  5.11MB/s    in 6.0s    \n",
      "\n",
      "2020-06-17 13:44:54 (3.45 MB/s) - ‘data/temp.tar’ saved [21852160/21852160]\n",
      "\n"
     ]
    }
   ],
   "source": [
    "!wget http://vision.stanford.edu/aditya86/ImageNetDogs/annotation.tar -O data/temp.tar\n",
    "!tar xofp data/temp.tar -C data\n",
    "!rm data/temp.tar"
   ]
  },
  {
   "cell_type": "markdown",
   "metadata": {},
   "source": [
    "This creates a subdirectory called `data/Annotation` that holds a bunch of really gnarly XML documents that contain the bounding boxes for each particular folder.\n",
    "\n",
    "Finally, what I would imagine to be the longest download process, we can repeat much the same process for the actual images themselves."
   ]
  },
  {
   "cell_type": "code",
   "execution_count": 10,
   "metadata": {},
   "outputs": [
    {
     "name": "stdout",
     "output_type": "stream",
     "text": [
      "--2020-06-17 13:49:23--  http://vision.stanford.edu/aditya86/ImageNetDogs/images.tar\n",
      "Resolving vision.stanford.edu (vision.stanford.edu)... 171.64.68.10\n",
      "Connecting to vision.stanford.edu (vision.stanford.edu)|171.64.68.10|:80... connected.\n",
      "HTTP request sent, awaiting response... 200 OK\n",
      "Length: 793579520 (757M) [application/x-tar]\n",
      "Saving to: ‘data/temp.tar’\n",
      "\n",
      "data/temp.tar       100%[===================>] 756.82M  1.33MB/s    in 1m 51s  \n",
      "\n",
      "2020-06-17 13:51:14 (6.82 MB/s) - ‘data/temp.tar’ saved [793579520/793579520]\n",
      "\n"
     ]
    }
   ],
   "source": [
    "!wget http://vision.stanford.edu/aditya86/ImageNetDogs/images.tar -O data/temp.tar\n",
    "!tar xofp data/temp.tar -C data\n",
    "!rm data/temp.tar"
   ]
  },
  {
   "cell_type": "markdown",
   "metadata": {},
   "source": [
    "This last step took about two minutes to complete, which is good to keep in mind. It's worth noting that in order to play nicely with PyTorch's ImageFolder and DataLoader classes, I may eventually want to have the images reshuffled into `train/<class-label>` and `test/<class-label` folders. I'm not going to handle that right now, though."
   ]
  },
  {
   "cell_type": "code",
   "execution_count": null,
   "metadata": {},
   "outputs": [],
   "source": []
  }
 ],
 "metadata": {
  "kernelspec": {
   "display_name": "Python 3",
   "language": "python",
   "name": "python3"
  },
  "language_info": {
   "codemirror_mode": {
    "name": "ipython",
    "version": 3
   },
   "file_extension": ".py",
   "mimetype": "text/x-python",
   "name": "python",
   "nbconvert_exporter": "python",
   "pygments_lexer": "ipython3",
   "version": "3.6.10"
  }
 },
 "nbformat": 4,
 "nbformat_minor": 4
}
