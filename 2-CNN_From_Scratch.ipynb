{
 "cells": [
  {
   "cell_type": "code",
   "execution_count": 1,
   "metadata": {},
   "outputs": [],
   "source": [
    "import pathlib\n",
    "\n",
    "#local imports\n",
    "from preprocess import run_pipeline"
   ]
  },
  {
   "cell_type": "markdown",
   "metadata": {},
   "source": [
    "## Configure local `data` directory for S3 upload"
   ]
  },
  {
   "cell_type": "markdown",
   "metadata": {},
   "source": [
    "### Only run this section if you haven't yet in your local environment and/or sagemaker notebook environment!"
   ]
  },
  {
   "cell_type": "markdown",
   "metadata": {},
   "source": [
    "Create a root directory (`gitignored`) to hold everything"
   ]
  },
  {
   "cell_type": "code",
   "execution_count": 2,
   "metadata": {},
   "outputs": [],
   "source": [
    "data_dir = pathlib.Path('data')\n",
    "if not data_dir.exists():\n",
    "    data_dir.mkdir()"
   ]
  },
  {
   "cell_type": "markdown",
   "metadata": {},
   "source": [
    "Use `wget` to extract raw files from Stanford into this directory you just created..."
   ]
  },
  {
   "cell_type": "code",
   "execution_count": 3,
   "metadata": {},
   "outputs": [
    {
     "name": "stdout",
     "output_type": "stream",
     "text": [
      "--2020-06-21 12:17:56--  http://vision.stanford.edu/aditya86/ImageNetDogs/lists.tar\n",
      "Resolving vision.stanford.edu (vision.stanford.edu)... 171.64.68.10\n",
      "Connecting to vision.stanford.edu (vision.stanford.edu)|171.64.68.10|:80... connected.\n",
      "HTTP request sent, awaiting response... 200 OK\n",
      "Length: 481280 (470K) [application/x-tar]\n",
      "Saving to: ‘data/temp.tar’\n",
      "\n",
      "data/temp.tar       100%[===================>] 470.00K   590KB/s    in 0.8s    \n",
      "\n",
      "2020-06-21 12:17:57 (590 KB/s) - ‘data/temp.tar’ saved [481280/481280]\n",
      "\n"
     ]
    }
   ],
   "source": [
    "!wget http://vision.stanford.edu/aditya86/ImageNetDogs/lists.tar -O data/temp.tar\n",
    "!tar xofp data/temp.tar -C data\n",
    "!rm data/temp.tar"
   ]
  },
  {
   "cell_type": "code",
   "execution_count": 4,
   "metadata": {},
   "outputs": [
    {
     "name": "stdout",
     "output_type": "stream",
     "text": [
      "--2020-06-21 12:18:21--  http://vision.stanford.edu/aditya86/ImageNetDogs/annotation.tar\n",
      "Resolving vision.stanford.edu (vision.stanford.edu)... 171.64.68.10\n",
      "Connecting to vision.stanford.edu (vision.stanford.edu)|171.64.68.10|:80... connected.\n",
      "HTTP request sent, awaiting response... 200 OK\n",
      "Length: 21852160 (21M) [application/x-tar]\n",
      "Saving to: ‘data/temp.tar’\n",
      "\n",
      "data/temp.tar       100%[===================>]  20.84M  1.49MB/s    in 13s     \n",
      "\n",
      "2020-06-21 12:18:34 (1.58 MB/s) - ‘data/temp.tar’ saved [21852160/21852160]\n",
      "\n"
     ]
    }
   ],
   "source": [
    "!wget http://vision.stanford.edu/aditya86/ImageNetDogs/annotation.tar -O data/temp.tar\n",
    "!tar xofp data/temp.tar -C data\n",
    "!rm data/temp.tar"
   ]
  },
  {
   "cell_type": "code",
   "execution_count": 5,
   "metadata": {},
   "outputs": [
    {
     "name": "stdout",
     "output_type": "stream",
     "text": [
      "--2020-06-21 12:19:00--  http://vision.stanford.edu/aditya86/ImageNetDogs/images.tar\n",
      "Resolving vision.stanford.edu (vision.stanford.edu)... 171.64.68.10\n",
      "Connecting to vision.stanford.edu (vision.stanford.edu)|171.64.68.10|:80... connected.\n",
      "HTTP request sent, awaiting response... 200 OK\n",
      "Length: 793579520 (757M) [application/x-tar]\n",
      "Saving to: ‘data/temp.tar’\n",
      "\n",
      "data/temp.tar       100%[===================>] 756.82M   982KB/s    in 6m 29s  \n",
      "\n",
      "2020-06-21 12:25:29 (1.95 MB/s) - ‘data/temp.tar’ saved [793579520/793579520]\n",
      "\n"
     ]
    }
   ],
   "source": [
    "!wget http://vision.stanford.edu/aditya86/ImageNetDogs/images.tar -O data/temp.tar\n",
    "!tar xofp data/temp.tar -C data\n",
    "!rm data/temp.tar"
   ]
  },
  {
   "cell_type": "markdown",
   "metadata": {},
   "source": [
    "Now, run the proprocessing pipeline"
   ]
  },
  {
   "cell_type": "code",
   "execution_count": 3,
   "metadata": {},
   "outputs": [
    {
     "name": "stderr",
     "output_type": "stream",
     "text": [
      "  0%|          | 50/12000 [00:00<01:28, 134.41it/s]"
     ]
    },
    {
     "name": "stdout",
     "output_type": "stream",
     "text": [
      "Found 3 Chihuahuas in n02085620_1152.jpg\n",
      "Found 2 Chihuahuas in n02085620_473.jpg\n"
     ]
    },
    {
     "name": "stderr",
     "output_type": "stream",
     "text": [
      "  1%|          | 103/12000 [00:00<01:14, 158.74it/s]"
     ]
    },
    {
     "name": "stdout",
     "output_type": "stream",
     "text": [
      "Found 2 Chihuahuas in n02085620_575.jpg\n",
      "Found 2 Chihuahuas in n02085620_5661.jpg\n"
     ]
    },
    {
     "name": "stderr",
     "output_type": "stream",
     "text": [
      "  1%|          | 135/12000 [00:00<01:16, 155.03it/s]"
     ]
    },
    {
     "name": "stdout",
     "output_type": "stream",
     "text": [
      "Found 2 Japanese_spaniels in n02085782_2635.jpg\n",
      "Found 2 Japanese_spaniels in n02085782_935.jpg\n",
      "Found 2 Japanese_spaniels in n02085782_2207.jpg\n"
     ]
    },
    {
     "name": "stderr",
     "output_type": "stream",
     "text": [
      "  1%|▏         | 177/12000 [00:01<01:09, 169.15it/s]"
     ]
    },
    {
     "name": "stdout",
     "output_type": "stream",
     "text": [
      "Found 2 Japanese_spaniels in n02085782_3516.jpg\n",
      "Found 3 Japanese_spaniels in n02085782_2010.jpg\n",
      "Found 2 Japanese_spaniels in n02085782_2886.jpg\n",
      "Found 2 Japanese_spaniels in n02085782_3071.jpg\n"
     ]
    },
    {
     "name": "stderr",
     "output_type": "stream",
     "text": [
      "  2%|▏         | 212/12000 [00:01<01:14, 158.06it/s]"
     ]
    },
    {
     "name": "stdout",
     "output_type": "stream",
     "text": [
      "Found 3 Japanese_spaniels in n02085782_2914.jpg\n",
      "Found 2 Maltese_dogs in n02085936_3863.jpg\n"
     ]
    },
    {
     "name": "stderr",
     "output_type": "stream",
     "text": [
      "  2%|▏         | 285/12000 [00:01<01:09, 168.55it/s]"
     ]
    },
    {
     "name": "stdout",
     "output_type": "stream",
     "text": [
      "Found 2 Maltese_dogs in n02085936_3292.jpg\n",
      "Found 2 Maltese_dogs in n02085936_2889.jpg\n"
     ]
    },
    {
     "name": "stderr",
     "output_type": "stream",
     "text": [
      "  3%|▎         | 321/12000 [00:01<01:07, 172.81it/s]"
     ]
    },
    {
     "name": "stdout",
     "output_type": "stream",
     "text": [
      "Found 2 Maltese_dogs in n02085936_8745.jpg\n",
      "Found 2 Maltese_dogs in n02085936_16565.jpg\n",
      "Found 2 Maltese_dogs in n02085936_9632.jpg\n",
      "Found 2 Maltese_dogs in n02085936_10610.jpg\n"
     ]
    },
    {
     "name": "stderr",
     "output_type": "stream",
     "text": [
      "  3%|▎         | 374/12000 [00:02<01:12, 160.64it/s]"
     ]
    },
    {
     "name": "stdout",
     "output_type": "stream",
     "text": [
      "Found 2 Pekineses in n02086079_8127.jpg\n",
      "Found 2 Pekineses in n02086079_20762.jpg\n"
     ]
    },
    {
     "name": "stderr",
     "output_type": "stream",
     "text": [
      "  4%|▎         | 429/12000 [00:02<01:10, 163.20it/s]"
     ]
    },
    {
     "name": "stdout",
     "output_type": "stream",
     "text": [
      "Found 2 Shihs in n02086240_789.jpg\n",
      "Found 2 Shihs in n02086240_1725.jpg\n",
      "Found 2 Shihs in n02086240_6587.jpg\n",
      "Found 2 Shihs in n02086240_11622.jpg\n"
     ]
    },
    {
     "name": "stderr",
     "output_type": "stream",
     "text": [
      "  4%|▍         | 502/12000 [00:02<01:07, 170.66it/s]"
     ]
    },
    {
     "name": "stdout",
     "output_type": "stream",
     "text": [
      "Found 2 Shihs in n02086240_10785.jpg\n",
      "Found 4 Shihs in n02086240_7205.jpg\n",
      "Found 2 Blenheim_spaniels in n02086646_2772.jpg\n"
     ]
    },
    {
     "name": "stderr",
     "output_type": "stream",
     "text": [
      "  5%|▌         | 606/12000 [00:03<01:14, 153.70it/s]"
     ]
    },
    {
     "name": "stdout",
     "output_type": "stream",
     "text": [
      "Found 2 Blenheim_spaniels in n02086646_1342.jpg\n",
      "Found 2 Blenheim_spaniels in n02086646_3466.jpg\n",
      "Found 2 Blenheim_spaniels in n02086646_3968.jpg\n",
      "Found 2 Blenheim_spaniels in n02086646_814.jpg\n",
      "Found 2 Blenheim_spaniels in n02086646_2871.jpg\n",
      "Found 2 Blenheim_spaniels in n02086646_127.jpg\n"
     ]
    },
    {
     "name": "stderr",
     "output_type": "stream",
     "text": [
      "  5%|▌         | 658/12000 [00:04<01:16, 148.64it/s]"
     ]
    },
    {
     "name": "stdout",
     "output_type": "stream",
     "text": [
      "Found 2 papillons in n02086910_4330.jpg\n",
      "Found 2 papillons in n02086910_2909.jpg\n",
      "Found 2 papillons in n02086910_5408.jpg\n",
      "Found 2 papillons in n02086910_6882.jpg\n",
      "Found 2 papillons in n02086910_2550.jpg\n"
     ]
    },
    {
     "name": "stderr",
     "output_type": "stream",
     "text": [
      "  6%|▌         | 708/12000 [00:04<01:14, 150.69it/s]"
     ]
    },
    {
     "name": "stdout",
     "output_type": "stream",
     "text": [
      "Found 2 papillons in n02086910_7301.jpg\n",
      "Found 2 papillons in n02086910_5707.jpg\n",
      "Found 2 toy_terriers in n02087046_2316.jpg\n"
     ]
    },
    {
     "name": "stderr",
     "output_type": "stream",
     "text": [
      "  7%|▋         | 834/12000 [00:05<01:08, 161.96it/s]"
     ]
    },
    {
     "name": "stdout",
     "output_type": "stream",
     "text": [
      "Found 2 Rhodesian_ridgebacks in n02087394_7544.jpg\n",
      "Found 2 Rhodesian_ridgebacks in n02087394_3311.jpg\n"
     ]
    },
    {
     "name": "stderr",
     "output_type": "stream",
     "text": [
      "  7%|▋         | 872/12000 [00:05<01:04, 172.76it/s]"
     ]
    },
    {
     "name": "stdout",
     "output_type": "stream",
     "text": [
      "Found 2 Rhodesian_ridgebacks in n02087394_9189.jpg\n"
     ]
    },
    {
     "name": "stderr",
     "output_type": "stream",
     "text": [
      "  8%|▊         | 927/12000 [00:05<01:06, 165.30it/s]"
     ]
    },
    {
     "name": "stdout",
     "output_type": "stream",
     "text": [
      "Found 2 Rhodesian_ridgebacks in n02087394_3515.jpg\n",
      "Found 3 Afghan_hounds in n02088094_4464.jpg\n",
      "Found 2 Afghan_hounds in n02088094_4517.jpg\n",
      "Found 3 Afghan_hounds in n02088094_13742.jpg\n",
      "Found 2 Afghan_hounds in n02088094_2559.jpg\n",
      "Found 2 Afghan_hounds in n02088094_4678.jpg\n",
      "Found 2 Afghan_hounds in n02088094_4759.jpg\n",
      "Found 2 Afghan_hounds in n02088094_11006.jpg\n",
      "Found 2 Afghan_hounds in n02088094_7131.jpg\n",
      "Found 2 Afghan_hounds in n02088094_4511.jpg\n"
     ]
    },
    {
     "name": "stderr",
     "output_type": "stream",
     "text": [
      "  8%|▊         | 961/12000 [00:05<01:08, 161.89it/s]"
     ]
    },
    {
     "name": "stdout",
     "output_type": "stream",
     "text": [
      "Found 2 Afghan_hounds in n02088094_266.jpg\n",
      "Found 3 Afghan_hounds in n02088094_3641.jpg\n",
      "Found 3 Afghan_hounds in n02088094_688.jpg\n",
      "Found 3 Afghan_hounds in n02088094_4497.jpg\n",
      "Found 3 Afghan_hounds in n02088094_522.jpg\n",
      "Found 2 Afghan_hounds in n02088094_11584.jpg\n",
      "Found 2 Afghan_hounds in n02088094_11432.jpg\n",
      "Found 2 Afghan_hounds in n02088094_5812.jpg\n"
     ]
    },
    {
     "name": "stderr",
     "output_type": "stream",
     "text": [
      "  8%|▊         | 996/12000 [00:06<01:06, 165.33it/s]"
     ]
    },
    {
     "name": "stdout",
     "output_type": "stream",
     "text": [
      "Found 2 Afghan_hounds in n02088094_4072.jpg\n",
      "Found 3 Afghan_hounds in n02088094_227.jpg\n",
      "Found 2 Afghan_hounds in n02088094_3613.jpg\n"
     ]
    },
    {
     "name": "stderr",
     "output_type": "stream",
     "text": [
      "  9%|▊         | 1030/12000 [00:06<01:08, 161.25it/s]"
     ]
    },
    {
     "name": "stdout",
     "output_type": "stream",
     "text": [
      "Found 2 bassets in n02088238_11635.jpg\n",
      "Found 2 bassets in n02088238_13847.jpg\n",
      "Found 3 bassets in n02088238_9778.jpg\n",
      "Found 2 bassets in n02088238_5441.jpg\n",
      "Found 2 bassets in n02088238_9986.jpg\n",
      "Found 2 bassets in n02088238_9789.jpg\n"
     ]
    },
    {
     "name": "stderr",
     "output_type": "stream",
     "text": [
      "  9%|▉         | 1065/12000 [00:06<01:05, 165.98it/s]"
     ]
    },
    {
     "name": "stdout",
     "output_type": "stream",
     "text": [
      "Found 2 bassets in n02088238_10870.jpg\n"
     ]
    },
    {
     "name": "stderr",
     "output_type": "stream",
     "text": [
      "  9%|▉         | 1116/12000 [00:06<01:08, 159.61it/s]"
     ]
    },
    {
     "name": "stdout",
     "output_type": "stream",
     "text": [
      "Found 2 bassets in n02088238_10028.jpg\n",
      "Found 2 beagles in n02088364_16210.jpg\n",
      "Found 2 beagles in n02088364_12710.jpg\n",
      "Found 2 beagles in n02088364_12794.jpg\n"
     ]
    },
    {
     "name": "stderr",
     "output_type": "stream",
     "text": [
      " 10%|▉         | 1150/12000 [00:07<01:07, 160.55it/s]"
     ]
    },
    {
     "name": "stdout",
     "output_type": "stream",
     "text": [
      "Found 2 beagles in n02088364_16493.jpg\n"
     ]
    },
    {
     "name": "stderr",
     "output_type": "stream",
     "text": [
      " 10%|█         | 1201/12000 [00:07<01:10, 152.51it/s]"
     ]
    },
    {
     "name": "stdout",
     "output_type": "stream",
     "text": [
      "Found 2 beagles in n02088364_10362.jpg\n",
      "Found 2 beagles in n02088364_3752.jpg\n",
      "Found 2 beagles in n02088364_11130.jpg\n",
      "Found 2 beagles in n02088364_10731.jpg\n"
     ]
    },
    {
     "name": "stderr",
     "output_type": "stream",
     "text": [
      " 11%|█         | 1272/12000 [00:07<01:04, 165.19it/s]"
     ]
    },
    {
     "name": "stdout",
     "output_type": "stream",
     "text": [
      "Found 4 bloodhounds in n02088466_9167.jpg\n",
      "Found 2 bloodhounds in n02088466_7046.jpg\n"
     ]
    },
    {
     "name": "stderr",
     "output_type": "stream",
     "text": [
      " 11%|█▏        | 1360/12000 [00:08<01:04, 165.62it/s]"
     ]
    },
    {
     "name": "stdout",
     "output_type": "stream",
     "text": [
      "Found 2 blueticks in n02088632_205.jpg\n"
     ]
    },
    {
     "name": "stderr",
     "output_type": "stream",
     "text": [
      " 13%|█▎        | 1540/12000 [00:09<01:06, 156.73it/s]"
     ]
    },
    {
     "name": "stdout",
     "output_type": "stream",
     "text": [
      "Found 2 Walker_hounds in n02089867_126.jpg\n",
      "Found 2 Walker_hounds in n02089867_3449.jpg\n",
      "Found 2 Walker_hounds in n02089867_2227.jpg\n",
      "Found 2 Walker_hounds in n02089867_880.jpg\n"
     ]
    },
    {
     "name": "stderr",
     "output_type": "stream",
     "text": [
      "\r",
      " 13%|█▎        | 1560/12000 [00:09<01:02, 166.26it/s]"
     ]
    },
    {
     "name": "stdout",
     "output_type": "stream",
     "text": [
      "Found 2 Walker_hounds in n02089867_724.jpg\n",
      "Found 2 Walker_hounds in n02089867_1918.jpg\n"
     ]
    },
    {
     "name": "stderr",
     "output_type": "stream",
     "text": [
      " 13%|█▎        | 1614/12000 [00:09<01:07, 154.94it/s]"
     ]
    },
    {
     "name": "stdout",
     "output_type": "stream",
     "text": [
      "Found 2 Walker_hounds in n02089867_55.jpg\n",
      "Found 2 Walker_hounds in n02089867_2221.jpg\n",
      "Found 2 English_foxhounds in n02089973_3651.jpg\n",
      "Found 4 English_foxhounds in n02089973_2791.jpg\n",
      "Found 2 English_foxhounds in n02089973_2756.jpg\n",
      "Found 2 English_foxhounds in n02089973_2045.jpg\n"
     ]
    },
    {
     "name": "stderr",
     "output_type": "stream",
     "text": [
      " 14%|█▍        | 1652/12000 [00:10<01:02, 165.97it/s]"
     ]
    },
    {
     "name": "stdout",
     "output_type": "stream",
     "text": [
      "Found 3 English_foxhounds in n02089973_4185.jpg\n",
      "Found 2 English_foxhounds in n02089973_1907.jpg\n",
      "Found 3 English_foxhounds in n02089973_97.jpg\n",
      "Found 4 English_foxhounds in n02089973_2415.jpg\n",
      "Found 2 English_foxhounds in n02089973_2716.jpg\n",
      "Found 4 English_foxhounds in n02089973_1799.jpg\n"
     ]
    },
    {
     "name": "stderr",
     "output_type": "stream",
     "text": [
      " 14%|█▍        | 1696/12000 [00:10<00:55, 186.57it/s]"
     ]
    },
    {
     "name": "stdout",
     "output_type": "stream",
     "text": [
      "Found 2 English_foxhounds in n02089973_2500.jpg\n",
      "Found 2 English_foxhounds in n02089973_32.jpg\n",
      "Found 3 English_foxhounds in n02089973_2781.jpg\n",
      "Found 3 English_foxhounds in n02089973_4055.jpg\n",
      "Found 2 English_foxhounds in n02089973_2249.jpg\n",
      "Found 4 English_foxhounds in n02089973_1132.jpg\n",
      "Found 3 English_foxhounds in n02089973_3147.jpg\n"
     ]
    },
    {
     "name": "stderr",
     "output_type": "stream",
     "text": [
      " 15%|█▍        | 1753/12000 [00:10<00:59, 171.22it/s]"
     ]
    },
    {
     "name": "stdout",
     "output_type": "stream",
     "text": [
      "Found 2 redbones in n02090379_5525.jpg\n",
      "Found 2 redbones in n02090379_4875.jpg\n"
     ]
    },
    {
     "name": "stderr",
     "output_type": "stream",
     "text": [
      " 15%|█▌        | 1807/12000 [00:11<01:00, 167.92it/s]"
     ]
    },
    {
     "name": "stdout",
     "output_type": "stream",
     "text": [
      "Found 2 redbones in n02090379_4673.jpg\n",
      "Found 2 borzois in n02090622_4527.jpg\n"
     ]
    },
    {
     "name": "stderr",
     "output_type": "stream",
     "text": [
      " 15%|█▌        | 1841/12000 [00:11<01:02, 162.69it/s]"
     ]
    },
    {
     "name": "stdout",
     "output_type": "stream",
     "text": [
      "Found 2 borzois in n02090622_8380.jpg\n",
      "Found 2 borzois in n02090622_7705.jpg\n",
      "Found 2 borzois in n02090622_7663.jpg\n",
      "Found 3 borzois in n02090622_7858.jpg\n",
      "Found 3 borzois in n02090622_7962.jpg\n"
     ]
    },
    {
     "name": "stderr",
     "output_type": "stream",
     "text": [
      " 16%|█▌        | 1894/12000 [00:11<01:01, 165.57it/s]"
     ]
    },
    {
     "name": "stdout",
     "output_type": "stream",
     "text": [
      "Found 2 borzois in n02090622_7351.jpg\n",
      "Found 3 borzois in n02090622_8045.jpg\n",
      "Found 2 borzois in n02090622_9883.jpg\n",
      "Found 3 Irish_wolfhounds in n02090721_3149.jpg\n",
      "Found 3 Irish_wolfhounds in n02090721_4276.jpg\n"
     ]
    },
    {
     "name": "stderr",
     "output_type": "stream",
     "text": [
      " 16%|█▌        | 1928/12000 [00:11<01:02, 160.23it/s]"
     ]
    },
    {
     "name": "stdout",
     "output_type": "stream",
     "text": [
      "Found 2 Irish_wolfhounds in n02090721_5722.jpg\n",
      "Found 3 Irish_wolfhounds in n02090721_4353.jpg\n",
      "Found 2 Irish_wolfhounds in n02090721_4290.jpg\n",
      "Found 2 Irish_wolfhounds in n02090721_1222.jpg\n"
     ]
    },
    {
     "name": "stderr",
     "output_type": "stream",
     "text": [
      " 16%|█▋        | 1964/12000 [00:11<01:00, 166.76it/s]"
     ]
    },
    {
     "name": "stdout",
     "output_type": "stream",
     "text": [
      "Found 2 Irish_wolfhounds in n02090721_2442.jpg\n",
      "Found 2 Irish_wolfhounds in n02090721_954.jpg\n",
      "Found 2 Irish_wolfhounds in n02090721_940.jpg\n",
      "Found 3 Irish_wolfhounds in n02090721_3302.jpg\n",
      "Found 2 Irish_wolfhounds in n02090721_7155.jpg\n"
     ]
    },
    {
     "name": "stderr",
     "output_type": "stream",
     "text": [
      " 17%|█▋        | 1999/12000 [00:12<01:00, 165.01it/s]"
     ]
    },
    {
     "name": "stdout",
     "output_type": "stream",
     "text": [
      "Found 2 Irish_wolfhounds in n02090721_4200.jpg\n",
      "Found 3 Irish_wolfhounds in n02090721_537.jpg\n",
      "Found 2 Irish_wolfhounds in n02090721_175.jpg\n",
      "Found 2 Irish_wolfhounds in n02090721_209.jpg\n",
      "Found 2 Irish_wolfhounds in n02090721_6715.jpg\n",
      "Found 2 Italian_greyhounds in n02091032_722.jpg\n",
      "Found 2 Italian_greyhounds in n02091032_990.jpg\n"
     ]
    },
    {
     "name": "stderr",
     "output_type": "stream",
     "text": [
      " 17%|█▋        | 2052/12000 [00:12<01:00, 165.11it/s]"
     ]
    },
    {
     "name": "stdout",
     "output_type": "stream",
     "text": [
      "Found 2 Italian_greyhounds in n02091032_18.jpg\n",
      "Found 2 Italian_greyhounds in n02091032_4004.jpg\n",
      "Found 2 Italian_greyhounds in n02091032_1680.jpg\n",
      "Found 2 Italian_greyhounds in n02091032_745.jpg\n",
      "Found 2 Italian_greyhounds in n02091032_11998.jpg\n"
     ]
    },
    {
     "name": "stderr",
     "output_type": "stream",
     "text": [
      " 17%|█▋        | 2089/12000 [00:12<00:58, 169.92it/s]"
     ]
    },
    {
     "name": "stdout",
     "output_type": "stream",
     "text": [
      "Found 2 Italian_greyhounds in n02091032_11660.jpg\n",
      "Found 2 Italian_greyhounds in n02091032_12113.jpg\n",
      "Found 2 whippets in n02091134_12358.jpg\n"
     ]
    },
    {
     "name": "stderr",
     "output_type": "stream",
     "text": [
      " 18%|█▊        | 2125/12000 [00:12<00:59, 166.93it/s]"
     ]
    },
    {
     "name": "stdout",
     "output_type": "stream",
     "text": [
      "Found 3 whippets in n02091134_7232.jpg\n",
      "Found 2 whippets in n02091134_917.jpg\n",
      "Found 2 whippets in n02091134_17054.jpg\n",
      "Found 2 whippets in n02091134_16541.jpg\n",
      "Found 2 whippets in n02091134_7375.jpg\n"
     ]
    },
    {
     "name": "stderr",
     "output_type": "stream",
     "text": [
      " 18%|█▊        | 2159/12000 [00:13<00:59, 164.24it/s]"
     ]
    },
    {
     "name": "stdout",
     "output_type": "stream",
     "text": [
      "Found 2 whippets in n02091134_19204.jpg\n",
      "Found 2 whippets in n02091134_19308.jpg\n",
      "Found 2 whippets in n02091134_12732.jpg\n",
      "Found 2 whippets in n02091134_2349.jpg\n",
      "Found 2 whippets in n02091134_18902.jpg\n",
      "Found 2 whippets in n02091134_18824.jpg\n"
     ]
    },
    {
     "name": "stderr",
     "output_type": "stream",
     "text": [
      " 18%|█▊        | 2193/12000 [00:13<01:02, 157.52it/s]"
     ]
    },
    {
     "name": "stdout",
     "output_type": "stream",
     "text": [
      "Found 2 whippets in n02091134_10690.jpg\n",
      "Found 3 whippets in n02091134_12341.jpg\n",
      "Found 2 whippets in n02091134_17108.jpg\n",
      "Found 2 whippets in n02091134_10918.jpg\n",
      "Found 2 whippets in n02091134_18140.jpg\n",
      "Found 2 whippets in n02091134_12029.jpg\n"
     ]
    },
    {
     "name": "stderr",
     "output_type": "stream",
     "text": [
      " 19%|█▊        | 2244/12000 [00:13<00:59, 163.29it/s]"
     ]
    },
    {
     "name": "stdout",
     "output_type": "stream",
     "text": [
      "Found 3 Ibizan_hounds in n02091244_5639.jpg\n",
      "Found 2 Ibizan_hounds in n02091244_4367.jpg\n",
      "Found 2 Ibizan_hounds in n02091244_2941.jpg\n"
     ]
    },
    {
     "name": "stderr",
     "output_type": "stream",
     "text": [
      " 19%|█▉        | 2298/12000 [00:14<00:57, 168.37it/s]"
     ]
    },
    {
     "name": "stdout",
     "output_type": "stream",
     "text": [
      "Found 2 Ibizan_hounds in n02091244_3005.jpg\n",
      "Found 2 Ibizan_hounds in n02091244_4885.jpg\n",
      "Found 2 Norwegian_elkhounds in n02091467_4558.jpg\n"
     ]
    },
    {
     "name": "stderr",
     "output_type": "stream",
     "text": [
      " 20%|█▉        | 2369/12000 [00:14<00:56, 169.48it/s]"
     ]
    },
    {
     "name": "stdout",
     "output_type": "stream",
     "text": [
      "Found 2 Norwegian_elkhounds in n02091467_4427.jpg\n"
     ]
    },
    {
     "name": "stderr",
     "output_type": "stream",
     "text": [
      " 20%|██        | 2405/12000 [00:14<00:57, 166.73it/s]"
     ]
    },
    {
     "name": "stdout",
     "output_type": "stream",
     "text": [
      "Found 2 Norwegian_elkhounds in n02091467_3879.jpg\n",
      "Found 2 Norwegian_elkhounds in n02091467_627.jpg\n"
     ]
    },
    {
     "name": "stderr",
     "output_type": "stream",
     "text": [
      " 20%|██        | 2438/12000 [00:14<01:08, 140.17it/s]"
     ]
    },
    {
     "name": "stdout",
     "output_type": "stream",
     "text": [
      "Found 2 otterhounds in n02091635_1192.jpg\n",
      "Found 2 otterhounds in n02091635_965.jpg\n",
      "Found 2 otterhounds in n02091635_1043.jpg\n",
      "Found 2 otterhounds in n02091635_2725.jpg\n"
     ]
    },
    {
     "name": "stderr",
     "output_type": "stream",
     "text": [
      " 21%|██        | 2473/12000 [00:15<01:04, 148.74it/s]"
     ]
    },
    {
     "name": "stdout",
     "output_type": "stream",
     "text": [
      "Found 2 otterhounds in n02091635_3048.jpg\n",
      "Found 2 otterhounds in n02091635_4045.jpg\n",
      "Found 2 otterhounds in n02091635_1840.jpg\n"
     ]
    },
    {
     "name": "stderr",
     "output_type": "stream",
     "text": [
      " 21%|██        | 2510/12000 [00:15<00:59, 158.84it/s]"
     ]
    },
    {
     "name": "stdout",
     "output_type": "stream",
     "text": [
      "Found 2 otterhounds in n02091635_1417.jpg\n",
      "Found 2 Salukis in n02091831_3054.jpg\n",
      "Found 2 Salukis in n02091831_7030.jpg\n",
      "Found 2 Salukis in n02091831_3430.jpg\n"
     ]
    },
    {
     "name": "stderr",
     "output_type": "stream",
     "text": [
      " 21%|██▏       | 2562/12000 [00:15<00:58, 162.04it/s]"
     ]
    },
    {
     "name": "stdout",
     "output_type": "stream",
     "text": [
      "Found 2 Salukis in n02091831_9731.jpg\n",
      "Found 3 Salukis in n02091831_3616.jpg\n",
      "Found 2 Salukis in n02091831_735.jpg\n",
      "Found 2 Salukis in n02091831_1696.jpg\n",
      "Found 2 Salukis in n02091831_8028.jpg\n"
     ]
    },
    {
     "name": "stderr",
     "output_type": "stream",
     "text": [
      " 22%|██▏       | 2596/12000 [00:15<01:00, 156.53it/s]"
     ]
    },
    {
     "name": "stdout",
     "output_type": "stream",
     "text": [
      "Found 2 Salukis in n02091831_1594.jpg\n",
      "Found 2 Salukis in n02091831_7051.jpg\n",
      "Found 2 Salukis in n02091831_3400.jpg\n",
      "Found 2 Salukis in n02091831_3242.jpg\n"
     ]
    },
    {
     "name": "stderr",
     "output_type": "stream",
     "text": [
      " 22%|██▏       | 2629/12000 [00:16<01:01, 152.71it/s]"
     ]
    },
    {
     "name": "stdout",
     "output_type": "stream",
     "text": [
      "Found 2 Scottish_deerhounds in n02092002_15064.jpg\n",
      "Found 2 Scottish_deerhounds in n02092002_4596.jpg\n"
     ]
    },
    {
     "name": "stderr",
     "output_type": "stream",
     "text": [
      " 22%|██▏       | 2664/12000 [00:16<00:58, 160.66it/s]"
     ]
    },
    {
     "name": "stdout",
     "output_type": "stream",
     "text": [
      "Found 2 Scottish_deerhounds in n02092002_11105.jpg\n",
      "Found 3 Scottish_deerhounds in n02092002_4337.jpg\n"
     ]
    },
    {
     "name": "stderr",
     "output_type": "stream",
     "text": [
      " 22%|██▏       | 2697/12000 [00:16<01:04, 145.10it/s]"
     ]
    },
    {
     "name": "stdout",
     "output_type": "stream",
     "text": [
      "Found 2 Scottish_deerhounds in n02092002_5246.jpg\n",
      "Found 2 Scottish_deerhounds in n02092002_7160.jpg\n",
      "Found 2 Scottish_deerhounds in n02092002_49.jpg\n"
     ]
    },
    {
     "name": "stderr",
     "output_type": "stream",
     "text": [
      " 23%|██▎       | 2749/12000 [00:16<00:57, 160.95it/s]"
     ]
    },
    {
     "name": "stdout",
     "output_type": "stream",
     "text": [
      "Found 2 Weimaraners in n02092339_366.jpg\n",
      "Found 2 Weimaraners in n02092339_6752.jpg\n",
      "Found 2 Weimaraners in n02092339_6401.jpg\n",
      "Found 2 Weimaraners in n02092339_2653.jpg\n"
     ]
    },
    {
     "name": "stderr",
     "output_type": "stream",
     "text": [
      " 23%|██▎       | 2801/12000 [00:17<00:56, 163.44it/s]"
     ]
    },
    {
     "name": "stdout",
     "output_type": "stream",
     "text": [
      "Found 2 Weimaraners in n02092339_4378.jpg\n"
     ]
    },
    {
     "name": "stderr",
     "output_type": "stream",
     "text": [
      " 24%|██▍       | 2853/12000 [00:17<00:56, 163.18it/s]"
     ]
    },
    {
     "name": "stdout",
     "output_type": "stream",
     "text": [
      "Found 2 Staffordshire_bullterriers in n02093256_11732.jpg\n",
      "Found 2 Staffordshire_bullterriers in n02093256_264.jpg\n"
     ]
    },
    {
     "name": "stderr",
     "output_type": "stream",
     "text": [
      "\r",
      " 24%|██▍       | 2870/12000 [00:17<00:57, 159.34it/s]"
     ]
    },
    {
     "name": "stdout",
     "output_type": "stream",
     "text": [
      "Found 2 Staffordshire_bullterriers in n02093256_3877.jpg\n",
      "Found 2 Staffordshire_bullterriers in n02093256_4997.jpg\n"
     ]
    },
    {
     "name": "stderr",
     "output_type": "stream",
     "text": [
      " 24%|██▍       | 2922/12000 [00:17<00:56, 161.04it/s]"
     ]
    },
    {
     "name": "stdout",
     "output_type": "stream",
     "text": [
      "Found 3 Staffordshire_bullterriers in n02093256_6158.jpg\n"
     ]
    },
    {
     "name": "stderr",
     "output_type": "stream",
     "text": [
      " 25%|██▍       | 2973/12000 [00:18<00:56, 158.76it/s]"
     ]
    },
    {
     "name": "stdout",
     "output_type": "stream",
     "text": [
      "Found 2 American_Staffordshire_terriers in n02093428_6949.jpg\n",
      "Found 2 American_Staffordshire_terriers in n02093428_592.jpg\n",
      "Found 2 American_Staffordshire_terriers in n02093428_5926.jpg\n",
      "Found 2 American_Staffordshire_terriers in n02093428_3353.jpg\n"
     ]
    },
    {
     "name": "stderr",
     "output_type": "stream",
     "text": [
      " 25%|██▌       | 3043/12000 [00:18<00:55, 160.16it/s]"
     ]
    },
    {
     "name": "stdout",
     "output_type": "stream",
     "text": [
      "Found 3 Bedlington_terriers in n02093647_502.jpg\n",
      "Found 2 Bedlington_terriers in n02093647_126.jpg\n",
      "Found 2 Bedlington_terriers in n02093647_1870.jpg\n",
      "Found 3 Bedlington_terriers in n02093647_3291.jpg\n"
     ]
    },
    {
     "name": "stderr",
     "output_type": "stream",
     "text": [
      " 26%|██▌       | 3106/12000 [00:19<00:49, 179.89it/s]"
     ]
    },
    {
     "name": "stdout",
     "output_type": "stream",
     "text": [
      "Found 2 Bedlington_terriers in n02093647_55.jpg\n"
     ]
    },
    {
     "name": "stderr",
     "output_type": "stream",
     "text": [
      " 27%|██▋       | 3272/12000 [00:20<00:47, 182.13it/s]"
     ]
    },
    {
     "name": "stdout",
     "output_type": "stream",
     "text": [
      "Found 2 Kerry_blue_terriers in n02093859_14.jpg\n",
      "Found 2 Kerry_blue_terriers in n02093859_608.jpg\n",
      "Found 2 Kerry_blue_terriers in n02093859_3283.jpg\n"
     ]
    },
    {
     "name": "stderr",
     "output_type": "stream",
     "text": [
      " 28%|██▊       | 3310/12000 [00:20<00:49, 174.61it/s]"
     ]
    },
    {
     "name": "stdout",
     "output_type": "stream",
     "text": [
      "Found 2 Kerry_blue_terriers in n02093859_640.jpg\n",
      "Found 2 Irish_terriers in n02093991_4441.jpg\n",
      "Found 2 Irish_terriers in n02093991_5001.jpg\n",
      "Found 2 Irish_terriers in n02093991_4306.jpg\n"
     ]
    },
    {
     "name": "stderr",
     "output_type": "stream",
     "text": [
      " 28%|██▊       | 3362/12000 [00:20<00:52, 165.23it/s]"
     ]
    },
    {
     "name": "stdout",
     "output_type": "stream",
     "text": [
      "Found 2 Irish_terriers in n02093991_756.jpg\n",
      "Found 2 Irish_terriers in n02093991_3174.jpg\n"
     ]
    },
    {
     "name": "stderr",
     "output_type": "stream",
     "text": [
      " 28%|██▊       | 3397/12000 [00:20<00:51, 167.06it/s]"
     ]
    },
    {
     "name": "stdout",
     "output_type": "stream",
     "text": [
      "Found 2 Irish_terriers in n02093991_4151.jpg\n",
      "Found 2 Irish_terriers in n02093991_3314.jpg\n",
      "Found 3 Irish_terriers in n02093991_4287.jpg\n",
      "Found 2 Irish_terriers in n02093991_946.jpg\n"
     ]
    },
    {
     "name": "stderr",
     "output_type": "stream",
     "text": [
      " 29%|██▉       | 3486/12000 [00:21<00:49, 171.98it/s]"
     ]
    },
    {
     "name": "stdout",
     "output_type": "stream",
     "text": [
      "Found 2 Norfolk_terriers in n02094114_1696.jpg\n",
      "Found 2 Norfolk_terriers in n02094114_2739.jpg\n",
      "Found 2 Norfolk_terriers in n02094114_2245.jpg\n",
      "Found 2 Norfolk_terriers in n02094114_3925.jpg\n",
      "Found 2 Norwich_terriers in n02094258_247.jpg\n"
     ]
    },
    {
     "name": "stderr",
     "output_type": "stream",
     "text": [
      " 29%|██▉       | 3521/12000 [00:21<00:50, 167.07it/s]"
     ]
    },
    {
     "name": "stdout",
     "output_type": "stream",
     "text": [
      "Found 2 Norwich_terriers in n02094258_726.jpg\n",
      "Found 2 Norwich_terriers in n02094258_860.jpg\n"
     ]
    },
    {
     "name": "stderr",
     "output_type": "stream",
     "text": [
      " 30%|██▉       | 3555/12000 [00:21<00:51, 163.48it/s]"
     ]
    },
    {
     "name": "stdout",
     "output_type": "stream",
     "text": [
      "Found 2 Norwich_terriers in n02094258_871.jpg\n",
      "Found 3 Norwich_terriers in n02094258_1192.jpg\n",
      "Found 2 Norwich_terriers in n02094258_1091.jpg\n",
      "Found 2 Norwich_terriers in n02094258_1408.jpg\n",
      "Found 2 Norwich_terriers in n02094258_905.jpg\n",
      "Found 2 Norwich_terriers in n02094258_2583.jpg\n"
     ]
    },
    {
     "name": "stderr",
     "output_type": "stream",
     "text": [
      " 30%|██▉       | 3590/12000 [00:21<00:51, 163.09it/s]"
     ]
    },
    {
     "name": "stdout",
     "output_type": "stream",
     "text": [
      "Found 2 Norwich_terriers in n02094258_2359.jpg\n",
      "Found 2 Norwich_terriers in n02094258_792.jpg\n",
      "Found 2 Norwich_terriers in n02094258_1281.jpg\n",
      "Found 2 Norwich_terriers in n02094258_977.jpg\n",
      "Found 2 Norwich_terriers in n02094258_1614.jpg\n"
     ]
    },
    {
     "name": "stderr",
     "output_type": "stream",
     "text": [
      " 30%|███       | 3622/12000 [00:22<01:02, 133.18it/s]"
     ]
    },
    {
     "name": "stdout",
     "output_type": "stream",
     "text": [
      "Found 2 Yorkshire_terriers in n02094433_2987.jpg\n",
      "Found 2 Yorkshire_terriers in n02094433_2266.jpg\n"
     ]
    },
    {
     "name": "stderr",
     "output_type": "stream",
     "text": [
      " 31%|███       | 3675/12000 [00:22<00:53, 156.11it/s]"
     ]
    },
    {
     "name": "stdout",
     "output_type": "stream",
     "text": [
      "Found 2 Yorkshire_terriers in n02094433_3642.jpg\n",
      "Found 2 Yorkshire_terriers in n02094433_3999.jpg\n"
     ]
    },
    {
     "name": "stderr",
     "output_type": "stream",
     "text": [
      " 31%|███       | 3735/12000 [00:22<00:45, 180.67it/s]"
     ]
    },
    {
     "name": "stdout",
     "output_type": "stream",
     "text": [
      "Found 2 wires in n02095314_2198.jpg\n",
      "Found 2 wires in n02095314_398.jpg\n",
      "Found 2 wires in n02095314_2256.jpg\n"
     ]
    },
    {
     "name": "stderr",
     "output_type": "stream",
     "text": [
      " 32%|███▏      | 3781/12000 [00:23<00:40, 201.24it/s]"
     ]
    },
    {
     "name": "stdout",
     "output_type": "stream",
     "text": [
      "Found 2 wires in n02095314_2196.jpg\n",
      "Found 2 wires in n02095314_591.jpg\n",
      "Found 2 wires in n02095314_928.jpg\n"
     ]
    },
    {
     "name": "stderr",
     "output_type": "stream",
     "text": [
      " 32%|███▏      | 3823/12000 [00:23<00:45, 181.22it/s]"
     ]
    },
    {
     "name": "stdout",
     "output_type": "stream",
     "text": [
      "Found 2 Lakeland_terriers in n02095570_4436.jpg\n",
      "Found 2 Lakeland_terriers in n02095570_3745.jpg\n",
      "Found 2 Lakeland_terriers in n02095570_373.jpg\n"
     ]
    },
    {
     "name": "stderr",
     "output_type": "stream",
     "text": [
      " 32%|███▏      | 3861/12000 [00:23<00:45, 177.34it/s]"
     ]
    },
    {
     "name": "stdout",
     "output_type": "stream",
     "text": [
      "Found 2 Lakeland_terriers in n02095570_2569.jpg\n",
      "Found 2 Lakeland_terriers in n02095570_3102.jpg\n"
     ]
    },
    {
     "name": "stderr",
     "output_type": "stream",
     "text": [
      " 32%|███▏      | 3898/12000 [00:23<00:47, 172.33it/s]"
     ]
    },
    {
     "name": "stdout",
     "output_type": "stream",
     "text": [
      "Found 2 Lakeland_terriers in n02095570_3777.jpg\n"
     ]
    },
    {
     "name": "stderr",
     "output_type": "stream",
     "text": [
      " 33%|███▎      | 3938/12000 [00:24<00:49, 161.30it/s]"
     ]
    },
    {
     "name": "stdout",
     "output_type": "stream",
     "text": [
      "Found 2 Sealyham_terriers in n02095889_293.jpg\n",
      "Found 2 Sealyham_terriers in n02095889_2977.jpg\n",
      "Found 2 Sealyham_terriers in n02095889_4762.jpg\n",
      "Found 2 Sealyham_terriers in n02095889_1847.jpg\n",
      "Found 2 Sealyham_terriers in n02095889_4306.jpg\n",
      "Found 2 Sealyham_terriers in n02095889_1323.jpg\n",
      "Found 2 Sealyham_terriers in n02095889_6583.jpg\n",
      "Found 2 Sealyham_terriers in n02095889_3354.jpg\n"
     ]
    },
    {
     "name": "stderr",
     "output_type": "stream",
     "text": [
      " 33%|███▎      | 4004/12000 [00:24<00:41, 191.15it/s]"
     ]
    },
    {
     "name": "stdout",
     "output_type": "stream",
     "text": [
      "Found 2 Sealyham_terriers in n02095889_1476.jpg\n",
      "Found 2 Sealyham_terriers in n02095889_4198.jpg\n",
      "Found 2 Sealyham_terriers in n02095889_6458.jpg\n",
      "Found 2 Sealyham_terriers in n02095889_4290.jpg\n",
      "Found 3 Sealyham_terriers in n02095889_3904.jpg\n",
      "Found 2 Sealyham_terriers in n02095889_1724.jpg\n",
      "Found 2 Sealyham_terriers in n02095889_5528.jpg\n",
      "Found 2 Sealyham_terriers in n02095889_4077.jpg\n",
      "Found 3 Sealyham_terriers in n02095889_5203.jpg\n"
     ]
    },
    {
     "name": "stderr",
     "output_type": "stream",
     "text": [
      "\r",
      " 34%|███▎      | 4024/12000 [00:24<00:45, 176.02it/s]"
     ]
    },
    {
     "name": "stdout",
     "output_type": "stream",
     "text": [
      "Found 2 Airedales in n02096051_3660.jpg\n"
     ]
    },
    {
     "name": "stderr",
     "output_type": "stream",
     "text": [
      " 34%|███▍      | 4079/12000 [00:24<00:48, 161.72it/s]"
     ]
    },
    {
     "name": "stdout",
     "output_type": "stream",
     "text": [
      "Found 2 Airedales in n02096051_8790.jpg\n",
      "Found 2 Airedales in n02096051_3796.jpg\n"
     ]
    },
    {
     "name": "stderr",
     "output_type": "stream",
     "text": [
      " 35%|███▍      | 4160/12000 [00:25<00:53, 146.12it/s]"
     ]
    },
    {
     "name": "stdout",
     "output_type": "stream",
     "text": [
      "Found 2 cairns in n02096177_4825.jpg\n",
      "Found 2 cairns in n02096177_6298.jpg\n"
     ]
    },
    {
     "name": "stderr",
     "output_type": "stream",
     "text": [
      " 35%|███▍      | 4192/12000 [00:25<00:52, 148.63it/s]"
     ]
    },
    {
     "name": "stdout",
     "output_type": "stream",
     "text": [
      "Found 2 cairns in n02096177_3729.jpg\n",
      "Found 2 cairns in n02096177_1889.jpg\n"
     ]
    },
    {
     "name": "stderr",
     "output_type": "stream",
     "text": [
      " 36%|███▌      | 4297/12000 [00:26<00:45, 170.30it/s]"
     ]
    },
    {
     "name": "stdout",
     "output_type": "stream",
     "text": [
      "Found 2 Australian_terriers in n02096294_8067.jpg\n",
      "Found 2 Australian_terriers in n02096294_4925.jpg\n",
      "Found 2 Dandie_Dinmonts in n02096437_956.jpg\n"
     ]
    },
    {
     "name": "stderr",
     "output_type": "stream",
     "text": [
      " 36%|███▌      | 4349/12000 [00:26<00:49, 154.68it/s]"
     ]
    },
    {
     "name": "stdout",
     "output_type": "stream",
     "text": [
      "Found 2 Dandie_Dinmonts in n02096437_3427.jpg\n",
      "Found 2 Dandie_Dinmonts in n02096437_1936.jpg\n",
      "Found 2 Dandie_Dinmonts in n02096437_599.jpg\n",
      "Found 2 Dandie_Dinmonts in n02096437_2224.jpg\n"
     ]
    },
    {
     "name": "stderr",
     "output_type": "stream",
     "text": [
      " 37%|███▋      | 4384/12000 [00:26<00:46, 162.36it/s]"
     ]
    },
    {
     "name": "stdout",
     "output_type": "stream",
     "text": [
      "Found 2 Dandie_Dinmonts in n02096437_1511.jpg\n",
      "Found 2 Dandie_Dinmonts in n02096437_1015.jpg\n"
     ]
    },
    {
     "name": "stderr",
     "output_type": "stream",
     "text": [
      " 37%|███▋      | 4417/12000 [00:26<00:48, 154.95it/s]"
     ]
    },
    {
     "name": "stdout",
     "output_type": "stream",
     "text": [
      "Found 2 Dandie_Dinmonts in n02096437_1952.jpg\n",
      "Found 2 Dandie_Dinmonts in n02096437_1678.jpg\n",
      "Found 2 Dandie_Dinmonts in n02096437_4432.jpg\n",
      "Found 2 Boston_bulls in n02096585_5260.jpg\n",
      "Found 2 Boston_bulls in n02096585_2374.jpg\n",
      "Found 2 Boston_bulls in n02096585_342.jpg\n"
     ]
    },
    {
     "name": "stderr",
     "output_type": "stream",
     "text": [
      " 37%|███▋      | 4450/12000 [00:27<00:48, 156.71it/s]"
     ]
    },
    {
     "name": "stdout",
     "output_type": "stream",
     "text": [
      "Found 2 Boston_bulls in n02096585_9909.jpg\n",
      "Found 2 Boston_bulls in n02096585_12374.jpg\n"
     ]
    },
    {
     "name": "stderr",
     "output_type": "stream",
     "text": [
      " 38%|███▊      | 4522/12000 [00:27<00:44, 169.30it/s]"
     ]
    },
    {
     "name": "stdout",
     "output_type": "stream",
     "text": [
      "Found 2 miniature_schnauzers in n02097047_2178.jpg\n",
      "Found 2 miniature_schnauzers in n02097047_1601.jpg\n"
     ]
    },
    {
     "name": "stderr",
     "output_type": "stream",
     "text": [
      " 38%|███▊      | 4556/12000 [00:27<00:47, 157.62it/s]"
     ]
    },
    {
     "name": "stdout",
     "output_type": "stream",
     "text": [
      "Found 2 miniature_schnauzers in n02097047_1527.jpg\n",
      "Found 2 miniature_schnauzers in n02097047_37.jpg\n",
      "Found 2 miniature_schnauzers in n02097047_635.jpg\n"
     ]
    },
    {
     "name": "stderr",
     "output_type": "stream",
     "text": [
      " 38%|███▊      | 4604/12000 [00:28<00:50, 145.29it/s]"
     ]
    },
    {
     "name": "stdout",
     "output_type": "stream",
     "text": [
      "Found 2 miniature_schnauzers in n02097047_2663.jpg\n"
     ]
    },
    {
     "name": "stderr",
     "output_type": "stream",
     "text": [
      " 39%|███▉      | 4669/12000 [00:28<00:47, 154.16it/s]"
     ]
    },
    {
     "name": "stdout",
     "output_type": "stream",
     "text": [
      "Found 3 giant_schnauzers in n02097130_1395.jpg\n",
      "Found 2 giant_schnauzers in n02097130_4663.jpg\n"
     ]
    },
    {
     "name": "stderr",
     "output_type": "stream",
     "text": [
      " 39%|███▉      | 4702/12000 [00:28<00:45, 158.97it/s]"
     ]
    },
    {
     "name": "stdout",
     "output_type": "stream",
     "text": [
      "Found 2 giant_schnauzers in n02097130_5907.jpg\n",
      "Found 2 giant_schnauzers in n02097130_1289.jpg\n",
      "Found 2 standard_schnauzers in n02097209_2505.jpg\n",
      "Found 3 standard_schnauzers in n02097209_1963.jpg\n"
     ]
    },
    {
     "name": "stderr",
     "output_type": "stream",
     "text": [
      " 40%|███▉      | 4750/12000 [00:29<00:49, 146.58it/s]"
     ]
    },
    {
     "name": "stdout",
     "output_type": "stream",
     "text": [
      "Found 2 standard_schnauzers in n02097209_3652.jpg\n",
      "Found 2 standard_schnauzers in n02097209_1839.jpg\n",
      "Found 2 standard_schnauzers in n02097209_2274.jpg\n",
      "Found 2 standard_schnauzers in n02097209_3281.jpg\n",
      "Found 3 standard_schnauzers in n02097209_1353.jpg\n"
     ]
    },
    {
     "name": "stderr",
     "output_type": "stream",
     "text": [
      " 40%|███▉      | 4785/12000 [00:29<00:45, 157.35it/s]"
     ]
    },
    {
     "name": "stdout",
     "output_type": "stream",
     "text": [
      "Found 2 standard_schnauzers in n02097209_3447.jpg\n",
      "Found 2 standard_schnauzers in n02097209_169.jpg\n",
      "Found 3 standard_schnauzers in n02097209_991.jpg\n",
      "Found 3 standard_schnauzers in n02097209_1240.jpg\n",
      "Found 4 standard_schnauzers in n02097209_1760.jpg\n",
      "Found 2 standard_schnauzers in n02097209_3729.jpg\n",
      "Found 2 standard_schnauzers in n02097209_2468.jpg\n",
      "Found 2 standard_schnauzers in n02097209_469.jpg\n"
     ]
    },
    {
     "name": "stderr",
     "output_type": "stream",
     "text": [
      " 40%|████      | 4820/12000 [00:29<00:44, 161.75it/s]"
     ]
    },
    {
     "name": "stdout",
     "output_type": "stream",
     "text": [
      "Found 2 standard_schnauzers in n02097209_2087.jpg\n",
      "Found 2 standard_schnauzers in n02097209_367.jpg\n",
      "Found 2 Scotch_terriers in n02097298_6863.jpg\n"
     ]
    },
    {
     "name": "stderr",
     "output_type": "stream",
     "text": [
      " 40%|████      | 4854/12000 [00:29<00:45, 158.59it/s]"
     ]
    },
    {
     "name": "stdout",
     "output_type": "stream",
     "text": [
      "Found 2 Scotch_terriers in n02097298_1152.jpg\n",
      "Found 2 Scotch_terriers in n02097298_7639.jpg\n",
      "Found 2 Scotch_terriers in n02097298_9756.jpg\n",
      "Found 2 Scotch_terriers in n02097298_6740.jpg\n"
     ]
    },
    {
     "name": "stderr",
     "output_type": "stream",
     "text": [
      " 41%|████      | 4886/12000 [00:30<00:48, 147.05it/s]"
     ]
    },
    {
     "name": "stdout",
     "output_type": "stream",
     "text": [
      "Found 2 Scotch_terriers in n02097298_7517.jpg\n",
      "Found 2 Scotch_terriers in n02097298_2492.jpg\n",
      "Found 2 Scotch_terriers in n02097298_10965.jpg\n",
      "Found 2 Scotch_terriers in n02097298_344.jpg\n"
     ]
    },
    {
     "name": "stderr",
     "output_type": "stream",
     "text": [
      " 42%|████▏     | 4985/12000 [00:30<00:47, 148.61it/s]"
     ]
    },
    {
     "name": "stdout",
     "output_type": "stream",
     "text": [
      "Found 2 Tibetan_terriers in n02097474_2318.jpg\n",
      "Found 2 Tibetan_terriers in n02097474_8811.jpg\n",
      "Found 2 Tibetan_terriers in n02097474_4907.jpg\n"
     ]
    },
    {
     "name": "stderr",
     "output_type": "stream",
     "text": [
      " 42%|████▏     | 5016/12000 [00:30<00:47, 145.97it/s]"
     ]
    },
    {
     "name": "stdout",
     "output_type": "stream",
     "text": [
      "Found 2 Tibetan_terriers in n02097474_6280.jpg\n"
     ]
    },
    {
     "name": "stderr",
     "output_type": "stream",
     "text": [
      " 43%|████▎     | 5112/12000 [00:31<00:45, 151.38it/s]"
     ]
    },
    {
     "name": "stdout",
     "output_type": "stream",
     "text": [
      "Found 2 silky_terriers in n02097658_1106.jpg\n",
      "Found 2 softs in n02098105_1190.jpg\n"
     ]
    },
    {
     "name": "stderr",
     "output_type": "stream",
     "text": [
      " 43%|████▎     | 5164/12000 [00:31<00:42, 162.12it/s]"
     ]
    },
    {
     "name": "stdout",
     "output_type": "stream",
     "text": [
      "Found 2 softs in n02098105_2456.jpg\n",
      "Found 2 softs in n02098105_4120.jpg\n"
     ]
    },
    {
     "name": "stderr",
     "output_type": "stream",
     "text": [
      " 43%|████▎     | 5218/12000 [00:32<00:41, 162.46it/s]"
     ]
    },
    {
     "name": "stdout",
     "output_type": "stream",
     "text": [
      "Found 2 West_Highland_white_terriers in n02098286_3701.jpg\n",
      "Found 2 West_Highland_white_terriers in n02098286_6254.jpg\n",
      "Found 2 West_Highland_white_terriers in n02098286_1511.jpg\n",
      "Found 2 West_Highland_white_terriers in n02098286_2413.jpg\n",
      "Found 2 West_Highland_white_terriers in n02098286_3329.jpg\n"
     ]
    },
    {
     "name": "stderr",
     "output_type": "stream",
     "text": [
      " 44%|████▍     | 5273/12000 [00:32<00:39, 170.62it/s]"
     ]
    },
    {
     "name": "stdout",
     "output_type": "stream",
     "text": [
      "Found 2 West_Highland_white_terriers in n02098286_3263.jpg\n",
      "Found 2 West_Highland_white_terriers in n02098286_1255.jpg\n",
      "Found 2 West_Highland_white_terriers in n02098286_1632.jpg\n",
      "Found 2 West_Highland_white_terriers in n02098286_680.jpg\n",
      "Found 2 West_Highland_white_terriers in n02098286_5700.jpg\n",
      "Found 2 West_Highland_white_terriers in n02098286_5672.jpg\n"
     ]
    },
    {
     "name": "stderr",
     "output_type": "stream",
     "text": [
      " 44%|████▍     | 5309/12000 [00:32<00:38, 171.93it/s]"
     ]
    },
    {
     "name": "stdout",
     "output_type": "stream",
     "text": [
      "Found 2 West_Highland_white_terriers in n02098286_2481.jpg\n"
     ]
    },
    {
     "name": "stderr",
     "output_type": "stream",
     "text": [
      " 45%|████▍     | 5362/12000 [00:32<00:39, 166.23it/s]"
     ]
    },
    {
     "name": "stdout",
     "output_type": "stream",
     "text": [
      "Found 2 Lhasas in n02098413_13083.jpg\n",
      "Found 2 Lhasas in n02098413_2582.jpg\n"
     ]
    },
    {
     "name": "stderr",
     "output_type": "stream",
     "text": [
      " 45%|████▌     | 5413/12000 [00:33<00:41, 158.97it/s]"
     ]
    },
    {
     "name": "stdout",
     "output_type": "stream",
     "text": [
      "Found 2 Lhasas in n02098413_8379.jpg\n",
      "Found 2 flats in n02099267_3768.jpg\n"
     ]
    },
    {
     "name": "stderr",
     "output_type": "stream",
     "text": [
      " 46%|████▌     | 5464/12000 [00:33<00:39, 163.69it/s]"
     ]
    },
    {
     "name": "stdout",
     "output_type": "stream",
     "text": [
      "Found 2 flats in n02099267_5669.jpg\n",
      "Found 2 flats in n02099267_731.jpg\n"
     ]
    },
    {
     "name": "stderr",
     "output_type": "stream",
     "text": [
      " 46%|████▌     | 5515/12000 [00:33<00:43, 149.62it/s]"
     ]
    },
    {
     "name": "stdout",
     "output_type": "stream",
     "text": [
      "Found 2 flats in n02099267_720.jpg\n",
      "Found 2 flats in n02099267_2447.jpg\n",
      "Found 3 flats in n02099267_488.jpg\n",
      "Found 2 curlys in n02099429_915.jpg\n"
     ]
    },
    {
     "name": "stderr",
     "output_type": "stream",
     "text": [
      " 46%|████▋     | 5550/12000 [00:34<00:40, 160.81it/s]"
     ]
    },
    {
     "name": "stdout",
     "output_type": "stream",
     "text": [
      "Found 2 curlys in n02099429_3516.jpg\n",
      "Found 2 curlys in n02099429_2392.jpg\n",
      "Found 2 curlys in n02099429_1950.jpg\n",
      "Found 2 curlys in n02099429_2699.jpg\n"
     ]
    },
    {
     "name": "stderr",
     "output_type": "stream",
     "text": [
      " 47%|████▋     | 5591/12000 [00:34<00:36, 177.83it/s]"
     ]
    },
    {
     "name": "stdout",
     "output_type": "stream",
     "text": [
      "Found 2 curlys in n02099429_2281.jpg\n",
      "Found 2 curlys in n02099429_2925.jpg\n"
     ]
    },
    {
     "name": "stderr",
     "output_type": "stream",
     "text": [
      " 47%|████▋     | 5627/12000 [00:34<00:41, 153.69it/s]"
     ]
    },
    {
     "name": "stdout",
     "output_type": "stream",
     "text": [
      "Found 3 golden_retrievers in n02099601_4241.jpg\n"
     ]
    },
    {
     "name": "stderr",
     "output_type": "stream",
     "text": [
      " 48%|████▊     | 5711/12000 [00:35<00:40, 155.13it/s]"
     ]
    },
    {
     "name": "stdout",
     "output_type": "stream",
     "text": [
      "Found 2 golden_retrievers in n02099601_7706.jpg\n",
      "Found 2 golden_retrievers in n02099601_6980.jpg\n",
      "Found 2 Labrador_retrievers in n02099712_7481.jpg\n"
     ]
    },
    {
     "name": "stderr",
     "output_type": "stream",
     "text": [
      " 48%|████▊     | 5762/12000 [00:35<00:38, 162.25it/s]"
     ]
    },
    {
     "name": "stdout",
     "output_type": "stream",
     "text": [
      "Found 2 Labrador_retrievers in n02099712_5000.jpg\n",
      "Found 2 Labrador_retrievers in n02099712_7968.jpg\n",
      "Found 2 Labrador_retrievers in n02099712_3776.jpg\n",
      "Found 3 Labrador_retrievers in n02099712_8242.jpg\n",
      "Found 2 Labrador_retrievers in n02099712_7049.jpg\n"
     ]
    },
    {
     "name": "stderr",
     "output_type": "stream",
     "text": [
      " 48%|████▊     | 5799/12000 [00:35<00:37, 165.94it/s]"
     ]
    },
    {
     "name": "stdout",
     "output_type": "stream",
     "text": [
      "Found 2 Labrador_retrievers in n02099712_3503.jpg\n",
      "Found 2 Labrador_retrievers in n02099712_5657.jpg\n",
      "Found 2 Labrador_retrievers in n02099712_2224.jpg\n",
      "Found 2 Chesapeake_Bay_retrievers in n02099849_3203.jpg\n",
      "Found 2 Chesapeake_Bay_retrievers in n02099849_3403.jpg\n"
     ]
    },
    {
     "name": "stderr",
     "output_type": "stream",
     "text": [
      " 49%|████▊     | 5833/12000 [00:35<00:38, 160.28it/s]"
     ]
    },
    {
     "name": "stdout",
     "output_type": "stream",
     "text": [
      "Found 2 Chesapeake_Bay_retrievers in n02099849_4667.jpg\n",
      "Found 2 Chesapeake_Bay_retrievers in n02099849_1997.jpg\n",
      "Found 2 Chesapeake_Bay_retrievers in n02099849_3565.jpg\n",
      "Found 2 Chesapeake_Bay_retrievers in n02099849_4215.jpg\n",
      "Found 2 Chesapeake_Bay_retrievers in n02099849_2068.jpg\n",
      "Found 2 Chesapeake_Bay_retrievers in n02099849_1823.jpg\n"
     ]
    },
    {
     "name": "stderr",
     "output_type": "stream",
     "text": [
      " 49%|████▉     | 5902/12000 [00:36<00:36, 165.23it/s]"
     ]
    },
    {
     "name": "stdout",
     "output_type": "stream",
     "text": [
      "Found 2 Chesapeake_Bay_retrievers in n02099849_4348.jpg\n",
      "Found 2 Chesapeake_Bay_retrievers in n02099849_2300.jpg\n",
      "Found 2 Chesapeake_Bay_retrievers in n02099849_1326.jpg\n",
      "Found 2 Chesapeake_Bay_retrievers in n02099849_4619.jpg\n"
     ]
    },
    {
     "name": "stderr",
     "output_type": "stream",
     "text": [
      " 50%|█████     | 6040/12000 [00:37<00:35, 166.12it/s]"
     ]
    },
    {
     "name": "stdout",
     "output_type": "stream",
     "text": [
      "Found 2 vizslas in n02100583_1600.jpg\n",
      "Found 2 vizslas in n02100583_12047.jpg\n"
     ]
    },
    {
     "name": "stderr",
     "output_type": "stream",
     "text": [
      " 51%|█████     | 6077/12000 [00:37<00:34, 173.02it/s]"
     ]
    },
    {
     "name": "stdout",
     "output_type": "stream",
     "text": [
      "Found 2 vizslas in n02100583_10834.jpg\n",
      "Found 2 vizslas in n02100583_9956.jpg\n"
     ]
    },
    {
     "name": "stderr",
     "output_type": "stream",
     "text": [
      " 51%|█████     | 6149/12000 [00:37<00:35, 164.75it/s]"
     ]
    },
    {
     "name": "stdout",
     "output_type": "stream",
     "text": [
      "Found 2 English_setters in n02100735_1467.jpg\n",
      "Found 2 English_setters in n02100735_721.jpg\n",
      "Found 2 English_setters in n02100735_3566.jpg\n"
     ]
    },
    {
     "name": "stderr",
     "output_type": "stream",
     "text": [
      "\r",
      " 51%|█████▏    | 6166/12000 [00:38<00:40, 144.04it/s]"
     ]
    },
    {
     "name": "stdout",
     "output_type": "stream",
     "text": [
      "Found 2 English_setters in n02100735_5234.jpg\n"
     ]
    },
    {
     "name": "stderr",
     "output_type": "stream",
     "text": [
      " 52%|█████▏    | 6231/12000 [00:38<00:40, 143.14it/s]"
     ]
    },
    {
     "name": "stdout",
     "output_type": "stream",
     "text": [
      "Found 2 Irish_setters in n02100877_8595.jpg\n",
      "Found 2 Irish_setters in n02100877_4895.jpg\n"
     ]
    },
    {
     "name": "stderr",
     "output_type": "stream",
     "text": [
      " 52%|█████▏    | 6265/12000 [00:38<00:38, 148.59it/s]"
     ]
    },
    {
     "name": "stdout",
     "output_type": "stream",
     "text": [
      "Found 2 Irish_setters in n02100877_1061.jpg\n"
     ]
    },
    {
     "name": "stderr",
     "output_type": "stream",
     "text": [
      " 52%|█████▎    | 6300/12000 [00:38<00:36, 157.64it/s]"
     ]
    },
    {
     "name": "stdout",
     "output_type": "stream",
     "text": [
      "Found 2 Irish_setters in n02100877_237.jpg\n",
      "Found 2 Gordon_setters in n02101006_4988.jpg\n"
     ]
    },
    {
     "name": "stderr",
     "output_type": "stream",
     "text": [
      " 53%|█████▎    | 6352/12000 [00:39<00:37, 149.77it/s]"
     ]
    },
    {
     "name": "stdout",
     "output_type": "stream",
     "text": [
      "Found 2 Gordon_setters in n02101006_2629.jpg\n",
      "Found 2 Gordon_setters in n02101006_2516.jpg\n"
     ]
    },
    {
     "name": "stderr",
     "output_type": "stream",
     "text": [
      " 53%|█████▎    | 6403/12000 [00:39<00:36, 154.13it/s]"
     ]
    },
    {
     "name": "stdout",
     "output_type": "stream",
     "text": [
      "Found 2 Gordon_setters in n02101006_2445.jpg\n",
      "Found 2 Gordon_setters in n02101006_3914.jpg\n",
      "Found 3 Gordon_setters in n02101006_267.jpg\n",
      "Found 2 Gordon_setters in n02101006_3882.jpg\n",
      "Found 2 Gordon_setters in n02101006_12.jpg\n"
     ]
    },
    {
     "name": "stderr",
     "output_type": "stream",
     "text": [
      "\r",
      " 54%|█████▎    | 6421/12000 [00:39<00:35, 158.83it/s]"
     ]
    },
    {
     "name": "stdout",
     "output_type": "stream",
     "text": [
      "Found 2 Brittany_spaniels in n02101388_2645.jpg\n",
      "Found 2 Brittany_spaniels in n02101388_9320.jpg\n",
      "Found 2 Brittany_spaniels in n02101388_10470.jpg\n"
     ]
    },
    {
     "name": "stderr",
     "output_type": "stream",
     "text": [
      " 55%|█████▍    | 6546/12000 [00:40<00:32, 166.69it/s]"
     ]
    },
    {
     "name": "stdout",
     "output_type": "stream",
     "text": [
      "Found 2 clumbers in n02101556_5167.jpg\n",
      "Found 2 clumbers in n02101556_5753.jpg\n",
      "Found 3 clumbers in n02101556_2604.jpg\n",
      "Found 3 clumbers in n02101556_4112.jpg\n"
     ]
    },
    {
     "name": "stderr",
     "output_type": "stream",
     "text": [
      " 55%|█████▍    | 6579/12000 [00:40<00:37, 144.31it/s]"
     ]
    },
    {
     "name": "stdout",
     "output_type": "stream",
     "text": [
      "Found 3 clumbers in n02101556_4281.jpg\n",
      "Found 2 clumbers in n02101556_5249.jpg\n",
      "Found 2 clumbers in n02101556_7317.jpg\n",
      "Found 2 clumbers in n02101556_8039.jpg\n"
     ]
    },
    {
     "name": "stderr",
     "output_type": "stream",
     "text": [
      " 55%|█████▌    | 6627/12000 [00:41<00:35, 152.25it/s]"
     ]
    },
    {
     "name": "stdout",
     "output_type": "stream",
     "text": [
      "Found 2 English_springers in n02102040_1519.jpg\n",
      "Found 2 English_springers in n02102040_1276.jpg\n",
      "Found 2 English_springers in n02102040_3260.jpg\n"
     ]
    },
    {
     "name": "stderr",
     "output_type": "stream",
     "text": [
      " 56%|█████▌    | 6660/12000 [00:41<00:34, 156.77it/s]"
     ]
    },
    {
     "name": "stdout",
     "output_type": "stream",
     "text": [
      "Found 2 English_springers in n02102040_6109.jpg\n",
      "Found 2 English_springers in n02102040_3610.jpg\n"
     ]
    },
    {
     "name": "stderr",
     "output_type": "stream",
     "text": [
      " 56%|█████▌    | 6694/12000 [00:41<00:33, 160.70it/s]"
     ]
    },
    {
     "name": "stdout",
     "output_type": "stream",
     "text": [
      "Found 2 English_springers in n02102040_1259.jpg\n",
      "Found 2 English_springers in n02102040_988.jpg\n",
      "Found 2 English_springers in n02102040_1244.jpg\n"
     ]
    },
    {
     "name": "stderr",
     "output_type": "stream",
     "text": [
      " 56%|█████▋    | 6760/12000 [00:41<00:33, 155.65it/s]"
     ]
    },
    {
     "name": "stdout",
     "output_type": "stream",
     "text": [
      "Found 2 Welsh_springer_spaniels in n02102177_3639.jpg\n",
      "Found 2 Welsh_springer_spaniels in n02102177_66.jpg\n",
      "Found 2 Welsh_springer_spaniels in n02102177_715.jpg\n"
     ]
    },
    {
     "name": "stderr",
     "output_type": "stream",
     "text": [
      " 57%|█████▋    | 6828/12000 [00:42<00:33, 152.45it/s]"
     ]
    },
    {
     "name": "stdout",
     "output_type": "stream",
     "text": [
      "Found 2 cocker_spaniels in n02102318_20.jpg\n"
     ]
    },
    {
     "name": "stderr",
     "output_type": "stream",
     "text": [
      " 57%|█████▋    | 6892/12000 [00:42<00:34, 149.05it/s]"
     ]
    },
    {
     "name": "stdout",
     "output_type": "stream",
     "text": [
      "Found 2 cocker_spaniels in n02102318_10703.jpg\n"
     ]
    },
    {
     "name": "stderr",
     "output_type": "stream",
     "text": [
      " 58%|█████▊    | 6992/12000 [00:43<00:41, 120.03it/s]"
     ]
    },
    {
     "name": "stdout",
     "output_type": "stream",
     "text": [
      "Found 2 Sussex_spaniels in n02102480_5158.jpg\n"
     ]
    },
    {
     "name": "stderr",
     "output_type": "stream",
     "text": [
      " 59%|█████▊    | 7023/12000 [00:43<00:38, 129.24it/s]"
     ]
    },
    {
     "name": "stdout",
     "output_type": "stream",
     "text": [
      "Found 2 Irish_water_spaniels in n02102973_5052.jpg\n"
     ]
    },
    {
     "name": "stderr",
     "output_type": "stream",
     "text": [
      " 59%|█████▉    | 7054/12000 [00:44<00:59, 83.14it/s] "
     ]
    },
    {
     "name": "stdout",
     "output_type": "stream",
     "text": [
      "Found 3 Irish_water_spaniels in n02102973_273.jpg\n"
     ]
    },
    {
     "name": "stderr",
     "output_type": "stream",
     "text": [
      " 59%|█████▉    | 7086/12000 [00:44<00:45, 108.03it/s]"
     ]
    },
    {
     "name": "stdout",
     "output_type": "stream",
     "text": [
      "Found 2 Irish_water_spaniels in n02102973_3303.jpg\n",
      "Found 2 Irish_water_spaniels in n02102973_487.jpg\n"
     ]
    },
    {
     "name": "stderr",
     "output_type": "stream",
     "text": [
      " 59%|█████▉    | 7129/12000 [00:44<00:45, 106.47it/s]"
     ]
    },
    {
     "name": "stdout",
     "output_type": "stream",
     "text": [
      "Found 2 kuvaszs in n02104029_951.jpg\n"
     ]
    },
    {
     "name": "stderr",
     "output_type": "stream",
     "text": [
      " 60%|█████▉    | 7162/12000 [00:45<00:37, 128.28it/s]"
     ]
    },
    {
     "name": "stdout",
     "output_type": "stream",
     "text": [
      "Found 2 kuvaszs in n02104029_3769.jpg\n",
      "Found 2 kuvaszs in n02104029_4696.jpg\n"
     ]
    },
    {
     "name": "stderr",
     "output_type": "stream",
     "text": [
      " 60%|█████▉    | 7199/12000 [00:45<00:31, 151.03it/s]"
     ]
    },
    {
     "name": "stdout",
     "output_type": "stream",
     "text": [
      "Found 2 kuvaszs in n02104029_4571.jpg\n",
      "Found 2 kuvaszs in n02104029_2992.jpg\n",
      "Found 3 kuvaszs in n02104029_4513.jpg\n"
     ]
    },
    {
     "name": "stderr",
     "output_type": "stream",
     "text": [
      "\r",
      " 60%|██████    | 7216/12000 [00:45<00:32, 149.45it/s]"
     ]
    },
    {
     "name": "stdout",
     "output_type": "stream",
     "text": [
      "Found 2 schipperkes in n02104365_1292.jpg\n",
      "Found 2 schipperkes in n02104365_1841.jpg\n",
      "Found 2 schipperkes in n02104365_2092.jpg\n",
      "Found 4 schipperkes in n02104365_8161.jpg\n"
     ]
    },
    {
     "name": "stderr",
     "output_type": "stream",
     "text": [
      " 61%|██████    | 7267/12000 [00:45<00:31, 148.97it/s]"
     ]
    },
    {
     "name": "stdout",
     "output_type": "stream",
     "text": [
      "Found 2 schipperkes in n02104365_5551.jpg\n",
      "Found 2 schipperkes in n02104365_8190.jpg\n",
      "Found 2 schipperkes in n02104365_2435.jpg\n",
      "Found 2 schipperkes in n02104365_1151.jpg\n"
     ]
    },
    {
     "name": "stderr",
     "output_type": "stream",
     "text": [
      " 61%|██████    | 7320/12000 [00:46<00:31, 148.62it/s]"
     ]
    },
    {
     "name": "stdout",
     "output_type": "stream",
     "text": [
      "Found 2 schipperkes in n02104365_7018.jpg\n",
      "Found 2 schipperkes in n02104365_9595.jpg\n",
      "Found 2 schipperkes in n02104365_8998.jpg\n",
      "Found 2 groenendaels in n02105056_4139.jpg\n"
     ]
    },
    {
     "name": "stderr",
     "output_type": "stream",
     "text": [
      " 61%|██████▏   | 7352/12000 [00:46<00:30, 152.32it/s]"
     ]
    },
    {
     "name": "stdout",
     "output_type": "stream",
     "text": [
      "Found 2 groenendaels in n02105056_4601.jpg\n"
     ]
    },
    {
     "name": "stderr",
     "output_type": "stream",
     "text": [
      " 62%|██████▏   | 7448/12000 [00:47<00:30, 150.60it/s]"
     ]
    },
    {
     "name": "stdout",
     "output_type": "stream",
     "text": [
      "Found 2 malinoiss in n02105162_5417.jpg\n"
     ]
    },
    {
     "name": "stderr",
     "output_type": "stream",
     "text": [
      " 62%|██████▏   | 7497/12000 [00:47<00:32, 140.49it/s]"
     ]
    },
    {
     "name": "stdout",
     "output_type": "stream",
     "text": [
      "Found 2 malinoiss in n02105162_7041.jpg\n",
      "Found 2 malinoiss in n02105162_10375.jpg\n"
     ]
    },
    {
     "name": "stderr",
     "output_type": "stream",
     "text": [
      " 63%|██████▎   | 7561/12000 [00:47<00:28, 154.66it/s]"
     ]
    },
    {
     "name": "stdout",
     "output_type": "stream",
     "text": [
      "Found 2 briards in n02105251_8210.jpg\n"
     ]
    },
    {
     "name": "stderr",
     "output_type": "stream",
     "text": [
      " 64%|██████▍   | 7659/12000 [00:48<00:28, 151.01it/s]"
     ]
    },
    {
     "name": "stdout",
     "output_type": "stream",
     "text": [
      "Found 2 kelpies in n02105412_4629.jpg\n",
      "Found 2 kelpies in n02105412_1366.jpg\n"
     ]
    },
    {
     "name": "stderr",
     "output_type": "stream",
     "text": [
      " 64%|██████▍   | 7710/12000 [00:48<00:26, 159.17it/s]"
     ]
    },
    {
     "name": "stdout",
     "output_type": "stream",
     "text": [
      "Found 2 kelpies in n02105412_1078.jpg\n"
     ]
    },
    {
     "name": "stderr",
     "output_type": "stream",
     "text": [
      " 65%|██████▍   | 7741/12000 [00:49<00:38, 110.57it/s]"
     ]
    },
    {
     "name": "stdout",
     "output_type": "stream",
     "text": [
      "Found 2 komondors in n02105505_3913.jpg\n"
     ]
    },
    {
     "name": "stderr",
     "output_type": "stream",
     "text": [
      " 65%|██████▌   | 7801/12000 [00:49<00:30, 135.70it/s]"
     ]
    },
    {
     "name": "stdout",
     "output_type": "stream",
     "text": [
      "Found 2 komondors in n02105505_4028.jpg\n"
     ]
    },
    {
     "name": "stderr",
     "output_type": "stream",
     "text": [
      " 66%|██████▌   | 7869/12000 [00:50<00:26, 155.31it/s]"
     ]
    },
    {
     "name": "stdout",
     "output_type": "stream",
     "text": [
      "Found 3 Old_English_sheepdogs in n02105641_6261.jpg\n",
      "Found 2 Old_English_sheepdogs in n02105641_9648.jpg\n",
      "Found 2 Old_English_sheepdogs in n02105641_7884.jpg\n"
     ]
    },
    {
     "name": "stderr",
     "output_type": "stream",
     "text": [
      " 66%|██████▌   | 7904/12000 [00:50<00:25, 161.47it/s]"
     ]
    },
    {
     "name": "stdout",
     "output_type": "stream",
     "text": [
      "Found 2 Old_English_sheepdogs in n02105641_6825.jpg\n",
      "Applying RGB compression\n"
     ]
    },
    {
     "name": "stderr",
     "output_type": "stream",
     "text": [
      " 66%|██████▋   | 7953/12000 [00:50<00:28, 144.32it/s]"
     ]
    },
    {
     "name": "stdout",
     "output_type": "stream",
     "text": [
      "Found 2 Shetland_sheepdogs in n02105855_9293.jpg\n",
      "Found 2 Shetland_sheepdogs in n02105855_18564.jpg\n"
     ]
    },
    {
     "name": "stderr",
     "output_type": "stream",
     "text": [
      " 67%|██████▋   | 7983/12000 [00:50<00:28, 139.47it/s]"
     ]
    },
    {
     "name": "stdout",
     "output_type": "stream",
     "text": [
      "Found 2 Shetland_sheepdogs in n02105855_7410.jpg\n"
     ]
    },
    {
     "name": "stderr",
     "output_type": "stream",
     "text": [
      " 67%|██████▋   | 8026/12000 [00:51<00:30, 130.18it/s]"
     ]
    },
    {
     "name": "stdout",
     "output_type": "stream",
     "text": [
      "Found 2 collies in n02106030_15735.jpg\n",
      "Found 6 collies in n02106030_18950.jpg\n"
     ]
    },
    {
     "name": "stderr",
     "output_type": "stream",
     "text": [
      " 67%|██████▋   | 8088/12000 [00:51<00:27, 144.20it/s]"
     ]
    },
    {
     "name": "stdout",
     "output_type": "stream",
     "text": [
      "Found 2 collies in n02106030_12670.jpg\n",
      "Found 2 collies in n02106030_16181.jpg\n"
     ]
    },
    {
     "name": "stderr",
     "output_type": "stream",
     "text": [
      " 68%|██████▊   | 8119/12000 [00:51<00:26, 145.16it/s]"
     ]
    },
    {
     "name": "stdout",
     "output_type": "stream",
     "text": [
      "Found 2 collies in n02106030_16162.jpg\n",
      "Found 2 Border_collies in n02106166_6824.jpg\n"
     ]
    },
    {
     "name": "stderr",
     "output_type": "stream",
     "text": [
      " 68%|██████▊   | 8149/12000 [00:51<00:26, 146.45it/s]"
     ]
    },
    {
     "name": "stdout",
     "output_type": "stream",
     "text": [
      "Found 3 Border_collies in n02106166_3447.jpg\n",
      "Found 2 Border_collies in n02106166_6415.jpg\n"
     ]
    },
    {
     "name": "stderr",
     "output_type": "stream",
     "text": [
      " 68%|██████▊   | 8179/12000 [00:52<00:27, 140.37it/s]"
     ]
    },
    {
     "name": "stdout",
     "output_type": "stream",
     "text": [
      "Found 2 Border_collies in n02106166_654.jpg\n",
      "Found 2 Border_collies in n02106166_7804.jpg\n"
     ]
    },
    {
     "name": "stderr",
     "output_type": "stream",
     "text": [
      " 68%|██████▊   | 8211/12000 [00:52<00:29, 127.98it/s]"
     ]
    },
    {
     "name": "stdout",
     "output_type": "stream",
     "text": [
      "Found 2 Border_collies in n02106166_1684.jpg\n",
      "Found 2 Bouvier_des_Flandress in n02106382_680.jpg\n"
     ]
    },
    {
     "name": "stderr",
     "output_type": "stream",
     "text": [
      " 69%|██████▉   | 8252/12000 [00:52<00:23, 157.77it/s]"
     ]
    },
    {
     "name": "stdout",
     "output_type": "stream",
     "text": [
      "Found 2 Bouvier_des_Flandress in n02106382_2322.jpg\n",
      "Found 2 Bouvier_des_Flandress in n02106382_2740.jpg\n",
      "Found 2 Bouvier_des_Flandress in n02106382_312.jpg\n"
     ]
    },
    {
     "name": "stderr",
     "output_type": "stream",
     "text": [
      " 69%|██████▉   | 8322/12000 [00:53<00:26, 139.35it/s]"
     ]
    },
    {
     "name": "stdout",
     "output_type": "stream",
     "text": [
      "Found 2 Bouvier_des_Flandress in n02106382_1787.jpg\n"
     ]
    },
    {
     "name": "stderr",
     "output_type": "stream",
     "text": [
      " 71%|███████   | 8498/12000 [00:54<00:24, 140.63it/s]"
     ]
    },
    {
     "name": "stdout",
     "output_type": "stream",
     "text": [
      "Found 2 German_shepherds in n02106662_14930.jpg\n"
     ]
    },
    {
     "name": "stderr",
     "output_type": "stream",
     "text": [
      " 71%|███████▏  | 8567/12000 [00:54<00:24, 141.30it/s]"
     ]
    },
    {
     "name": "stdout",
     "output_type": "stream",
     "text": [
      "Found 2 Dobermans in n02107142_4790.jpg\n",
      "Found 2 Dobermans in n02107142_1694.jpg\n"
     ]
    },
    {
     "name": "stderr",
     "output_type": "stream",
     "text": [
      " 72%|███████▏  | 8601/12000 [00:55<00:24, 136.81it/s]"
     ]
    },
    {
     "name": "stdout",
     "output_type": "stream",
     "text": [
      "Found 2 Dobermans in n02107142_3488.jpg\n",
      "Found 2 miniature_pinschers in n02107312_4065.jpg\n"
     ]
    },
    {
     "name": "stderr",
     "output_type": "stream",
     "text": [
      " 72%|███████▏  | 8647/12000 [00:55<00:23, 143.75it/s]"
     ]
    },
    {
     "name": "stdout",
     "output_type": "stream",
     "text": [
      "Found 2 miniature_pinschers in n02107312_2945.jpg\n",
      "Found 2 miniature_pinschers in n02107312_6080.jpg\n",
      "Found 2 miniature_pinschers in n02107312_7147.jpg\n",
      "Found 2 miniature_pinschers in n02107312_4979.jpg\n"
     ]
    },
    {
     "name": "stderr",
     "output_type": "stream",
     "text": [
      " 72%|███████▏  | 8696/12000 [00:55<00:24, 133.72it/s]"
     ]
    },
    {
     "name": "stdout",
     "output_type": "stream",
     "text": [
      "Found 2 miniature_pinschers in n02107312_7703.jpg\n"
     ]
    },
    {
     "name": "stderr",
     "output_type": "stream",
     "text": [
      " 73%|███████▎  | 8727/12000 [00:55<00:25, 129.01it/s]"
     ]
    },
    {
     "name": "stdout",
     "output_type": "stream",
     "text": [
      "Found 2 Greater_Swiss_Mountain_dogs in n02107574_2377.jpg\n",
      "Found 2 Greater_Swiss_Mountain_dogs in n02107574_2724.jpg\n",
      "Found 2 Greater_Swiss_Mountain_dogs in n02107574_2276.jpg\n"
     ]
    },
    {
     "name": "stderr",
     "output_type": "stream",
     "text": [
      " 73%|███████▎  | 8776/12000 [00:56<00:21, 146.55it/s]"
     ]
    },
    {
     "name": "stdout",
     "output_type": "stream",
     "text": [
      "Found 2 Greater_Swiss_Mountain_dogs in n02107574_835.jpg\n",
      "Found 3 Greater_Swiss_Mountain_dogs in n02107574_534.jpg\n",
      "Found 3 Greater_Swiss_Mountain_dogs in n02107574_2352.jpg\n"
     ]
    },
    {
     "name": "stderr",
     "output_type": "stream",
     "text": [
      " 73%|███████▎  | 8809/12000 [00:56<00:21, 149.52it/s]"
     ]
    },
    {
     "name": "stdout",
     "output_type": "stream",
     "text": [
      "Found 4 Greater_Swiss_Mountain_dogs in n02107574_2527.jpg\n",
      "Found 2 Greater_Swiss_Mountain_dogs in n02107574_1954.jpg\n",
      "Found 2 Bernese_mountain_dogs in n02107683_1417.jpg\n"
     ]
    },
    {
     "name": "stderr",
     "output_type": "stream",
     "text": [
      " 74%|███████▎  | 8841/12000 [00:56<00:24, 130.78it/s]"
     ]
    },
    {
     "name": "stdout",
     "output_type": "stream",
     "text": [
      "Found 2 Bernese_mountain_dogs in n02107683_522.jpg\n",
      "Found 3 Bernese_mountain_dogs in n02107683_3797.jpg\n",
      "Found 2 Bernese_mountain_dogs in n02107683_2350.jpg\n",
      "Found 2 Bernese_mountain_dogs in n02107683_6325.jpg\n"
     ]
    },
    {
     "name": "stderr",
     "output_type": "stream",
     "text": [
      " 74%|███████▍  | 8925/12000 [00:57<00:20, 152.05it/s]"
     ]
    },
    {
     "name": "stdout",
     "output_type": "stream",
     "text": [
      "Found 2 Appenzellers in n02107908_7643.jpg\n",
      "Found 2 Appenzellers in n02107908_2723.jpg\n",
      "Found 2 Appenzellers in n02107908_2499.jpg\n"
     ]
    },
    {
     "name": "stderr",
     "output_type": "stream",
     "text": [
      " 75%|███████▍  | 8958/12000 [00:57<00:19, 154.65it/s]"
     ]
    },
    {
     "name": "stdout",
     "output_type": "stream",
     "text": [
      "Found 2 Appenzellers in n02107908_2294.jpg\n",
      "Found 2 Appenzellers in n02107908_1176.jpg\n",
      "Found 4 Appenzellers in n02107908_4669.jpg\n",
      "Found 2 Appenzellers in n02107908_5002.jpg\n"
     ]
    },
    {
     "name": "stderr",
     "output_type": "stream",
     "text": [
      " 75%|███████▍  | 8993/12000 [00:57<00:19, 156.22it/s]"
     ]
    },
    {
     "name": "stdout",
     "output_type": "stream",
     "text": [
      "Found 2 Appenzellers in n02107908_180.jpg\n",
      "Found 2 EntleBuchers in n02108000_2644.jpg\n"
     ]
    },
    {
     "name": "stderr",
     "output_type": "stream",
     "text": [
      " 75%|███████▌  | 9023/12000 [00:58<00:27, 110.04it/s]"
     ]
    },
    {
     "name": "stdout",
     "output_type": "stream",
     "text": [
      "Found 4 EntleBuchers in n02108000_487.jpg\n",
      "Found 2 EntleBuchers in n02108000_620.jpg\n",
      "Found 2 EntleBuchers in n02108000_306.jpg\n",
      "Found 2 EntleBuchers in n02108000_1194.jpg\n"
     ]
    },
    {
     "name": "stderr",
     "output_type": "stream",
     "text": [
      " 75%|███████▌  | 9059/12000 [00:58<00:22, 133.37it/s]"
     ]
    },
    {
     "name": "stdout",
     "output_type": "stream",
     "text": [
      "Found 2 EntleBuchers in n02108000_3491.jpg\n",
      "Found 4 EntleBuchers in n02108000_1225.jpg\n",
      "Found 2 EntleBuchers in n02108000_3138.jpg\n",
      "Found 2 EntleBuchers in n02108000_352.jpg\n"
     ]
    },
    {
     "name": "stderr",
     "output_type": "stream",
     "text": [
      " 76%|███████▌  | 9087/12000 [00:58<00:24, 120.13it/s]"
     ]
    },
    {
     "name": "stdout",
     "output_type": "stream",
     "text": [
      "Found 4 EntleBuchers in n02108000_1832.jpg\n",
      "Found 2 EntleBuchers in n02108000_1844.jpg\n",
      "Found 2 EntleBuchers in n02108000_143.jpg\n"
     ]
    },
    {
     "name": "stderr",
     "output_type": "stream",
     "text": [
      " 76%|███████▌  | 9130/12000 [00:58<00:22, 129.54it/s]"
     ]
    },
    {
     "name": "stdout",
     "output_type": "stream",
     "text": [
      "Found 2 boxers in n02108089_10939.jpg\n"
     ]
    },
    {
     "name": "stderr",
     "output_type": "stream",
     "text": [
      " 77%|███████▋  | 9225/12000 [00:59<00:18, 149.90it/s]"
     ]
    },
    {
     "name": "stdout",
     "output_type": "stream",
     "text": [
      "Found 2 boxers in n02108089_6223.jpg\n",
      "Found 2 bull_mastiffs in n02108422_4445.jpg\n",
      "Found 2 bull_mastiffs in n02108422_2046.jpg\n",
      "Found 2 bull_mastiffs in n02108422_170.jpg\n",
      "Found 2 bull_mastiffs in n02108422_1701.jpg\n"
     ]
    },
    {
     "name": "stderr",
     "output_type": "stream",
     "text": [
      " 77%|███████▋  | 9259/12000 [00:59<00:17, 154.10it/s]"
     ]
    },
    {
     "name": "stdout",
     "output_type": "stream",
     "text": [
      "Found 2 bull_mastiffs in n02108422_2441.jpg\n"
     ]
    },
    {
     "name": "stderr",
     "output_type": "stream",
     "text": [
      " 77%|███████▋  | 9293/12000 [00:59<00:17, 159.13it/s]"
     ]
    },
    {
     "name": "stdout",
     "output_type": "stream",
     "text": [
      "Found 2 bull_mastiffs in n02108422_1548.jpg\n",
      "Found 2 bull_mastiffs in n02108422_2990.jpg\n",
      "Found 2 bull_mastiffs in n02108422_4375.jpg\n",
      "Found 2 bull_mastiffs in n02108422_3051.jpg\n"
     ]
    },
    {
     "name": "stderr",
     "output_type": "stream",
     "text": [
      " 78%|███████▊  | 9402/12000 [01:00<00:20, 127.49it/s]"
     ]
    },
    {
     "name": "stdout",
     "output_type": "stream",
     "text": [
      "Found 2 Tibetan_mastiffs in n02108551_658.jpg\n"
     ]
    },
    {
     "name": "stderr",
     "output_type": "stream",
     "text": [
      " 79%|███████▉  | 9496/12000 [01:01<00:19, 125.82it/s]"
     ]
    },
    {
     "name": "stdout",
     "output_type": "stream",
     "text": [
      "Found 2 French_bulldogs in n02108915_3575.jpg\n"
     ]
    },
    {
     "name": "stderr",
     "output_type": "stream",
     "text": [
      "\r",
      " 79%|███████▉  | 9509/12000 [01:01<00:20, 122.54it/s]"
     ]
    },
    {
     "name": "stdout",
     "output_type": "stream",
     "text": [
      "Found 2 Great_Danes in n02109047_2475.jpg\n"
     ]
    },
    {
     "name": "stderr",
     "output_type": "stream",
     "text": [
      " 79%|███████▉  | 9535/12000 [01:02<00:25, 97.88it/s] "
     ]
    },
    {
     "name": "stdout",
     "output_type": "stream",
     "text": [
      "Found 2 Great_Danes in n02109047_32692.jpg\n"
     ]
    },
    {
     "name": "stderr",
     "output_type": "stream",
     "text": [
      " 80%|███████▉  | 9579/12000 [01:02<00:25, 95.97it/s]"
     ]
    },
    {
     "name": "stdout",
     "output_type": "stream",
     "text": [
      "Found 2 Great_Danes in n02109047_2465.jpg\n",
      "Found 2 Great_Danes in n02109047_21567.jpg\n",
      "Found 2 Great_Danes in n02109047_6093.jpg\n"
     ]
    },
    {
     "name": "stderr",
     "output_type": "stream",
     "text": [
      " 80%|████████  | 9617/12000 [01:02<00:21, 109.11it/s]"
     ]
    },
    {
     "name": "stdout",
     "output_type": "stream",
     "text": [
      "Found 2 Saint_Bernards in n02109525_5498.jpg\n",
      "Found 2 Saint_Bernards in n02109525_10992.jpg\n",
      "Found 2 Saint_Bernards in n02109525_10743.jpg\n"
     ]
    },
    {
     "name": "stderr",
     "output_type": "stream",
     "text": [
      " 81%|████████  | 9661/12000 [01:03<00:18, 128.12it/s]"
     ]
    },
    {
     "name": "stdout",
     "output_type": "stream",
     "text": [
      "Found 2 Saint_Bernards in n02109525_3360.jpg\n",
      "Found 2 Saint_Bernards in n02109525_10332.jpg\n"
     ]
    },
    {
     "name": "stderr",
     "output_type": "stream",
     "text": [
      " 81%|████████  | 9721/12000 [01:03<00:18, 121.60it/s]"
     ]
    },
    {
     "name": "stdout",
     "output_type": "stream",
     "text": [
      "Found 2 Saint_Bernards in n02109525_3346.jpg\n",
      "Found 2 Eskimo_dogs in n02109961_3946.jpg\n",
      "Found 2 Eskimo_dogs in n02109961_3810.jpg\n"
     ]
    },
    {
     "name": "stderr",
     "output_type": "stream",
     "text": [
      " 81%|████████▏ | 9753/12000 [01:03<00:16, 137.78it/s]"
     ]
    },
    {
     "name": "stdout",
     "output_type": "stream",
     "text": [
      "Found 2 Eskimo_dogs in n02109961_5597.jpg\n",
      "Found 2 Eskimo_dogs in n02109961_4369.jpg\n",
      "Found 3 Eskimo_dogs in n02109961_18163.jpg\n"
     ]
    },
    {
     "name": "stderr",
     "output_type": "stream",
     "text": [
      " 82%|████████▏ | 9816/12000 [01:04<00:15, 141.27it/s]"
     ]
    },
    {
     "name": "stdout",
     "output_type": "stream",
     "text": [
      "Found 2 Eskimo_dogs in n02109961_11511.jpg\n",
      "Found 2 Eskimo_dogs in n02109961_21073.jpg\n",
      "Found 2 malamutes in n02110063_11756.jpg\n"
     ]
    },
    {
     "name": "stderr",
     "output_type": "stream",
     "text": [
      " 82%|████████▏ | 9849/12000 [01:04<00:14, 145.94it/s]"
     ]
    },
    {
     "name": "stdout",
     "output_type": "stream",
     "text": [
      "Found 2 malamutes in n02110063_12449.jpg\n",
      "Found 2 malamutes in n02110063_18180.jpg\n",
      "Found 2 malamutes in n02110063_12139.jpg\n",
      "Found 4 malamutes in n02110063_11822.jpg\n",
      "Found 2 malamutes in n02110063_7630.jpg\n",
      "Found 2 malamutes in n02110063_18538.jpg\n",
      "Found 2 malamutes in n02110063_11052.jpg\n"
     ]
    },
    {
     "name": "stderr",
     "output_type": "stream",
     "text": [
      " 82%|████████▏ | 9881/12000 [01:04<00:14, 150.24it/s]"
     ]
    },
    {
     "name": "stdout",
     "output_type": "stream",
     "text": [
      "Found 2 malamutes in n02110063_11585.jpg\n",
      "Found 2 malamutes in n02110063_11658.jpg\n",
      "Found 2 malamutes in n02110063_10589.jpg\n",
      "Found 2 malamutes in n02110063_13798.jpg\n",
      "Found 3 malamutes in n02110063_15163.jpg\n",
      "Found 2 malamutes in n02110063_12330.jpg\n"
     ]
    },
    {
     "name": "stderr",
     "output_type": "stream",
     "text": [
      " 83%|████████▎ | 9929/12000 [01:05<00:13, 148.32it/s]"
     ]
    },
    {
     "name": "stdout",
     "output_type": "stream",
     "text": [
      "Found 3 Siberian_huskys in n02110185_632.jpg\n",
      "Found 2 Siberian_huskys in n02110185_10360.jpg\n",
      "Found 2 Siberian_huskys in n02110185_11138.jpg\n",
      "Found 2 Siberian_huskys in n02110185_3651.jpg\n",
      "Found 2 Siberian_huskys in n02110185_13158.jpg\n"
     ]
    },
    {
     "name": "stderr",
     "output_type": "stream",
     "text": [
      " 83%|████████▎ | 9961/12000 [01:05<00:13, 149.26it/s]"
     ]
    },
    {
     "name": "stdout",
     "output_type": "stream",
     "text": [
      "Found 2 Siberian_huskys in n02110185_6411.jpg\n",
      "Found 2 Siberian_huskys in n02110185_815.jpg\n",
      "Found 2 Siberian_huskys in n02110185_6094.jpg\n",
      "Found 2 Siberian_huskys in n02110185_9001.jpg\n"
     ]
    },
    {
     "name": "stderr",
     "output_type": "stream",
     "text": [
      " 83%|████████▎ | 10012/12000 [01:05<00:12, 159.78it/s]"
     ]
    },
    {
     "name": "stdout",
     "output_type": "stream",
     "text": [
      "Found 2 Siberian_huskys in n02110185_6105.jpg\n",
      "Found 2 Siberian_huskys in n02110185_3039.jpg\n",
      "Found 2 Siberian_huskys in n02110185_1130.jpg\n",
      "Found 2 Siberian_huskys in n02110185_12656.jpg\n"
     ]
    },
    {
     "name": "stderr",
     "output_type": "stream",
     "text": [
      "\r",
      " 84%|████████▎ | 10032/12000 [01:05<00:11, 169.38it/s]"
     ]
    },
    {
     "name": "stdout",
     "output_type": "stream",
     "text": [
      "Found 2 affenpinschers in n02110627_11263.jpg\n"
     ]
    },
    {
     "name": "stderr",
     "output_type": "stream",
     "text": [
      " 84%|████████▍ | 10106/12000 [01:06<00:10, 175.65it/s]"
     ]
    },
    {
     "name": "stdout",
     "output_type": "stream",
     "text": [
      "Found 2 affenpinschers in n02110627_11435.jpg\n",
      "Found 2 basenjis in n02110806_4966.jpg\n"
     ]
    },
    {
     "name": "stderr",
     "output_type": "stream",
     "text": [
      " 85%|████████▍ | 10141/12000 [01:06<00:12, 149.26it/s]"
     ]
    },
    {
     "name": "stdout",
     "output_type": "stream",
     "text": [
      "Found 3 basenjis in n02110806_849.jpg\n",
      "Found 2 basenjis in n02110806_1359.jpg\n",
      "Found 2 basenjis in n02110806_3981.jpg\n",
      "Found 2 basenjis in n02110806_4463.jpg\n",
      "Found 2 basenjis in n02110806_4012.jpg\n",
      "Found 2 basenjis in n02110806_4853.jpg\n",
      "Found 2 basenjis in n02110806_5537.jpg\n"
     ]
    },
    {
     "name": "stderr",
     "output_type": "stream",
     "text": [
      " 85%|████████▍ | 10175/12000 [01:06<00:12, 146.95it/s]"
     ]
    },
    {
     "name": "stdout",
     "output_type": "stream",
     "text": [
      "Found 2 basenjis in n02110806_4876.jpg\n",
      "Found 2 basenjis in n02110806_1525.jpg\n",
      "Found 3 basenjis in n02110806_3880.jpg\n",
      "Found 2 basenjis in n02110806_3968.jpg\n"
     ]
    },
    {
     "name": "stderr",
     "output_type": "stream",
     "text": [
      " 85%|████████▌ | 10207/12000 [01:06<00:12, 147.54it/s]"
     ]
    },
    {
     "name": "stdout",
     "output_type": "stream",
     "text": [
      "Found 2 basenjis in n02110806_318.jpg\n",
      "Found 2 basenjis in n02110806_3638.jpg\n",
      "Found 2 basenjis in n02110806_5861.jpg\n",
      "Found 2 pugs in n02110958_16453.jpg\n",
      "Found 2 pugs in n02110958_11194.jpg\n"
     ]
    },
    {
     "name": "stderr",
     "output_type": "stream",
     "text": [
      " 86%|████████▌ | 10268/12000 [01:07<00:11, 147.81it/s]"
     ]
    },
    {
     "name": "stdout",
     "output_type": "stream",
     "text": [
      "Found 2 pugs in n02110958_13023.jpg\n",
      "Found 4 pugs in n02110958_15746.jpg\n",
      "Found 2 pugs in n02110958_13224.jpg\n",
      "Found 2 pugs in n02110958_13042.jpg\n"
     ]
    },
    {
     "name": "stderr",
     "output_type": "stream",
     "text": [
      " 86%|████████▌ | 10301/12000 [01:07<00:11, 149.63it/s]"
     ]
    },
    {
     "name": "stdout",
     "output_type": "stream",
     "text": [
      "Found 3 pugs in n02110958_16217.jpg\n",
      "Found 2 pugs in n02110958_13721.jpg\n",
      "Found 3 pugs in n02110958_11725.jpg\n",
      "Found 2 pugs in n02110958_13506.jpg\n",
      "Found 2 pugs in n02110958_14647.jpg\n",
      "Found 3 pugs in n02110958_11632.jpg\n",
      "Found 2 Leonbergs in n02111129_4533.jpg\n",
      "Found 3 Leonbergs in n02111129_1497.jpg\n"
     ]
    },
    {
     "name": "stderr",
     "output_type": "stream",
     "text": [
      " 86%|████████▌ | 10331/12000 [01:07<00:12, 130.62it/s]"
     ]
    },
    {
     "name": "stdout",
     "output_type": "stream",
     "text": [
      "Found 2 Leonbergs in n02111129_1656.jpg\n",
      "Found 2 Leonbergs in n02111129_3675.jpg\n",
      "Found 2 Leonbergs in n02111129_1331.jpg\n",
      "Found 2 Leonbergs in n02111129_3828.jpg\n",
      "Found 2 Leonbergs in n02111129_1708.jpg\n"
     ]
    },
    {
     "name": "stderr",
     "output_type": "stream",
     "text": [
      " 86%|████████▋ | 10362/12000 [01:07<00:11, 138.32it/s]"
     ]
    },
    {
     "name": "stdout",
     "output_type": "stream",
     "text": [
      "Found 2 Leonbergs in n02111129_1206.jpg\n",
      "Found 2 Leonbergs in n02111129_306.jpg\n",
      "Found 2 Leonbergs in n02111129_4400.jpg\n",
      "Found 3 Leonbergs in n02111129_314.jpg\n",
      "Found 2 Leonbergs in n02111129_2301.jpg\n",
      "Found 2 Leonbergs in n02111129_1851.jpg\n"
     ]
    },
    {
     "name": "stderr",
     "output_type": "stream",
     "text": [
      " 87%|████████▋ | 10409/12000 [01:08<00:11, 144.22it/s]"
     ]
    },
    {
     "name": "stdout",
     "output_type": "stream",
     "text": [
      "Found 2 Leonbergs in n02111129_5303.jpg\n",
      "Found 2 Leonbergs in n02111129_1197.jpg\n",
      "Found 2 Leonbergs in n02111129_2112.jpg\n",
      "Found 4 Leonbergs in n02111129_2063.jpg\n"
     ]
    },
    {
     "name": "stderr",
     "output_type": "stream",
     "text": [
      " 87%|████████▋ | 10454/12000 [01:08<00:11, 135.58it/s]"
     ]
    },
    {
     "name": "stdout",
     "output_type": "stream",
     "text": [
      "Found 2 Newfoundlands in n02111277_7377.jpg\n",
      "Found 2 Newfoundlands in n02111277_1628.jpg\n"
     ]
    },
    {
     "name": "stderr",
     "output_type": "stream",
     "text": [
      " 88%|████████▊ | 10549/12000 [01:09<00:10, 143.12it/s]"
     ]
    },
    {
     "name": "stdout",
     "output_type": "stream",
     "text": [
      "Found 2 Great_Pyreneess in n02111500_855.jpg\n",
      "Found 2 Great_Pyreneess in n02111500_2058.jpg\n",
      "Found 2 Great_Pyreneess in n02111500_5750.jpg\n",
      "Found 2 Great_Pyreneess in n02111500_6338.jpg\n",
      "Found 2 Great_Pyreneess in n02111500_5104.jpg\n"
     ]
    },
    {
     "name": "stderr",
     "output_type": "stream",
     "text": [
      " 88%|████████▊ | 10582/12000 [01:09<00:09, 148.73it/s]"
     ]
    },
    {
     "name": "stdout",
     "output_type": "stream",
     "text": [
      "Found 2 Great_Pyreneess in n02111500_7229.jpg\n",
      "Found 2 Great_Pyreneess in n02111500_5059.jpg\n",
      "Found 2 Great_Pyreneess in n02111500_5801.jpg\n",
      "Found 2 Great_Pyreneess in n02111500_2272.jpg\n",
      "Found 2 Great_Pyreneess in n02111500_8178.jpg\n"
     ]
    },
    {
     "name": "stderr",
     "output_type": "stream",
     "text": [
      " 89%|████████▊ | 10646/12000 [01:09<00:08, 152.29it/s]"
     ]
    },
    {
     "name": "stdout",
     "output_type": "stream",
     "text": [
      "Found 2 Samoyeds in n02111889_3253.jpg\n",
      "Found 2 Samoyeds in n02111889_2029.jpg\n",
      "Found 2 Samoyeds in n02111889_2820.jpg\n",
      "Found 2 Samoyeds in n02111889_3399.jpg\n"
     ]
    },
    {
     "name": "stderr",
     "output_type": "stream",
     "text": [
      " 89%|████████▉ | 10682/12000 [01:10<00:08, 163.87it/s]"
     ]
    },
    {
     "name": "stdout",
     "output_type": "stream",
     "text": [
      "Found 2 Samoyeds in n02111889_7083.jpg\n",
      "Found 2 Samoyeds in n02111889_3499.jpg\n",
      "Found 2 Samoyeds in n02111889_5145.jpg\n"
     ]
    },
    {
     "name": "stderr",
     "output_type": "stream",
     "text": [
      " 90%|████████▉ | 10784/12000 [01:10<00:07, 155.66it/s]"
     ]
    },
    {
     "name": "stdout",
     "output_type": "stream",
     "text": [
      "Found 2 Pomeranians in n02112018_150.jpg\n",
      "Found 2 Pomeranians in n02112018_10937.jpg\n"
     ]
    },
    {
     "name": "stderr",
     "output_type": "stream",
     "text": [
      " 90%|█████████ | 10816/12000 [01:11<00:08, 144.34it/s]"
     ]
    },
    {
     "name": "stdout",
     "output_type": "stream",
     "text": [
      "Found 2 chows in n02112137_2250.jpg\n",
      "Found 2 chows in n02112137_1976.jpg\n"
     ]
    },
    {
     "name": "stderr",
     "output_type": "stream",
     "text": [
      " 90%|█████████ | 10846/12000 [01:11<00:08, 137.43it/s]"
     ]
    },
    {
     "name": "stdout",
     "output_type": "stream",
     "text": [
      "Found 2 chows in n02112137_2411.jpg\n",
      "Found 2 chows in n02112137_7340.jpg\n"
     ]
    },
    {
     "name": "stderr",
     "output_type": "stream",
     "text": [
      " 91%|█████████ | 10888/12000 [01:11<00:08, 134.60it/s]"
     ]
    },
    {
     "name": "stdout",
     "output_type": "stream",
     "text": [
      "Found 2 chows in n02112137_2376.jpg\n"
     ]
    },
    {
     "name": "stderr",
     "output_type": "stream",
     "text": [
      " 92%|█████████▏| 10980/12000 [01:12<00:06, 149.16it/s]"
     ]
    },
    {
     "name": "stdout",
     "output_type": "stream",
     "text": [
      "Found 3 keeshonds in n02112350_8177.jpg\n",
      "Found 2 keeshonds in n02112350_9071.jpg\n",
      "Found 2 keeshonds in n02112350_9300.jpg\n",
      "Found 2 keeshonds in n02112350_8278.jpg\n",
      "Found 2 keeshonds in n02112350_6927.jpg\n"
     ]
    },
    {
     "name": "stderr",
     "output_type": "stream",
     "text": [
      " 92%|█████████▏| 11030/12000 [01:12<00:06, 156.49it/s]"
     ]
    },
    {
     "name": "stdout",
     "output_type": "stream",
     "text": [
      "Found 2 keeshonds in n02112350_10283.jpg\n"
     ]
    },
    {
     "name": "stderr",
     "output_type": "stream",
     "text": [
      " 93%|█████████▎| 11119/12000 [01:13<00:05, 150.86it/s]"
     ]
    },
    {
     "name": "stdout",
     "output_type": "stream",
     "text": [
      "Found 2 Pembrokes in n02113023_4796.jpg\n",
      "Found 2 Pembrokes in n02113023_4972.jpg\n"
     ]
    },
    {
     "name": "stderr",
     "output_type": "stream",
     "text": [
      " 93%|█████████▎| 11183/12000 [01:13<00:05, 155.26it/s]"
     ]
    },
    {
     "name": "stdout",
     "output_type": "stream",
     "text": [
      "Found 2 Pembrokes in n02113023_6508.jpg\n",
      "Found 2 Pembrokes in n02113023_1976.jpg\n",
      "Found 2 Pembrokes in n02113023_591.jpg\n",
      "Found 2 Pembrokes in n02113023_724.jpg\n",
      "Found 2 Pembrokes in n02113023_15144.jpg\n",
      "Found 2 Pembrokes in n02113023_292.jpg\n"
     ]
    },
    {
     "name": "stderr",
     "output_type": "stream",
     "text": [
      " 93%|█████████▎| 11216/12000 [01:13<00:04, 157.15it/s]"
     ]
    },
    {
     "name": "stdout",
     "output_type": "stream",
     "text": [
      "Found 2 Pembrokes in n02113023_4391.jpg\n",
      "Found 3 Cardigans in n02113186_11704.jpg\n",
      "Found 2 Cardigans in n02113186_1612.jpg\n"
     ]
    },
    {
     "name": "stderr",
     "output_type": "stream",
     "text": [
      " 94%|█████████▎| 11247/12000 [01:13<00:05, 147.28it/s]"
     ]
    },
    {
     "name": "stdout",
     "output_type": "stream",
     "text": [
      "Found 2 Cardigans in n02113186_10535.jpg\n",
      "Found 2 Cardigans in n02113186_6408.jpg\n"
     ]
    },
    {
     "name": "stderr",
     "output_type": "stream",
     "text": [
      " 94%|█████████▍| 11277/12000 [01:14<00:05, 139.78it/s]"
     ]
    },
    {
     "name": "stdout",
     "output_type": "stream",
     "text": [
      "Found 2 Cardigans in n02113186_11685.jpg\n",
      "Found 2 Cardigans in n02113186_2994.jpg\n",
      "Found 2 Cardigans in n02113186_13533.jpg\n"
     ]
    },
    {
     "name": "stderr",
     "output_type": "stream",
     "text": [
      " 94%|█████████▍| 11310/12000 [01:14<00:04, 149.44it/s]"
     ]
    },
    {
     "name": "stdout",
     "output_type": "stream",
     "text": [
      "Found 2 Cardigans in n02113186_7676.jpg\n",
      "Found 2 toy_poodles in n02113624_1804.jpg\n"
     ]
    },
    {
     "name": "stderr",
     "output_type": "stream",
     "text": [
      " 95%|█████████▍| 11356/12000 [01:14<00:04, 145.63it/s]"
     ]
    },
    {
     "name": "stdout",
     "output_type": "stream",
     "text": [
      "Found 2 toy_poodles in n02113624_8943.jpg\n",
      "Found 2 toy_poodles in n02113624_4349.jpg\n"
     ]
    },
    {
     "name": "stderr",
     "output_type": "stream",
     "text": [
      " 95%|█████████▌| 11404/12000 [01:14<00:03, 149.51it/s]"
     ]
    },
    {
     "name": "stdout",
     "output_type": "stream",
     "text": [
      "Found 2 toy_poodles in n02113624_3462.jpg\n",
      "Found 2 toy_poodles in n02113624_3061.jpg\n",
      "Found 2 miniature_poodles in n02113712_2405.jpg\n"
     ]
    },
    {
     "name": "stderr",
     "output_type": "stream",
     "text": [
      " 95%|█████████▌| 11436/12000 [01:15<00:03, 150.07it/s]"
     ]
    },
    {
     "name": "stdout",
     "output_type": "stream",
     "text": [
      "Found 2 miniature_poodles in n02113712_9682.jpg\n",
      "Found 2 miniature_poodles in n02113712_936.jpg\n"
     ]
    },
    {
     "name": "stderr",
     "output_type": "stream",
     "text": [
      " 96%|█████████▌| 11484/12000 [01:15<00:03, 149.72it/s]"
     ]
    },
    {
     "name": "stdout",
     "output_type": "stream",
     "text": [
      "Found 2 miniature_poodles in n02113712_1252.jpg\n"
     ]
    },
    {
     "name": "stderr",
     "output_type": "stream",
     "text": [
      " 96%|█████████▌| 11530/12000 [01:15<00:03, 141.88it/s]"
     ]
    },
    {
     "name": "stdout",
     "output_type": "stream",
     "text": [
      "Found 2 standard_poodles in n02113799_5766.jpg\n",
      "Found 2 standard_poodles in n02113799_3098.jpg\n",
      "Found 2 standard_poodles in n02113799_2932.jpg\n",
      "Found 3 standard_poodles in n02113799_2466.jpg\n"
     ]
    },
    {
     "name": "stderr",
     "output_type": "stream",
     "text": [
      " 96%|█████████▋| 11561/12000 [01:16<00:02, 146.45it/s]"
     ]
    },
    {
     "name": "stdout",
     "output_type": "stream",
     "text": [
      "Found 2 standard_poodles in n02113799_1344.jpg\n",
      "Found 2 standard_poodles in n02113799_6704.jpg\n",
      "Found 2 standard_poodles in n02113799_1536.jpg\n"
     ]
    },
    {
     "name": "stderr",
     "output_type": "stream",
     "text": [
      " 97%|█████████▋| 11591/12000 [01:16<00:02, 142.09it/s]"
     ]
    },
    {
     "name": "stdout",
     "output_type": "stream",
     "text": [
      "Found 2 standard_poodles in n02113799_5973.jpg\n",
      "Found 2 standard_poodles in n02113799_1539.jpg\n"
     ]
    },
    {
     "name": "stderr",
     "output_type": "stream",
     "text": [
      " 97%|█████████▋| 11636/12000 [01:16<00:02, 140.93it/s]"
     ]
    },
    {
     "name": "stdout",
     "output_type": "stream",
     "text": [
      "Found 2 Mexican_hairlesss in n02113978_1773.jpg\n"
     ]
    },
    {
     "name": "stderr",
     "output_type": "stream",
     "text": [
      " 98%|█████████▊| 11702/12000 [01:17<00:01, 150.82it/s]"
     ]
    },
    {
     "name": "stdout",
     "output_type": "stream",
     "text": [
      "Found 2 Mexican_hairlesss in n02113978_2508.jpg\n",
      "Found 2 Mexican_hairlesss in n02113978_838.jpg\n",
      "Found 2 Mexican_hairlesss in n02113978_593.jpg\n"
     ]
    },
    {
     "name": "stderr",
     "output_type": "stream",
     "text": [
      " 98%|█████████▊| 11766/12000 [01:17<00:01, 152.90it/s]"
     ]
    },
    {
     "name": "stdout",
     "output_type": "stream",
     "text": [
      "Found 2 dingos in n02115641_13269.jpg\n",
      "Found 2 dingos in n02115641_5798.jpg\n"
     ]
    },
    {
     "name": "stderr",
     "output_type": "stream",
     "text": [
      " 98%|█████████▊| 11800/12000 [01:17<00:01, 157.98it/s]"
     ]
    },
    {
     "name": "stdout",
     "output_type": "stream",
     "text": [
      "Found 2 dingos in n02115641_11699.jpg\n",
      "Found 3 dingos in n02115641_877.jpg\n",
      "Found 2 dingos in n02115641_1145.jpg\n",
      "Found 2 dholes in n02115913_4128.jpg\n"
     ]
    },
    {
     "name": "stderr",
     "output_type": "stream",
     "text": [
      " 99%|█████████▊| 11833/12000 [01:18<00:01, 125.38it/s]"
     ]
    },
    {
     "name": "stdout",
     "output_type": "stream",
     "text": [
      "Found 2 dholes in n02115913_5418.jpg\n",
      "Found 2 dholes in n02115913_3229.jpg\n",
      "Found 4 dholes in n02115913_1047.jpg\n",
      "Found 2 dholes in n02115913_4110.jpg\n",
      "Found 3 dholes in n02115913_3178.jpg\n",
      "Found 3 dholes in n02115913_3740.jpg\n",
      "Found 2 dholes in n02115913_739.jpg\n",
      "Found 2 dholes in n02115913_3863.jpg\n"
     ]
    },
    {
     "name": "stderr",
     "output_type": "stream",
     "text": [
      " 99%|█████████▉| 11868/12000 [01:18<00:00, 143.57it/s]"
     ]
    },
    {
     "name": "stdout",
     "output_type": "stream",
     "text": [
      "Found 2 dholes in n02115913_5593.jpg\n",
      "Found 2 dholes in n02115913_4031.jpg\n",
      "Found 2 dholes in n02115913_1323.jpg\n"
     ]
    },
    {
     "name": "stderr",
     "output_type": "stream",
     "text": [
      " 99%|█████████▉| 11903/12000 [01:18<00:00, 155.45it/s]"
     ]
    },
    {
     "name": "stdout",
     "output_type": "stream",
     "text": [
      "Found 5 dholes in n02115913_3107.jpg\n",
      "Found 2 African_hunting_dogs in n02116738_4758.jpg\n",
      "Found 2 African_hunting_dogs in n02116738_4796.jpg\n",
      "Found 2 African_hunting_dogs in n02116738_1097.jpg\n",
      "Found 3 African_hunting_dogs in n02116738_6746.jpg\n"
     ]
    },
    {
     "name": "stderr",
     "output_type": "stream",
     "text": [
      " 99%|█████████▉| 11936/12000 [01:18<00:00, 142.83it/s]"
     ]
    },
    {
     "name": "stdout",
     "output_type": "stream",
     "text": [
      "Found 2 African_hunting_dogs in n02116738_6748.jpg\n",
      "Found 2 African_hunting_dogs in n02116738_4323.jpg\n",
      "Found 2 African_hunting_dogs in n02116738_2327.jpg\n",
      "Found 2 African_hunting_dogs in n02116738_1180.jpg\n",
      "Found 2 African_hunting_dogs in n02116738_9844.jpg\n",
      "Found 2 African_hunting_dogs in n02116738_5635.jpg\n",
      "Found 3 African_hunting_dogs in n02116738_7170.jpg\n",
      "Found 2 African_hunting_dogs in n02116738_10469.jpg\n"
     ]
    },
    {
     "name": "stderr",
     "output_type": "stream",
     "text": [
      "100%|█████████▉| 11969/12000 [01:18<00:00, 151.33it/s]"
     ]
    },
    {
     "name": "stdout",
     "output_type": "stream",
     "text": [
      "Found 2 African_hunting_dogs in n02116738_7008.jpg\n",
      "Found 2 African_hunting_dogs in n02116738_8738.jpg\n",
      "Found 2 African_hunting_dogs in n02116738_246.jpg\n"
     ]
    },
    {
     "name": "stderr",
     "output_type": "stream",
     "text": [
      "100%|██████████| 12000/12000 [01:19<00:00, 151.61it/s]"
     ]
    },
    {
     "name": "stdout",
     "output_type": "stream",
     "text": [
      "Found 2 African_hunting_dogs in n02116738_10640.jpg\n",
      "Found 2 African_hunting_dogs in n02116738_4732.jpg\n",
      "Found 2 African_hunting_dogs in n02116738_6044.jpg\n",
      "Found 2 African_hunting_dogs in n02116738_7122.jpg\n",
      "Found 2 African_hunting_dogs in n02116738_8662.jpg\n",
      "Found 2 African_hunting_dogs in n02116738_9282.jpg\n",
      "Found 2 African_hunting_dogs in n02116738_6754.jpg\n",
      "Found 2 African_hunting_dogs in n02116738_9333.jpg\n",
      "\tTotal of 1640 multiples found in 763 images\n",
      "Finished preparing train data!!\n"
     ]
    },
    {
     "name": "stderr",
     "output_type": "stream",
     "text": [
      "\n",
      "  0%|          | 37/8580 [00:00<01:47, 79.30it/s] "
     ]
    },
    {
     "name": "stdout",
     "output_type": "stream",
     "text": [
      "Found 2 Chihuahuas in n02085620_2204.jpg\n"
     ]
    },
    {
     "name": "stderr",
     "output_type": "stream",
     "text": [
      "  1%|          | 85/8580 [00:00<01:13, 115.26it/s]"
     ]
    },
    {
     "name": "stdout",
     "output_type": "stream",
     "text": [
      "Found 3 Japanese_spaniels in n02085782_4698.jpg\n",
      "Found 2 Japanese_spaniels in n02085782_2695.jpg\n",
      "Found 2 Japanese_spaniels in n02085782_3158.jpg\n",
      "Found 2 Japanese_spaniels in n02085782_1600.jpg\n"
     ]
    },
    {
     "name": "stderr",
     "output_type": "stream",
     "text": [
      "  1%|▏         | 125/8580 [00:00<00:58, 144.60it/s]"
     ]
    },
    {
     "name": "stdout",
     "output_type": "stream",
     "text": [
      "Found 2 Japanese_spaniels in n02085782_749.jpg\n",
      "Found 2 Japanese_spaniels in n02085782_2100.jpg\n",
      "Found 2 Maltese_dogs in n02085936_2760.jpg\n"
     ]
    },
    {
     "name": "stderr",
     "output_type": "stream",
     "text": [
      "  2%|▏         | 209/8580 [00:01<00:56, 148.20it/s]"
     ]
    },
    {
     "name": "stdout",
     "output_type": "stream",
     "text": [
      "Found 2 Maltese_dogs in n02085936_2020.jpg\n",
      "Found 2 Maltese_dogs in n02085936_6034.jpg\n"
     ]
    },
    {
     "name": "stderr",
     "output_type": "stream",
     "text": [
      "  3%|▎         | 260/8580 [00:01<00:53, 154.25it/s]"
     ]
    },
    {
     "name": "stdout",
     "output_type": "stream",
     "text": [
      "Found 2 Maltese_dogs in n02085936_18114.jpg\n",
      "Found 2 Maltese_dogs in n02085936_7574.jpg\n"
     ]
    },
    {
     "name": "stderr",
     "output_type": "stream",
     "text": [
      "  4%|▍         | 330/8580 [00:02<00:49, 165.02it/s]"
     ]
    },
    {
     "name": "stdout",
     "output_type": "stream",
     "text": [
      "Found 2 Pekineses in n02086079_7817.jpg\n"
     ]
    },
    {
     "name": "stderr",
     "output_type": "stream",
     "text": [
      "  4%|▍         | 364/8580 [00:02<00:52, 155.10it/s]"
     ]
    },
    {
     "name": "stdout",
     "output_type": "stream",
     "text": [
      "Found 2 Shihs in n02086240_6911.jpg\n",
      "Found 2 Shihs in n02086240_707.jpg\n",
      "Found 2 Shihs in n02086240_4570.jpg\n",
      "Found 2 Shihs in n02086240_1927.jpg\n"
     ]
    },
    {
     "name": "stderr",
     "output_type": "stream",
     "text": [
      "  5%|▍         | 397/8580 [00:02<00:52, 154.49it/s]"
     ]
    },
    {
     "name": "stdout",
     "output_type": "stream",
     "text": [
      "Found 2 Shihs in n02086240_1843.jpg\n",
      "Found 2 Shihs in n02086240_646.jpg\n",
      "Found 3 Shihs in n02086240_271.jpg\n"
     ]
    },
    {
     "name": "stderr",
     "output_type": "stream",
     "text": [
      "  5%|▌         | 430/8580 [00:02<00:52, 154.17it/s]"
     ]
    },
    {
     "name": "stdout",
     "output_type": "stream",
     "text": [
      "Found 2 Shihs in n02086240_306.jpg\n",
      "Found 2 Shihs in n02086240_8489.jpg\n",
      "Found 2 Shihs in n02086240_7195.jpg\n"
     ]
    },
    {
     "name": "stderr",
     "output_type": "stream",
     "text": [
      "  6%|▌         | 479/8580 [00:03<00:54, 147.33it/s]"
     ]
    },
    {
     "name": "stdout",
     "output_type": "stream",
     "text": [
      "Found 2 Blenheim_spaniels in n02086646_3721.jpg\n"
     ]
    },
    {
     "name": "stderr",
     "output_type": "stream",
     "text": [
      "  6%|▌         | 516/8580 [00:03<00:53, 150.84it/s]"
     ]
    },
    {
     "name": "stdout",
     "output_type": "stream",
     "text": [
      "Found 2 Blenheim_spaniels in n02086646_3536.jpg\n",
      "Found 2 Blenheim_spaniels in n02086646_3.jpg\n",
      "Found 3 Blenheim_spaniels in n02086646_2932.jpg\n"
     ]
    },
    {
     "name": "stderr",
     "output_type": "stream",
     "text": [
      "  6%|▋         | 552/8580 [00:03<00:51, 156.94it/s]"
     ]
    },
    {
     "name": "stdout",
     "output_type": "stream",
     "text": [
      "Found 2 Blenheim_spaniels in n02086646_3429.jpg\n",
      "Found 3 Blenheim_spaniels in n02086646_2355.jpg\n",
      "Found 2 papillons in n02086910_7766.jpg\n",
      "Found 2 papillons in n02086910_7456.jpg\n"
     ]
    },
    {
     "name": "stderr",
     "output_type": "stream",
     "text": [
      "  7%|▋         | 584/8580 [00:03<00:51, 154.32it/s]"
     ]
    },
    {
     "name": "stdout",
     "output_type": "stream",
     "text": [
      "Found 3 papillons in n02086910_3714.jpg\n",
      "Found 2 papillons in n02086910_6305.jpg\n",
      "Found 2 papillons in n02086910_984.jpg\n"
     ]
    },
    {
     "name": "stderr",
     "output_type": "stream",
     "text": [
      "  7%|▋         | 637/8580 [00:04<00:48, 163.58it/s]"
     ]
    },
    {
     "name": "stdout",
     "output_type": "stream",
     "text": [
      "Found 2 papillons in n02086910_5399.jpg\n",
      "Found 2 toy_terriers in n02087046_5347.jpg\n"
     ]
    },
    {
     "name": "stderr",
     "output_type": "stream",
     "text": [
      "  8%|▊         | 724/8580 [00:04<00:48, 160.85it/s]"
     ]
    },
    {
     "name": "stdout",
     "output_type": "stream",
     "text": [
      "Found 2 toy_terriers in n02087046_296.jpg\n",
      "Found 2 Rhodesian_ridgebacks in n02087394_9564.jpg\n"
     ]
    },
    {
     "name": "stderr",
     "output_type": "stream",
     "text": [
      "  9%|▉         | 760/8580 [00:04<00:50, 153.59it/s]"
     ]
    },
    {
     "name": "stdout",
     "output_type": "stream",
     "text": [
      "Found 2 Rhodesian_ridgebacks in n02087394_101.jpg\n",
      "Found 2 Rhodesian_ridgebacks in n02087394_9511.jpg\n",
      "Found 2 Rhodesian_ridgebacks in n02087394_9922.jpg\n",
      "Found 2 Rhodesian_ridgebacks in n02087394_9128.jpg\n",
      "Found 2 Rhodesian_ridgebacks in n02087394_8591.jpg\n",
      "Found 2 Rhodesian_ridgebacks in n02087394_2364.jpg\n",
      "Found 2 Rhodesian_ridgebacks in n02087394_138.jpg\n"
     ]
    },
    {
     "name": "stderr",
     "output_type": "stream",
     "text": [
      "  9%|▉         | 808/8580 [00:05<00:51, 151.45it/s]"
     ]
    },
    {
     "name": "stdout",
     "output_type": "stream",
     "text": [
      "Found 2 Afghan_hounds in n02088094_12664.jpg\n",
      "Found 2 Afghan_hounds in n02088094_4501.jpg\n",
      "Found 2 Afghan_hounds in n02088094_1370.jpg\n"
     ]
    },
    {
     "name": "stderr",
     "output_type": "stream",
     "text": [
      " 10%|▉         | 839/8580 [00:05<00:52, 146.55it/s]"
     ]
    },
    {
     "name": "stdout",
     "output_type": "stream",
     "text": [
      "Found 2 Afghan_hounds in n02088094_6372.jpg\n",
      "Found 2 Afghan_hounds in n02088094_8290.jpg\n",
      "Found 2 Afghan_hounds in n02088094_11570.jpg\n"
     ]
    },
    {
     "name": "stderr",
     "output_type": "stream",
     "text": [
      " 10%|█         | 887/8580 [00:05<00:50, 152.78it/s]"
     ]
    },
    {
     "name": "stdout",
     "output_type": "stream",
     "text": [
      "Found 2 Afghan_hounds in n02088094_1882.jpg\n",
      "Found 2 Afghan_hounds in n02088094_5855.jpg\n",
      "Found 2 Afghan_hounds in n02088094_4027.jpg\n",
      "Found 2 Afghan_hounds in n02088094_2732.jpg\n",
      "Found 2 Afghan_hounds in n02088094_7229.jpg\n",
      "Found 2 Afghan_hounds in n02088094_1023.jpg\n",
      "Found 2 Afghan_hounds in n02088094_3949.jpg\n",
      "Found 2 Afghan_hounds in n02088094_8315.jpg\n"
     ]
    },
    {
     "name": "stderr",
     "output_type": "stream",
     "text": [
      " 11%|█         | 919/8580 [00:06<00:52, 147.19it/s]"
     ]
    },
    {
     "name": "stdout",
     "output_type": "stream",
     "text": [
      "Found 2 Afghan_hounds in n02088094_5355.jpg\n",
      "Found 2 Afghan_hounds in n02088094_26.jpg\n",
      "Found 2 Afghan_hounds in n02088094_1222.jpg\n",
      "Found 2 Afghan_hounds in n02088094_913.jpg\n",
      "Found 2 Afghan_hounds in n02088094_3858.jpg\n",
      "Found 2 Afghan_hounds in n02088094_1126.jpg\n",
      "Found 2 Afghan_hounds in n02088094_7636.jpg\n"
     ]
    },
    {
     "name": "stderr",
     "output_type": "stream",
     "text": [
      " 11%|█▏        | 982/8580 [00:06<00:54, 140.59it/s]"
     ]
    },
    {
     "name": "stdout",
     "output_type": "stream",
     "text": [
      "Found 2 bassets in n02088238_7233.jpg\n",
      "Found 2 bassets in n02088238_10051.jpg\n",
      "Found 2 bassets in n02088238_10013.jpg\n"
     ]
    },
    {
     "name": "stderr",
     "output_type": "stream",
     "text": [
      " 12%|█▏        | 1027/8580 [00:06<00:54, 138.61it/s]"
     ]
    },
    {
     "name": "stdout",
     "output_type": "stream",
     "text": [
      "Found 2 beagles in n02088364_12102.jpg\n",
      "Found 2 beagles in n02088364_15877.jpg\n",
      "Found 2 beagles in n02088364_5784.jpg\n",
      "Found 2 beagles in n02088364_9895.jpg\n",
      "Found 2 beagles in n02088364_8572.jpg\n"
     ]
    },
    {
     "name": "stderr",
     "output_type": "stream",
     "text": [
      " 12%|█▏        | 1072/8580 [00:07<00:54, 137.17it/s]"
     ]
    },
    {
     "name": "stdout",
     "output_type": "stream",
     "text": [
      "Found 2 beagles in n02088364_16704.jpg\n"
     ]
    },
    {
     "name": "stderr",
     "output_type": "stream",
     "text": [
      " 13%|█▎        | 1135/8580 [00:07<00:50, 147.24it/s]"
     ]
    },
    {
     "name": "stdout",
     "output_type": "stream",
     "text": [
      "Found 2 bloodhounds in n02088466_11903.jpg\n",
      "Found 2 bloodhounds in n02088466_6901.jpg\n",
      "Found 2 bloodhounds in n02088466_11827.jpg\n"
     ]
    },
    {
     "name": "stderr",
     "output_type": "stream",
     "text": [
      " 14%|█▎        | 1168/8580 [00:07<01:00, 122.15it/s]"
     ]
    },
    {
     "name": "stdout",
     "output_type": "stream",
     "text": [
      "Found 2 bloodhounds in n02088466_8064.jpg\n",
      "Found 2 bloodhounds in n02088466_7091.jpg\n",
      "Found 2 bloodhounds in n02088466_8801.jpg\n"
     ]
    },
    {
     "name": "stderr",
     "output_type": "stream",
     "text": [
      " 14%|█▍        | 1229/8580 [00:08<00:52, 139.98it/s]"
     ]
    },
    {
     "name": "stdout",
     "output_type": "stream",
     "text": [
      "Found 2 blueticks in n02088632_686.jpg\n"
     ]
    },
    {
     "name": "stderr",
     "output_type": "stream",
     "text": [
      " 16%|█▌        | 1356/8580 [00:09<00:45, 157.04it/s]"
     ]
    },
    {
     "name": "stdout",
     "output_type": "stream",
     "text": [
      "Found 2 Walker_hounds in n02089867_142.jpg\n"
     ]
    },
    {
     "name": "stderr",
     "output_type": "stream",
     "text": [
      " 16%|█▌        | 1392/8580 [00:09<00:43, 166.84it/s]"
     ]
    },
    {
     "name": "stdout",
     "output_type": "stream",
     "text": [
      "Found 2 English_foxhounds in n02089973_1458.jpg\n",
      "Found 4 English_foxhounds in n02089973_1352.jpg\n",
      "Found 2 English_foxhounds in n02089973_4307.jpg\n",
      "Found 2 English_foxhounds in n02089973_2608.jpg\n"
     ]
    },
    {
     "name": "stderr",
     "output_type": "stream",
     "text": [
      " 17%|█▋        | 1424/8580 [00:09<00:53, 133.29it/s]"
     ]
    },
    {
     "name": "stdout",
     "output_type": "stream",
     "text": [
      "Found 2 English_foxhounds in n02089973_1357.jpg\n",
      "Found 4 English_foxhounds in n02089973_3113.jpg\n"
     ]
    },
    {
     "name": "stderr",
     "output_type": "stream",
     "text": [
      " 17%|█▋        | 1484/8580 [00:10<00:50, 139.33it/s]"
     ]
    },
    {
     "name": "stdout",
     "output_type": "stream",
     "text": [
      "Found 2 borzois in n02090622_8703.jpg\n",
      "Found 2 borzois in n02090622_9358.jpg\n",
      "Found 2 borzois in n02090622_266.jpg\n"
     ]
    },
    {
     "name": "stderr",
     "output_type": "stream",
     "text": [
      " 18%|█▊        | 1532/8580 [00:10<00:50, 140.12it/s]"
     ]
    },
    {
     "name": "stdout",
     "output_type": "stream",
     "text": [
      "Found 2 borzois in n02090622_6204.jpg\n",
      "Found 2 borzois in n02090622_7732.jpg\n",
      "Found 2 borzois in n02090622_8509.jpg\n",
      "Found 2 Irish_wolfhounds in n02090721_4130.jpg\n",
      "Found 2 Irish_wolfhounds in n02090721_1534.jpg\n",
      "Found 2 Irish_wolfhounds in n02090721_708.jpg\n",
      "Found 2 Irish_wolfhounds in n02090721_2361.jpg\n",
      "Found 2 Irish_wolfhounds in n02090721_519.jpg\n"
     ]
    },
    {
     "name": "stderr",
     "output_type": "stream",
     "text": [
      " 18%|█▊        | 1563/8580 [00:10<00:48, 145.46it/s]"
     ]
    },
    {
     "name": "stdout",
     "output_type": "stream",
     "text": [
      "Found 2 Irish_wolfhounds in n02090721_1835.jpg\n",
      "Found 3 Irish_wolfhounds in n02090721_3417.jpg\n",
      "Found 2 Irish_wolfhounds in n02090721_3999.jpg\n",
      "Found 3 Irish_wolfhounds in n02090721_4133.jpg\n",
      "Found 2 Irish_wolfhounds in n02090721_2254.jpg\n",
      "Found 2 Irish_wolfhounds in n02090721_728.jpg\n",
      "Found 2 Irish_wolfhounds in n02090721_1292.jpg\n"
     ]
    },
    {
     "name": "stderr",
     "output_type": "stream",
     "text": [
      " 19%|█▊        | 1597/8580 [00:10<00:44, 155.24it/s]"
     ]
    },
    {
     "name": "stdout",
     "output_type": "stream",
     "text": [
      "Found 2 Irish_wolfhounds in n02090721_4089.jpg\n",
      "Found 2 Irish_wolfhounds in n02090721_2550.jpg\n",
      "Found 2 Irish_wolfhounds in n02090721_3555.jpg\n",
      "Found 3 Irish_wolfhounds in n02090721_1761.jpg\n",
      "Found 2 Irish_wolfhounds in n02090721_4207.jpg\n"
     ]
    },
    {
     "name": "stderr",
     "output_type": "stream",
     "text": [
      " 19%|█▉        | 1645/8580 [00:11<00:49, 140.77it/s]"
     ]
    },
    {
     "name": "stdout",
     "output_type": "stream",
     "text": [
      "Found 3 Irish_wolfhounds in n02090721_503.jpg\n",
      "Found 3 Irish_wolfhounds in n02090721_448.jpg\n",
      "Found 3 Italian_greyhounds in n02091032_11549.jpg\n",
      "Found 2 Italian_greyhounds in n02091032_770.jpg\n",
      "Found 2 Italian_greyhounds in n02091032_1743.jpg\n",
      "Found 2 Italian_greyhounds in n02091032_9628.jpg\n",
      "Found 2 Italian_greyhounds in n02091032_6728.jpg\n",
      "Found 2 Italian_greyhounds in n02091032_347.jpg\n"
     ]
    },
    {
     "name": "stderr",
     "output_type": "stream",
     "text": [
      " 20%|█▉        | 1676/8580 [00:11<00:49, 140.54it/s]"
     ]
    },
    {
     "name": "stdout",
     "output_type": "stream",
     "text": [
      "Found 2 Italian_greyhounds in n02091032_5526.jpg\n",
      "Found 2 Italian_greyhounds in n02091032_3965.jpg\n",
      "Found 2 Italian_greyhounds in n02091032_904.jpg\n",
      "Found 3 Italian_greyhounds in n02091032_10079.jpg\n",
      "Found 2 Italian_greyhounds in n02091032_6179.jpg\n",
      "Found 2 Italian_greyhounds in n02091032_212.jpg\n"
     ]
    },
    {
     "name": "stderr",
     "output_type": "stream",
     "text": [
      " 20%|██        | 1723/8580 [00:11<00:47, 143.12it/s]"
     ]
    },
    {
     "name": "stdout",
     "output_type": "stream",
     "text": [
      "Found 2 Italian_greyhounds in n02091032_9405.jpg\n",
      "Found 2 Italian_greyhounds in n02091032_7548.jpg\n",
      "Found 2 Italian_greyhounds in n02091032_8244.jpg\n",
      "Found 3 Italian_greyhounds in n02091032_3564.jpg\n",
      "Found 2 Italian_greyhounds in n02091032_9592.jpg\n",
      "Found 2 Italian_greyhounds in n02091032_3277.jpg\n",
      "Found 2 Italian_greyhounds in n02091032_4210.jpg\n",
      "Found 4 Italian_greyhounds in n02091032_3886.jpg\n",
      "Found 2 whippets in n02091134_14363.jpg\n"
     ]
    },
    {
     "name": "stderr",
     "output_type": "stream",
     "text": [
      " 20%|██        | 1753/8580 [00:11<00:48, 141.71it/s]"
     ]
    },
    {
     "name": "stdout",
     "output_type": "stream",
     "text": [
      "Found 3 whippets in n02091134_14246.jpg\n",
      "Found 2 whippets in n02091134_10545.jpg\n",
      "Found 3 whippets in n02091134_14209.jpg\n",
      "Found 3 whippets in n02091134_19129.jpg\n",
      "Found 2 whippets in n02091134_19084.jpg\n",
      "Found 2 whippets in n02091134_13879.jpg\n",
      "Found 2 whippets in n02091134_12759.jpg\n"
     ]
    },
    {
     "name": "stderr",
     "output_type": "stream",
     "text": [
      "\r",
      " 21%|██        | 1770/8580 [00:11<00:45, 148.11it/s]"
     ]
    },
    {
     "name": "stdout",
     "output_type": "stream",
     "text": [
      "Found 2 whippets in n02091134_2664.jpg\n",
      "Found 2 whippets in n02091134_13356.jpg\n",
      "Found 2 whippets in n02091134_18403.jpg\n",
      "Found 2 whippets in n02091134_17788.jpg\n",
      "Found 3 whippets in n02091134_17394.jpg\n",
      "Found 2 whippets in n02091134_14297.jpg\n",
      "Found 2 whippets in n02091134_16109.jpg\n",
      "Found 2 whippets in n02091134_18951.jpg\n",
      "Found 2 whippets in n02091134_16200.jpg\n"
     ]
    },
    {
     "name": "stderr",
     "output_type": "stream",
     "text": [
      " 21%|██        | 1800/8580 [00:12<00:46, 144.55it/s]"
     ]
    },
    {
     "name": "stdout",
     "output_type": "stream",
     "text": [
      "Found 2 whippets in n02091134_4002.jpg\n",
      "Found 2 whippets in n02091134_18435.jpg\n",
      "Found 3 whippets in n02091134_19166.jpg\n",
      "Found 2 whippets in n02091134_13544.jpg\n",
      "Found 2 whippets in n02091134_15938.jpg\n",
      "Found 2 whippets in n02091134_16420.jpg\n"
     ]
    },
    {
     "name": "stderr",
     "output_type": "stream",
     "text": [
      " 22%|██▏       | 1848/8580 [00:12<00:43, 153.17it/s]"
     ]
    },
    {
     "name": "stdout",
     "output_type": "stream",
     "text": [
      "Found 2 Ibizan_hounds in n02091244_583.jpg\n"
     ]
    },
    {
     "name": "stderr",
     "output_type": "stream",
     "text": [
      " 22%|██▏       | 1882/8580 [00:12<00:42, 157.42it/s]"
     ]
    },
    {
     "name": "stdout",
     "output_type": "stream",
     "text": [
      "Found 2 Ibizan_hounds in n02091244_5488.jpg\n",
      "Found 2 Ibizan_hounds in n02091244_3438.jpg\n",
      "Found 2 Ibizan_hounds in n02091244_2760.jpg\n"
     ]
    },
    {
     "name": "stderr",
     "output_type": "stream",
     "text": [
      " 22%|██▏       | 1930/8580 [00:13<00:44, 149.76it/s]"
     ]
    },
    {
     "name": "stdout",
     "output_type": "stream",
     "text": [
      "Found 2 Norwegian_elkhounds in n02091467_4560.jpg\n",
      "Found 2 Norwegian_elkhounds in n02091467_3160.jpg\n"
     ]
    },
    {
     "name": "stderr",
     "output_type": "stream",
     "text": [
      " 23%|██▎       | 1966/8580 [00:13<00:40, 161.71it/s]"
     ]
    },
    {
     "name": "stdout",
     "output_type": "stream",
     "text": [
      "Found 2 Norwegian_elkhounds in n02091467_3098.jpg\n",
      "Found 2 Norwegian_elkhounds in n02091467_4386.jpg\n"
     ]
    },
    {
     "name": "stderr",
     "output_type": "stream",
     "text": [
      " 24%|██▎       | 2018/8580 [00:13<00:40, 163.95it/s]"
     ]
    },
    {
     "name": "stdout",
     "output_type": "stream",
     "text": [
      "Found 2 otterhounds in n02091635_335.jpg\n",
      "Found 2 otterhounds in n02091635_971.jpg\n",
      "Found 2 otterhounds in n02091635_1634.jpg\n"
     ]
    },
    {
     "name": "stderr",
     "output_type": "stream",
     "text": [
      " 24%|██▍       | 2069/8580 [00:13<00:40, 161.18it/s]"
     ]
    },
    {
     "name": "stdout",
     "output_type": "stream",
     "text": [
      "Found 2 Salukis in n02091831_7237.jpg\n",
      "Found 2 Salukis in n02091831_10215.jpg\n",
      "Found 2 Salukis in n02091831_13507.jpg\n",
      "Found 2 Salukis in n02091831_11498.jpg\n",
      "Found 2 Salukis in n02091831_3180.jpg\n"
     ]
    },
    {
     "name": "stderr",
     "output_type": "stream",
     "text": [
      " 25%|██▍       | 2121/8580 [00:14<00:38, 165.79it/s]"
     ]
    },
    {
     "name": "stdout",
     "output_type": "stream",
     "text": [
      "Found 2 Salukis in n02091831_6406.jpg\n",
      "Found 2 Salukis in n02091831_627.jpg\n",
      "Found 2 Salukis in n02091831_7665.jpg\n",
      "Found 2 Salukis in n02091831_4966.jpg\n",
      "Found 2 Salukis in n02091831_8401.jpg\n",
      "Found 2 Scottish_deerhounds in n02092002_5746.jpg\n"
     ]
    },
    {
     "name": "stderr",
     "output_type": "stream",
     "text": [
      " 25%|██▌       | 2174/8580 [00:14<00:42, 150.17it/s]"
     ]
    },
    {
     "name": "stdout",
     "output_type": "stream",
     "text": [
      "Found 2 Scottish_deerhounds in n02092002_5008.jpg\n"
     ]
    },
    {
     "name": "stderr",
     "output_type": "stream",
     "text": [
      " 26%|██▌       | 2220/8580 [00:14<00:46, 136.91it/s]"
     ]
    },
    {
     "name": "stdout",
     "output_type": "stream",
     "text": [
      "Found 2 Scottish_deerhounds in n02092002_1086.jpg\n"
     ]
    },
    {
     "name": "stderr",
     "output_type": "stream",
     "text": [
      " 26%|██▋       | 2263/8580 [00:15<00:46, 135.37it/s]"
     ]
    },
    {
     "name": "stdout",
     "output_type": "stream",
     "text": [
      "Found 2 Scottish_deerhounds in n02092002_1551.jpg\n",
      "Found 2 Scottish_deerhounds in n02092002_1937.jpg\n"
     ]
    },
    {
     "name": "stderr",
     "output_type": "stream",
     "text": [
      " 27%|██▋       | 2292/8580 [00:15<00:45, 138.16it/s]"
     ]
    },
    {
     "name": "stdout",
     "output_type": "stream",
     "text": [
      "Found 2 Scottish_deerhounds in n02092002_6339.jpg\n",
      "Found 2 Weimaraners in n02092339_2731.jpg\n"
     ]
    },
    {
     "name": "stderr",
     "output_type": "stream",
     "text": [
      " 27%|██▋       | 2334/8580 [00:15<00:47, 130.21it/s]"
     ]
    },
    {
     "name": "stdout",
     "output_type": "stream",
     "text": [
      "Found 2 Weimaraners in n02092339_2640.jpg\n",
      "Found 2 Staffordshire_bullterriers in n02093256_1826.jpg\n"
     ]
    },
    {
     "name": "stderr",
     "output_type": "stream",
     "text": [
      " 28%|██▊       | 2397/8580 [00:16<00:42, 144.80it/s]"
     ]
    },
    {
     "name": "stdout",
     "output_type": "stream",
     "text": [
      "Found 2 Staffordshire_bullterriers in n02093256_11806.jpg\n"
     ]
    },
    {
     "name": "stderr",
     "output_type": "stream",
     "text": [
      " 28%|██▊       | 2429/8580 [00:16<00:41, 148.05it/s]"
     ]
    },
    {
     "name": "stdout",
     "output_type": "stream",
     "text": [
      "Found 2 American_Staffordshire_terriers in n02093428_2574.jpg\n",
      "Found 2 American_Staffordshire_terriers in n02093428_4768.jpg\n",
      "Found 2 American_Staffordshire_terriers in n02093428_5662.jpg\n",
      "Found 2 American_Staffordshire_terriers in n02093428_5326.jpg\n"
     ]
    },
    {
     "name": "stderr",
     "output_type": "stream",
     "text": [
      " 29%|██▉       | 2476/8580 [00:16<00:40, 151.86it/s]"
     ]
    },
    {
     "name": "stdout",
     "output_type": "stream",
     "text": [
      "Found 2 Bedlington_terriers in n02093647_356.jpg\n",
      "Found 2 Bedlington_terriers in n02093647_2279.jpg\n",
      "Found 2 Bedlington_terriers in n02093647_28.jpg\n"
     ]
    },
    {
     "name": "stderr",
     "output_type": "stream",
     "text": [
      " 29%|██▉       | 2512/8580 [00:17<00:47, 126.94it/s]"
     ]
    },
    {
     "name": "stdout",
     "output_type": "stream",
     "text": [
      "Found 2 Bedlington_terriers in n02093647_3453.jpg\n"
     ]
    },
    {
     "name": "stderr",
     "output_type": "stream",
     "text": [
      " 30%|██▉       | 2557/8580 [00:17<00:46, 128.86it/s]"
     ]
    },
    {
     "name": "stdout",
     "output_type": "stream",
     "text": [
      "Found 2 Bedlington_terriers in n02093647_684.jpg\n"
     ]
    },
    {
     "name": "stderr",
     "output_type": "stream",
     "text": [
      " 30%|███       | 2603/8580 [00:17<00:42, 139.72it/s]"
     ]
    },
    {
     "name": "stdout",
     "output_type": "stream",
     "text": [
      "Found 2 Border_terriers in n02093754_6453.jpg\n",
      "Found 2 Border_terriers in n02093754_6106.jpg\n"
     ]
    },
    {
     "name": "stderr",
     "output_type": "stream",
     "text": [
      " 31%|███       | 2638/8580 [00:17<00:38, 154.76it/s]"
     ]
    },
    {
     "name": "stdout",
     "output_type": "stream",
     "text": [
      "Found 2 Kerry_blue_terriers in n02093859_2970.jpg\n",
      "Found 3 Kerry_blue_terriers in n02093859_801.jpg\n",
      "Found 2 Kerry_blue_terriers in n02093859_1986.jpg\n",
      "Found 2 Kerry_blue_terriers in n02093859_3310.jpg\n"
     ]
    },
    {
     "name": "stderr",
     "output_type": "stream",
     "text": [
      " 31%|███▏      | 2689/8580 [00:18<00:39, 149.21it/s]"
     ]
    },
    {
     "name": "stdout",
     "output_type": "stream",
     "text": [
      "Found 2 Kerry_blue_terriers in n02093859_676.jpg\n",
      "Found 2 Kerry_blue_terriers in n02093859_3110.jpg\n",
      "Found 2 Kerry_blue_terriers in n02093859_3166.jpg\n"
     ]
    },
    {
     "name": "stderr",
     "output_type": "stream",
     "text": [
      " 32%|███▏      | 2721/8580 [00:18<00:39, 148.56it/s]"
     ]
    },
    {
     "name": "stdout",
     "output_type": "stream",
     "text": [
      "Found 2 Irish_terriers in n02093991_863.jpg\n",
      "Found 2 Irish_terriers in n02093991_877.jpg\n",
      "Found 2 Irish_terriers in n02093991_4449.jpg\n",
      "Found 2 Irish_terriers in n02093991_4404.jpg\n",
      "Found 2 Irish_terriers in n02093991_913.jpg\n"
     ]
    },
    {
     "name": "stderr",
     "output_type": "stream",
     "text": [
      " 33%|███▎      | 2817/8580 [00:19<00:38, 150.97it/s]"
     ]
    },
    {
     "name": "stdout",
     "output_type": "stream",
     "text": [
      "Found 2 Norfolk_terriers in n02094114_3199.jpg\n",
      "Found 2 Norfolk_terriers in n02094114_3222.jpg\n",
      "Found 2 Norfolk_terriers in n02094114_4445.jpg\n",
      "Found 2 Norfolk_terriers in n02094114_297.jpg\n"
     ]
    },
    {
     "name": "stderr",
     "output_type": "stream",
     "text": [
      " 33%|███▎      | 2849/8580 [00:19<00:37, 153.64it/s]"
     ]
    },
    {
     "name": "stdout",
     "output_type": "stream",
     "text": [
      "Found 2 Norwich_terriers in n02094258_3153.jpg\n",
      "Found 2 Norwich_terriers in n02094258_2032.jpg\n",
      "Found 2 Norwich_terriers in n02094258_1897.jpg\n"
     ]
    },
    {
     "name": "stderr",
     "output_type": "stream",
     "text": [
      " 34%|███▎      | 2882/8580 [00:19<00:37, 152.15it/s]"
     ]
    },
    {
     "name": "stdout",
     "output_type": "stream",
     "text": [
      "Found 2 Norwich_terriers in n02094258_2730.jpg\n",
      "Found 2 Norwich_terriers in n02094258_897.jpg\n",
      "Found 2 Norwich_terriers in n02094258_1805.jpg\n",
      "Found 2 Norwich_terriers in n02094258_2525.jpg\n",
      "Found 2 Norwich_terriers in n02094258_3630.jpg\n",
      "Found 2 Norwich_terriers in n02094258_1036.jpg\n"
     ]
    },
    {
     "name": "stderr",
     "output_type": "stream",
     "text": [
      " 34%|███▍      | 2915/8580 [00:19<00:36, 157.06it/s]"
     ]
    },
    {
     "name": "stdout",
     "output_type": "stream",
     "text": [
      "Found 2 Norwich_terriers in n02094258_1691.jpg\n",
      "Found 2 Norwich_terriers in n02094258_1996.jpg\n"
     ]
    },
    {
     "name": "stderr",
     "output_type": "stream",
     "text": [
      " 35%|███▍      | 2963/8580 [00:20<00:44, 125.14it/s]"
     ]
    },
    {
     "name": "stdout",
     "output_type": "stream",
     "text": [
      "Found 2 Yorkshire_terriers in n02094433_2457.jpg\n"
     ]
    },
    {
     "name": "stderr",
     "output_type": "stream",
     "text": [
      " 35%|███▍      | 2993/8580 [00:20<00:41, 133.66it/s]"
     ]
    },
    {
     "name": "stdout",
     "output_type": "stream",
     "text": [
      "Found 3 wires in n02095314_2139.jpg\n",
      "Found 2 wires in n02095314_942.jpg\n"
     ]
    },
    {
     "name": "stderr",
     "output_type": "stream",
     "text": [
      " 36%|███▌      | 3092/8580 [00:21<00:38, 143.66it/s]"
     ]
    },
    {
     "name": "stdout",
     "output_type": "stream",
     "text": [
      "Found 2 Lakeland_terriers in n02095570_2882.jpg\n",
      "Found 2 Lakeland_terriers in n02095570_269.jpg\n"
     ]
    },
    {
     "name": "stderr",
     "output_type": "stream",
     "text": [
      " 37%|███▋      | 3144/8580 [00:21<00:34, 157.65it/s]"
     ]
    },
    {
     "name": "stdout",
     "output_type": "stream",
     "text": [
      "Found 2 Lakeland_terriers in n02095570_2494.jpg\n",
      "Found 2 Lakeland_terriers in n02095570_434.jpg\n",
      "Found 3 Sealyham_terriers in n02095889_5221.jpg\n"
     ]
    },
    {
     "name": "stderr",
     "output_type": "stream",
     "text": [
      " 37%|███▋      | 3180/8580 [00:21<00:39, 136.23it/s]"
     ]
    },
    {
     "name": "stdout",
     "output_type": "stream",
     "text": [
      "Found 2 Sealyham_terriers in n02095889_1794.jpg\n",
      "Found 3 Sealyham_terriers in n02095889_4774.jpg\n",
      "Found 2 Sealyham_terriers in n02095889_1723.jpg\n"
     ]
    },
    {
     "name": "stderr",
     "output_type": "stream",
     "text": [
      " 38%|███▊      | 3218/8580 [00:21<00:34, 156.63it/s]"
     ]
    },
    {
     "name": "stdout",
     "output_type": "stream",
     "text": [
      "Found 2 Sealyham_terriers in n02095889_2162.jpg\n",
      "Found 2 Sealyham_terriers in n02095889_4649.jpg\n",
      "Found 2 Sealyham_terriers in n02095889_931.jpg\n",
      "Found 2 Sealyham_terriers in n02095889_3364.jpg\n"
     ]
    },
    {
     "name": "stderr",
     "output_type": "stream",
     "text": [
      " 38%|███▊      | 3252/8580 [00:22<00:34, 155.56it/s]"
     ]
    },
    {
     "name": "stdout",
     "output_type": "stream",
     "text": [
      "Found 3 Sealyham_terriers in n02095889_6021.jpg\n",
      "Found 2 Sealyham_terriers in n02095889_347.jpg\n",
      "Found 2 Airedales in n02096051_841.jpg\n"
     ]
    },
    {
     "name": "stderr",
     "output_type": "stream",
     "text": [
      " 39%|███▉      | 3332/8580 [00:22<00:35, 149.15it/s]"
     ]
    },
    {
     "name": "stdout",
     "output_type": "stream",
     "text": [
      "Found 2 Airedales in n02096051_3863.jpg\n"
     ]
    },
    {
     "name": "stderr",
     "output_type": "stream",
     "text": [
      " 39%|███▉      | 3364/8580 [00:22<00:34, 150.22it/s]"
     ]
    },
    {
     "name": "stdout",
     "output_type": "stream",
     "text": [
      "Found 2 cairns in n02096177_13328.jpg\n",
      "Found 2 cairns in n02096177_11605.jpg\n",
      "Found 2 cairns in n02096177_10031.jpg\n"
     ]
    },
    {
     "name": "stderr",
     "output_type": "stream",
     "text": [
      " 40%|███▉      | 3412/8580 [00:23<00:34, 151.24it/s]"
     ]
    },
    {
     "name": "stdout",
     "output_type": "stream",
     "text": [
      "Found 2 cairns in n02096177_8324.jpg\n",
      "Found 2 Australian_terriers in n02096294_7541.jpg\n"
     ]
    },
    {
     "name": "stderr",
     "output_type": "stream",
     "text": [
      " 40%|████      | 3460/8580 [00:23<00:33, 150.70it/s]"
     ]
    },
    {
     "name": "stdout",
     "output_type": "stream",
     "text": [
      "Found 2 Australian_terriers in n02096294_4435.jpg\n",
      "Found 2 Australian_terriers in n02096294_6592.jpg\n",
      "Found 2 Australian_terriers in n02096294_8255.jpg\n"
     ]
    },
    {
     "name": "stderr",
     "output_type": "stream",
     "text": [
      " 41%|████      | 3527/8580 [00:23<00:31, 160.25it/s]"
     ]
    },
    {
     "name": "stdout",
     "output_type": "stream",
     "text": [
      "Found 2 Australian_terriers in n02096294_8268.jpg\n",
      "Found 3 Dandie_Dinmonts in n02096437_4384.jpg\n",
      "Found 2 Dandie_Dinmonts in n02096437_2783.jpg\n",
      "Found 2 Dandie_Dinmonts in n02096437_3656.jpg\n"
     ]
    },
    {
     "name": "stderr",
     "output_type": "stream",
     "text": [
      " 41%|████▏     | 3560/8580 [00:24<00:32, 155.21it/s]"
     ]
    },
    {
     "name": "stdout",
     "output_type": "stream",
     "text": [
      "Found 2 Dandie_Dinmonts in n02096437_4300.jpg\n",
      "Found 2 Dandie_Dinmonts in n02096437_960.jpg\n",
      "Found 3 Dandie_Dinmonts in n02096437_2067.jpg\n",
      "Found 2 Dandie_Dinmonts in n02096437_2639.jpg\n",
      "Found 2 Dandie_Dinmonts in n02096437_1668.jpg\n"
     ]
    },
    {
     "name": "stderr",
     "output_type": "stream",
     "text": [
      " 42%|████▏     | 3609/8580 [00:24<00:33, 148.37it/s]"
     ]
    },
    {
     "name": "stdout",
     "output_type": "stream",
     "text": [
      "Found 2 Dandie_Dinmonts in n02096437_1656.jpg\n",
      "Found 2 Dandie_Dinmonts in n02096437_2291.jpg\n",
      "Found 2 Dandie_Dinmonts in n02096437_3888.jpg\n",
      "Found 2 Dandie_Dinmonts in n02096437_929.jpg\n"
     ]
    },
    {
     "name": "stderr",
     "output_type": "stream",
     "text": [
      " 42%|████▏     | 3640/8580 [00:24<00:34, 144.52it/s]"
     ]
    },
    {
     "name": "stdout",
     "output_type": "stream",
     "text": [
      "Found 2 Boston_bulls in n02096585_237.jpg\n",
      "Found 2 Boston_bulls in n02096585_414.jpg\n",
      "Found 2 Boston_bulls in n02096585_1450.jpg\n"
     ]
    },
    {
     "name": "stderr",
     "output_type": "stream",
     "text": [
      " 43%|████▎     | 3705/8580 [00:25<00:32, 150.86it/s]"
     ]
    },
    {
     "name": "stdout",
     "output_type": "stream",
     "text": [
      "Found 2 Boston_bulls in n02096585_11776.jpg\n",
      "Found 2 Boston_bulls in n02096585_8148.jpg\n"
     ]
    },
    {
     "name": "stderr",
     "output_type": "stream",
     "text": [
      " 44%|████▎     | 3737/8580 [00:25<00:32, 150.15it/s]"
     ]
    },
    {
     "name": "stdout",
     "output_type": "stream",
     "text": [
      "Found 2 miniature_schnauzers in n02097047_5253.jpg\n",
      "Found 2 miniature_schnauzers in n02097047_1368.jpg\n"
     ]
    },
    {
     "name": "stderr",
     "output_type": "stream",
     "text": [
      " 44%|████▍     | 3768/8580 [00:25<00:33, 144.88it/s]"
     ]
    },
    {
     "name": "stdout",
     "output_type": "stream",
     "text": [
      "Found 2 giant_schnauzers in n02097130_3018.jpg\n",
      "Found 2 giant_schnauzers in n02097130_4991.jpg\n",
      "Found 2 giant_schnauzers in n02097130_1741.jpg\n",
      "Found 2 giant_schnauzers in n02097130_5668.jpg\n"
     ]
    },
    {
     "name": "stderr",
     "output_type": "stream",
     "text": [
      " 44%|████▍     | 3798/8580 [00:25<00:34, 138.23it/s]"
     ]
    },
    {
     "name": "stdout",
     "output_type": "stream",
     "text": [
      "Found 2 giant_schnauzers in n02097130_1599.jpg\n",
      "Found 2 standard_schnauzers in n02097209_3151.jpg\n",
      "Found 2 standard_schnauzers in n02097209_3599.jpg\n"
     ]
    },
    {
     "name": "stderr",
     "output_type": "stream",
     "text": [
      " 45%|████▍     | 3830/8580 [00:25<00:33, 142.63it/s]"
     ]
    },
    {
     "name": "stdout",
     "output_type": "stream",
     "text": [
      "Found 2 standard_schnauzers in n02097209_920.jpg\n",
      "Found 2 standard_schnauzers in n02097209_2276.jpg\n",
      "Found 2 standard_schnauzers in n02097209_1038.jpg\n",
      "Found 2 standard_schnauzers in n02097209_388.jpg\n",
      "Found 2 standard_schnauzers in n02097209_226.jpg\n",
      "Found 2 standard_schnauzers in n02097209_1377.jpg\n"
     ]
    },
    {
     "name": "stderr",
     "output_type": "stream",
     "text": [
      " 45%|████▌     | 3861/8580 [00:26<00:32, 143.63it/s]"
     ]
    },
    {
     "name": "stdout",
     "output_type": "stream",
     "text": [
      "Found 2 standard_schnauzers in n02097209_384.jpg\n",
      "Found 2 Scotch_terriers in n02097298_65.jpg\n"
     ]
    },
    {
     "name": "stderr",
     "output_type": "stream",
     "text": [
      " 46%|████▌     | 3920/8580 [00:26<00:33, 140.78it/s]"
     ]
    },
    {
     "name": "stdout",
     "output_type": "stream",
     "text": [
      "Found 2 Scotch_terriers in n02097298_2287.jpg\n",
      "Found 2 Scotch_terriers in n02097298_6474.jpg\n",
      "Found 2 Scotch_terriers in n02097298_946.jpg\n",
      "Found 2 Tibetan_terriers in n02097474_8491.jpg\n"
     ]
    },
    {
     "name": "stderr",
     "output_type": "stream",
     "text": [
      " 47%|████▋     | 4017/8580 [00:27<00:30, 150.52it/s]"
     ]
    },
    {
     "name": "stdout",
     "output_type": "stream",
     "text": [
      "Found 2 Tibetan_terriers in n02097474_3055.jpg\n",
      "Found 2 silky_terriers in n02097658_2330.jpg\n"
     ]
    },
    {
     "name": "stderr",
     "output_type": "stream",
     "text": [
      " 47%|████▋     | 4049/8580 [00:27<00:29, 152.50it/s]"
     ]
    },
    {
     "name": "stdout",
     "output_type": "stream",
     "text": [
      "Found 2 silky_terriers in n02097658_950.jpg\n",
      "Found 2 silky_terriers in n02097658_5420.jpg\n"
     ]
    },
    {
     "name": "stderr",
     "output_type": "stream",
     "text": [
      " 48%|████▊     | 4080/8580 [00:27<00:32, 136.61it/s]"
     ]
    },
    {
     "name": "stdout",
     "output_type": "stream",
     "text": [
      "Found 2 silky_terriers in n02097658_98.jpg\n",
      "Found 2 silky_terriers in n02097658_6351.jpg\n"
     ]
    },
    {
     "name": "stderr",
     "output_type": "stream",
     "text": [
      " 49%|████▉     | 4193/8580 [00:28<00:27, 157.01it/s]"
     ]
    },
    {
     "name": "stdout",
     "output_type": "stream",
     "text": [
      "Found 2 West_Highland_white_terriers in n02098286_545.jpg\n",
      "Found 2 West_Highland_white_terriers in n02098286_840.jpg\n",
      "Found 2 West_Highland_white_terriers in n02098286_749.jpg\n",
      "Found 2 West_Highland_white_terriers in n02098286_3424.jpg\n"
     ]
    },
    {
     "name": "stderr",
     "output_type": "stream",
     "text": [
      " 49%|████▉     | 4242/8580 [00:28<00:29, 149.12it/s]"
     ]
    },
    {
     "name": "stdout",
     "output_type": "stream",
     "text": [
      "Found 2 West_Highland_white_terriers in n02098286_2444.jpg\n"
     ]
    },
    {
     "name": "stderr",
     "output_type": "stream",
     "text": [
      " 50%|█████     | 4321/8580 [00:29<00:28, 147.66it/s]"
     ]
    },
    {
     "name": "stdout",
     "output_type": "stream",
     "text": [
      "Found 2 Lhasas in n02098413_754.jpg\n",
      "Found 2 Lhasas in n02098413_6535.jpg\n"
     ]
    },
    {
     "name": "stderr",
     "output_type": "stream",
     "text": [
      " 51%|█████▏    | 4404/8580 [00:29<00:27, 153.55it/s]"
     ]
    },
    {
     "name": "stdout",
     "output_type": "stream",
     "text": [
      "Found 2 curlys in n02099429_3077.jpg\n",
      "Found 4 curlys in n02099429_3187.jpg\n",
      "Found 2 curlys in n02099429_1627.jpg\n"
     ]
    },
    {
     "name": "stderr",
     "output_type": "stream",
     "text": [
      " 52%|█████▏    | 4436/8580 [00:30<00:27, 150.21it/s]"
     ]
    },
    {
     "name": "stdout",
     "output_type": "stream",
     "text": [
      "Found 2 golden_retrievers in n02099601_5655.jpg\n",
      "Found 3 golden_retrievers in n02099601_238.jpg\n",
      "Found 5 golden_retrievers in n02099601_7588.jpg\n",
      "Found 2 golden_retrievers in n02099601_2358.jpg\n"
     ]
    },
    {
     "name": "stderr",
     "output_type": "stream",
     "text": [
      " 52%|█████▏    | 4496/8580 [00:30<00:30, 134.68it/s]"
     ]
    },
    {
     "name": "stdout",
     "output_type": "stream",
     "text": [
      "Found 2 Labrador_retrievers in n02099712_7179.jpg\n",
      "Found 2 Labrador_retrievers in n02099712_5769.jpg\n",
      "Found 2 Labrador_retrievers in n02099712_6248.jpg\n"
     ]
    },
    {
     "name": "stderr",
     "output_type": "stream",
     "text": [
      " 53%|█████▎    | 4527/8580 [00:30<00:28, 143.70it/s]"
     ]
    },
    {
     "name": "stdout",
     "output_type": "stream",
     "text": [
      "Found 3 Labrador_retrievers in n02099712_6404.jpg\n",
      "Found 2 Labrador_retrievers in n02099712_6823.jpg\n",
      "Found 2 Labrador_retrievers in n02099712_328.jpg\n",
      "Found 2 Labrador_retrievers in n02099712_1229.jpg\n"
     ]
    },
    {
     "name": "stderr",
     "output_type": "stream",
     "text": [
      " 53%|█████▎    | 4559/8580 [00:30<00:27, 147.37it/s]"
     ]
    },
    {
     "name": "stdout",
     "output_type": "stream",
     "text": [
      "Found 2 Chesapeake_Bay_retrievers in n02099849_605.jpg\n",
      "Found 2 Chesapeake_Bay_retrievers in n02099849_3266.jpg\n",
      "Found 2 Chesapeake_Bay_retrievers in n02099849_3316.jpg\n",
      "Found 2 Chesapeake_Bay_retrievers in n02099849_2020.jpg\n"
     ]
    },
    {
     "name": "stderr",
     "output_type": "stream",
     "text": [
      " 54%|█████▎    | 4592/8580 [00:31<00:25, 154.52it/s]"
     ]
    },
    {
     "name": "stdout",
     "output_type": "stream",
     "text": [
      "Found 2 Chesapeake_Bay_retrievers in n02099849_2646.jpg\n",
      "Found 2 Chesapeake_Bay_retrievers in n02099849_541.jpg\n",
      "Found 2 Chesapeake_Bay_retrievers in n02099849_3451.jpg\n",
      "Found 2 Chesapeake_Bay_retrievers in n02099849_3881.jpg\n"
     ]
    },
    {
     "name": "stderr",
     "output_type": "stream",
     "text": [
      " 54%|█████▍    | 4660/8580 [00:31<00:28, 138.80it/s]"
     ]
    },
    {
     "name": "stdout",
     "output_type": "stream",
     "text": [
      "Found 2 German_shorts in n02100236_3025.jpg\n",
      "Found 2 German_shorts in n02100236_465.jpg\n"
     ]
    },
    {
     "name": "stderr",
     "output_type": "stream",
     "text": [
      " 55%|█████▍    | 4710/8580 [00:31<00:25, 150.90it/s]"
     ]
    },
    {
     "name": "stdout",
     "output_type": "stream",
     "text": [
      "Found 2 vizslas in n02100583_6155.jpg\n",
      "Found 2 English_setters in n02100735_10105.jpg\n"
     ]
    },
    {
     "name": "stderr",
     "output_type": "stream",
     "text": [
      " 55%|█████▌    | 4758/8580 [00:32<00:27, 139.60it/s]"
     ]
    },
    {
     "name": "stdout",
     "output_type": "stream",
     "text": [
      "Found 2 English_setters in n02100735_3567.jpg\n",
      "Found 2 English_setters in n02100735_5024.jpg\n",
      "Found 2 English_setters in n02100735_2851.jpg\n"
     ]
    },
    {
     "name": "stderr",
     "output_type": "stream",
     "text": [
      " 56%|█████▌    | 4788/8580 [00:32<00:26, 143.87it/s]"
     ]
    },
    {
     "name": "stdout",
     "output_type": "stream",
     "text": [
      "Found 2 Irish_setters in n02100877_3463.jpg\n",
      "Found 3 Irish_setters in n02100877_4639.jpg\n",
      "Found 2 Irish_setters in n02100877_592.jpg\n"
     ]
    },
    {
     "name": "stderr",
     "output_type": "stream",
     "text": [
      " 56%|█████▋    | 4837/8580 [00:32<00:24, 150.07it/s]"
     ]
    },
    {
     "name": "stdout",
     "output_type": "stream",
     "text": [
      "Found 2 Gordon_setters in n02101006_627.jpg\n",
      "Found 2 Gordon_setters in n02101006_3985.jpg\n"
     ]
    },
    {
     "name": "stderr",
     "output_type": "stream",
     "text": [
      " 57%|█████▋    | 4888/8580 [00:33<00:23, 159.67it/s]"
     ]
    },
    {
     "name": "stdout",
     "output_type": "stream",
     "text": [
      "Found 2 Gordon_setters in n02101006_897.jpg\n",
      "Found 2 Gordon_setters in n02101006_3424.jpg\n"
     ]
    },
    {
     "name": "stderr",
     "output_type": "stream",
     "text": [
      " 58%|█████▊    | 4944/8580 [00:33<00:21, 168.86it/s]"
     ]
    },
    {
     "name": "stdout",
     "output_type": "stream",
     "text": [
      "Found 3 clumbers in n02101556_7927.jpg\n",
      "Found 2 clumbers in n02101556_5771.jpg\n",
      "Found 2 clumbers in n02101556_4213.jpg\n"
     ]
    },
    {
     "name": "stderr",
     "output_type": "stream",
     "text": [
      " 58%|█████▊    | 4981/8580 [00:33<00:21, 167.18it/s]"
     ]
    },
    {
     "name": "stdout",
     "output_type": "stream",
     "text": [
      "Found 2 clumbers in n02101556_4746.jpg\n",
      "Found 2 clumbers in n02101556_2023.jpg\n"
     ]
    },
    {
     "name": "stderr",
     "output_type": "stream",
     "text": [
      " 59%|█████▉    | 5048/8580 [00:34<00:23, 152.47it/s]"
     ]
    },
    {
     "name": "stdout",
     "output_type": "stream",
     "text": [
      "Found 2 English_springers in n02102040_2635.jpg\n",
      "Found 2 Welsh_springer_spaniels in n02102177_1175.jpg\n",
      "Found 2 Welsh_springer_spaniels in n02102177_4311.jpg\n",
      "Found 2 Welsh_springer_spaniels in n02102177_2260.jpg\n"
     ]
    },
    {
     "name": "stderr",
     "output_type": "stream",
     "text": [
      " 60%|█████▉    | 5127/8580 [00:34<00:23, 144.05it/s]"
     ]
    },
    {
     "name": "stdout",
     "output_type": "stream",
     "text": [
      "Found 2 cocker_spaniels in n02102318_10058.jpg\n"
     ]
    },
    {
     "name": "stderr",
     "output_type": "stream",
     "text": [
      " 60%|██████    | 5157/8580 [00:34<00:28, 121.95it/s]"
     ]
    },
    {
     "name": "stdout",
     "output_type": "stream",
     "text": [
      "Found 2 cocker_spaniels in n02102318_12265.jpg\n"
     ]
    },
    {
     "name": "stderr",
     "output_type": "stream",
     "text": [
      " 61%|██████    | 5196/8580 [00:35<00:30, 112.70it/s]"
     ]
    },
    {
     "name": "stdout",
     "output_type": "stream",
     "text": [
      "Found 2 Sussex_spaniels in n02102480_6027.jpg\n",
      "Found 2 Irish_water_spaniels in n02102973_4913.jpg\n",
      "Found 2 Irish_water_spaniels in n02102973_2473.jpg\n"
     ]
    },
    {
     "name": "stderr",
     "output_type": "stream",
     "text": [
      " 61%|██████▏   | 5261/8580 [00:35<00:27, 121.39it/s]"
     ]
    },
    {
     "name": "stdout",
     "output_type": "stream",
     "text": [
      "Found 2 Irish_water_spaniels in n02102973_3998.jpg\n",
      "Found 2 kuvaszs in n02104029_766.jpg\n"
     ]
    },
    {
     "name": "stderr",
     "output_type": "stream",
     "text": [
      " 62%|██████▏   | 5310/8580 [00:36<00:23, 141.69it/s]"
     ]
    },
    {
     "name": "stdout",
     "output_type": "stream",
     "text": [
      "Found 2 kuvaszs in n02104029_4585.jpg\n",
      "Found 2 schipperkes in n02104365_10247.jpg\n",
      "Found 2 schipperkes in n02104365_10514.jpg\n",
      "Found 2 schipperkes in n02104365_7927.jpg\n"
     ]
    },
    {
     "name": "stderr",
     "output_type": "stream",
     "text": [
      " 62%|██████▏   | 5342/8580 [00:36<00:22, 145.72it/s]"
     ]
    },
    {
     "name": "stdout",
     "output_type": "stream",
     "text": [
      "Found 2 schipperkes in n02104365_6798.jpg\n"
     ]
    },
    {
     "name": "stderr",
     "output_type": "stream",
     "text": [
      " 64%|██████▍   | 5481/8580 [00:37<00:21, 141.21it/s]"
     ]
    },
    {
     "name": "stdout",
     "output_type": "stream",
     "text": [
      "Found 2 briards in n02105251_7430.jpg\n"
     ]
    },
    {
     "name": "stderr",
     "output_type": "stream",
     "text": [
      " 64%|██████▍   | 5513/8580 [00:37<00:20, 148.27it/s]"
     ]
    },
    {
     "name": "stdout",
     "output_type": "stream",
     "text": [
      "Found 2 briards in n02105251_7090.jpg\n",
      "Found 2 kelpies in n02105412_3766.jpg\n"
     ]
    },
    {
     "name": "stderr",
     "output_type": "stream",
     "text": [
      " 65%|██████▍   | 5544/8580 [00:37<00:20, 147.63it/s]"
     ]
    },
    {
     "name": "stdout",
     "output_type": "stream",
     "text": [
      "Found 2 kelpies in n02105412_2620.jpg\n",
      "Found 2 kelpies in n02105412_4038.jpg\n",
      "Found 2 kelpies in n02105412_6770.jpg\n",
      "Found 3 komondors in n02105505_4081.jpg\n"
     ]
    },
    {
     "name": "stderr",
     "output_type": "stream",
     "text": [
      " 65%|██████▍   | 5575/8580 [00:38<00:22, 133.82it/s]"
     ]
    },
    {
     "name": "stdout",
     "output_type": "stream",
     "text": [
      "Found 3 komondors in n02105505_3647.jpg\n"
     ]
    },
    {
     "name": "stderr",
     "output_type": "stream",
     "text": [
      " 65%|██████▌   | 5605/8580 [00:38<00:21, 139.21it/s]"
     ]
    },
    {
     "name": "stdout",
     "output_type": "stream",
     "text": [
      "Found 2 komondors in n02105505_4436.jpg\n",
      "Found 3 komondors in n02105505_2685.jpg\n"
     ]
    },
    {
     "name": "stderr",
     "output_type": "stream",
     "text": [
      " 66%|██████▌   | 5635/8580 [00:38<00:21, 139.23it/s]"
     ]
    },
    {
     "name": "stdout",
     "output_type": "stream",
     "text": [
      "Found 2 Old_English_sheepdogs in n02105641_313.jpg\n",
      "Found 2 Old_English_sheepdogs in n02105641_1618.jpg\n"
     ]
    },
    {
     "name": "stderr",
     "output_type": "stream",
     "text": [
      " 67%|██████▋   | 5709/8580 [00:39<00:22, 127.86it/s]"
     ]
    },
    {
     "name": "stdout",
     "output_type": "stream",
     "text": [
      "Found 2 Shetland_sheepdogs in n02105855_15602.jpg\n",
      "Found 2 Shetland_sheepdogs in n02105855_17096.jpg\n"
     ]
    },
    {
     "name": "stderr",
     "output_type": "stream",
     "text": [
      " 67%|██████▋   | 5748/8580 [00:39<00:22, 124.92it/s]"
     ]
    },
    {
     "name": "stdout",
     "output_type": "stream",
     "text": [
      "Found 2 Shetland_sheepdogs in n02105855_12631.jpg\n",
      "Found 2 Shetland_sheepdogs in n02105855_15067.jpg\n",
      "Found 2 collies in n02106030_15637.jpg\n"
     ]
    },
    {
     "name": "stderr",
     "output_type": "stream",
     "text": [
      " 67%|██████▋   | 5777/8580 [00:39<00:21, 132.73it/s]"
     ]
    },
    {
     "name": "stdout",
     "output_type": "stream",
     "text": [
      "Found 3 collies in n02106030_19433.jpg\n",
      "Found 2 collies in n02106030_17255.jpg\n",
      "Found 2 collies in n02106030_9354.jpg\n",
      "Found 2 collies in n02106030_16623.jpg\n",
      "Found 2 collies in n02106030_991.jpg\n"
     ]
    },
    {
     "name": "stderr",
     "output_type": "stream",
     "text": [
      " 68%|██████▊   | 5818/8580 [00:39<00:22, 124.99it/s]"
     ]
    },
    {
     "name": "stdout",
     "output_type": "stream",
     "text": [
      "Found 2 Border_collies in n02106166_6569.jpg\n",
      "Found 2 Border_collies in n02106166_3395.jpg\n",
      "Found 2 Border_collies in n02106166_2006.jpg\n",
      "Found 2 Border_collies in n02106166_2000.jpg\n"
     ]
    },
    {
     "name": "stderr",
     "output_type": "stream",
     "text": [
      " 68%|██████▊   | 5874/8580 [00:40<00:22, 117.82it/s]"
     ]
    },
    {
     "name": "stdout",
     "output_type": "stream",
     "text": [
      "Found 2 Bouvier_des_Flandress in n02106382_8289.jpg\n"
     ]
    },
    {
     "name": "stderr",
     "output_type": "stream",
     "text": [
      " 69%|██████▉   | 5943/8580 [00:40<00:20, 126.62it/s]"
     ]
    },
    {
     "name": "stdout",
     "output_type": "stream",
     "text": [
      "Found 2 Rottweilers in n02106550_4063.jpg\n"
     ]
    },
    {
     "name": "stderr",
     "output_type": "stream",
     "text": [
      " 70%|██████▉   | 5972/8580 [00:41<00:22, 113.62it/s]"
     ]
    },
    {
     "name": "stdout",
     "output_type": "stream",
     "text": [
      "Found 2 German_shepherds in n02106662_2337.jpg\n",
      "Found 2 German_shepherds in n02106662_620.jpg\n",
      "Found 2 German_shepherds in n02106662_712.jpg\n"
     ]
    },
    {
     "name": "stderr",
     "output_type": "stream",
     "text": [
      " 70%|███████   | 6026/8580 [00:41<00:21, 120.76it/s]"
     ]
    },
    {
     "name": "stdout",
     "output_type": "stream",
     "text": [
      "Found 2 Dobermans in n02107142_9597.jpg\n",
      "Found 2 Dobermans in n02107142_7311.jpg\n",
      "Found 2 Dobermans in n02107142_14636.jpg\n"
     ]
    },
    {
     "name": "stderr",
     "output_type": "stream",
     "text": [
      " 71%|███████   | 6072/8580 [00:42<00:18, 139.06it/s]"
     ]
    },
    {
     "name": "stdout",
     "output_type": "stream",
     "text": [
      "Found 2 miniature_pinschers in n02107312_3592.jpg\n",
      "Found 2 miniature_pinschers in n02107312_2709.jpg\n"
     ]
    },
    {
     "name": "stderr",
     "output_type": "stream",
     "text": [
      " 71%|███████▏  | 6118/8580 [00:42<00:16, 146.42it/s]"
     ]
    },
    {
     "name": "stdout",
     "output_type": "stream",
     "text": [
      "Found 2 miniature_pinschers in n02107312_546.jpg\n"
     ]
    },
    {
     "name": "stderr",
     "output_type": "stream",
     "text": [
      " 72%|███████▏  | 6216/8580 [00:42<00:15, 155.10it/s]"
     ]
    },
    {
     "name": "stdout",
     "output_type": "stream",
     "text": [
      "Found 2 Bernese_mountain_dogs in n02107683_4649.jpg\n",
      "Found 2 Bernese_mountain_dogs in n02107683_1412.jpg\n"
     ]
    },
    {
     "name": "stderr",
     "output_type": "stream",
     "text": [
      " 73%|███████▎  | 6265/8580 [00:43<00:14, 158.44it/s]"
     ]
    },
    {
     "name": "stdout",
     "output_type": "stream",
     "text": [
      "Found 2 Bernese_mountain_dogs in n02107683_2007.jpg\n"
     ]
    },
    {
     "name": "stderr",
     "output_type": "stream",
     "text": [
      " 74%|███████▎  | 6315/8580 [00:43<00:14, 158.50it/s]"
     ]
    },
    {
     "name": "stdout",
     "output_type": "stream",
     "text": [
      "Found 2 Bernese_mountain_dogs in n02107683_5821.jpg\n",
      "Found 2 Bernese_mountain_dogs in n02107683_3382.jpg\n",
      "Found 3 Appenzellers in n02107908_1426.jpg\n"
     ]
    },
    {
     "name": "stderr",
     "output_type": "stream",
     "text": [
      " 74%|███████▍  | 6379/8580 [00:43<00:14, 152.13it/s]"
     ]
    },
    {
     "name": "stdout",
     "output_type": "stream",
     "text": [
      "Found 2 Appenzellers in n02107908_4402.jpg\n",
      "Found 2 EntleBuchers in n02108000_1302.jpg\n",
      "Found 2 EntleBuchers in n02108000_1891.jpg\n",
      "Found 2 EntleBuchers in n02108000_3002.jpg\n",
      "Found 2 EntleBuchers in n02108000_599.jpg\n",
      "Found 2 EntleBuchers in n02108000_2248.jpg\n"
     ]
    },
    {
     "name": "stderr",
     "output_type": "stream",
     "text": [
      " 75%|███████▍  | 6410/8580 [00:44<00:17, 127.56it/s]"
     ]
    },
    {
     "name": "stdout",
     "output_type": "stream",
     "text": [
      "Found 2 EntleBuchers in n02108000_972.jpg\n",
      "Found 2 EntleBuchers in n02108000_3236.jpg\n",
      "Found 2 EntleBuchers in n02108000_2464.jpg\n"
     ]
    },
    {
     "name": "stderr",
     "output_type": "stream",
     "text": [
      " 75%|███████▌  | 6442/8580 [00:44<00:15, 137.42it/s]"
     ]
    },
    {
     "name": "stdout",
     "output_type": "stream",
     "text": [
      "Found 2 EntleBuchers in n02108000_1256.jpg\n",
      "Found 2 EntleBuchers in n02108000_2608.jpg\n",
      "Found 2 EntleBuchers in n02108000_824.jpg\n",
      "Found 2 EntleBuchers in n02108000_1690.jpg\n",
      "Found 4 EntleBuchers in n02108000_148.jpg\n"
     ]
    },
    {
     "name": "stderr",
     "output_type": "stream",
     "text": [
      " 76%|███████▌  | 6478/8580 [00:44<00:15, 133.48it/s]"
     ]
    },
    {
     "name": "stdout",
     "output_type": "stream",
     "text": [
      "Found 2 EntleBuchers in n02108000_877.jpg\n",
      "Found 2 boxers in n02108089_11807.jpg\n"
     ]
    },
    {
     "name": "stderr",
     "output_type": "stream",
     "text": [
      " 76%|███████▌  | 6540/8580 [00:45<00:14, 144.21it/s]"
     ]
    },
    {
     "name": "stdout",
     "output_type": "stream",
     "text": [
      "Found 2 bull_mastiffs in n02108422_251.jpg\n",
      "Found 2 bull_mastiffs in n02108422_4639.jpg\n",
      "Found 2 bull_mastiffs in n02108422_5444.jpg\n",
      "Found 2 bull_mastiffs in n02108422_1879.jpg\n",
      "Found 2 bull_mastiffs in n02108422_1425.jpg\n",
      "Found 2 bull_mastiffs in n02108422_347.jpg\n"
     ]
    },
    {
     "name": "stderr",
     "output_type": "stream",
     "text": [
      " 77%|███████▋  | 6572/8580 [00:45<00:14, 141.07it/s]"
     ]
    },
    {
     "name": "stdout",
     "output_type": "stream",
     "text": [
      "Found 2 bull_mastiffs in n02108422_3911.jpg\n",
      "Found 2 bull_mastiffs in n02108422_3985.jpg\n",
      "Found 2 bull_mastiffs in n02108422_2203.jpg\n",
      "Found 2 bull_mastiffs in n02108422_1096.jpg\n"
     ]
    },
    {
     "name": "stderr",
     "output_type": "stream",
     "text": [
      " 77%|███████▋  | 6635/8580 [00:45<00:13, 141.54it/s]"
     ]
    },
    {
     "name": "stdout",
     "output_type": "stream",
     "text": [
      "Found 2 Tibetan_mastiffs in n02108551_1724.jpg\n",
      "Found 2 French_bulldogs in n02108915_5669.jpg\n"
     ]
    },
    {
     "name": "stderr",
     "output_type": "stream",
     "text": [
      " 78%|███████▊  | 6680/8580 [00:46<00:13, 138.93it/s]"
     ]
    },
    {
     "name": "stdout",
     "output_type": "stream",
     "text": [
      "Found 2 French_bulldogs in n02108915_4176.jpg\n",
      "Found 2 French_bulldogs in n02108915_971.jpg\n",
      "Found 2 French_bulldogs in n02108915_7115.jpg\n",
      "Found 2 Great_Danes in n02109047_25603.jpg\n"
     ]
    },
    {
     "name": "stderr",
     "output_type": "stream",
     "text": [
      " 78%|███████▊  | 6722/8580 [00:46<00:14, 126.87it/s]"
     ]
    },
    {
     "name": "stdout",
     "output_type": "stream",
     "text": [
      "Found 2 Great_Danes in n02109047_5910.jpg\n",
      "Found 2 Great_Danes in n02109047_1876.jpg\n"
     ]
    },
    {
     "name": "stderr",
     "output_type": "stream",
     "text": [
      " 79%|███████▊  | 6751/8580 [00:46<00:13, 131.46it/s]"
     ]
    },
    {
     "name": "stdout",
     "output_type": "stream",
     "text": [
      "Found 2 Great_Danes in n02109047_33588.jpg\n",
      "Found 2 Great_Danes in n02109047_2358.jpg\n"
     ]
    },
    {
     "name": "stderr",
     "output_type": "stream",
     "text": [
      " 79%|███████▉  | 6812/8580 [00:47<00:12, 139.92it/s]"
     ]
    },
    {
     "name": "stdout",
     "output_type": "stream",
     "text": [
      "Found 2 Saint_Bernards in n02109525_345.jpg\n",
      "Found 2 Saint_Bernards in n02109525_11465.jpg\n",
      "Found 3 Saint_Bernards in n02109525_9522.jpg\n"
     ]
    },
    {
     "name": "stderr",
     "output_type": "stream",
     "text": [
      "\r",
      " 80%|███████▉  | 6827/8580 [00:47<00:13, 126.67it/s]"
     ]
    },
    {
     "name": "stdout",
     "output_type": "stream",
     "text": [
      "Found 2 Eskimo_dogs in n02109961_2492.jpg\n",
      "Found 2 Eskimo_dogs in n02109961_3159.jpg\n",
      "Found 2 Eskimo_dogs in n02109961_2522.jpg\n",
      "Found 2 Eskimo_dogs in n02109961_131.jpg\n"
     ]
    },
    {
     "name": "stderr",
     "output_type": "stream",
     "text": [
      " 80%|████████  | 6885/8580 [00:47<00:12, 136.48it/s]"
     ]
    },
    {
     "name": "stdout",
     "output_type": "stream",
     "text": [
      "Found 3 malamutes in n02110063_13837.jpg\n",
      "Found 2 malamutes in n02110063_18632.jpg\n",
      "Found 3 malamutes in n02110063_16533.jpg\n",
      "Found 2 malamutes in n02110063_12843.jpg\n",
      "Found 3 malamutes in n02110063_14743.jpg\n"
     ]
    },
    {
     "name": "stderr",
     "output_type": "stream",
     "text": [
      " 81%|████████  | 6917/8580 [00:47<00:11, 145.32it/s]"
     ]
    },
    {
     "name": "stdout",
     "output_type": "stream",
     "text": [
      "Found 2 malamutes in n02110063_16029.jpg\n",
      "Found 2 malamutes in n02110063_3670.jpg\n",
      "Found 2 malamutes in n02110063_13075.jpg\n",
      "Found 2 malamutes in n02110063_17917.jpg\n",
      "Found 2 malamutes in n02110063_2850.jpg\n"
     ]
    },
    {
     "name": "stderr",
     "output_type": "stream",
     "text": [
      " 81%|████████  | 6962/8580 [00:48<00:11, 140.72it/s]"
     ]
    },
    {
     "name": "stdout",
     "output_type": "stream",
     "text": [
      "Found 3 Siberian_huskys in n02110185_931.jpg\n",
      "Found 2 Siberian_huskys in n02110185_10844.jpg\n"
     ]
    },
    {
     "name": "stderr",
     "output_type": "stream",
     "text": [
      "\r",
      " 81%|████████▏ | 6977/8580 [00:48<00:11, 142.87it/s]"
     ]
    },
    {
     "name": "stdout",
     "output_type": "stream",
     "text": [
      "Found 2 Siberian_huskys in n02110185_7594.jpg\n",
      "Found 2 Siberian_huskys in n02110185_6564.jpg\n",
      "Found 2 Siberian_huskys in n02110185_9833.jpg\n"
     ]
    },
    {
     "name": "stderr",
     "output_type": "stream",
     "text": [
      " 82%|████████▏ | 7023/8580 [00:48<00:11, 139.38it/s]"
     ]
    },
    {
     "name": "stdout",
     "output_type": "stream",
     "text": [
      "Found 2 Siberian_huskys in n02110185_1446.jpg\n",
      "Found 2 Siberian_huskys in n02110185_5172.jpg\n",
      "Found 2 Siberian_huskys in n02110185_3302.jpg\n"
     ]
    },
    {
     "name": "stderr",
     "output_type": "stream",
     "text": [
      " 82%|████████▏ | 7057/8580 [00:48<00:09, 152.59it/s]"
     ]
    },
    {
     "name": "stdout",
     "output_type": "stream",
     "text": [
      "Found 2 affenpinschers in n02110627_2911.jpg\n"
     ]
    },
    {
     "name": "stderr",
     "output_type": "stream",
     "text": [
      " 83%|████████▎ | 7095/8580 [00:49<00:09, 153.69it/s]"
     ]
    },
    {
     "name": "stdout",
     "output_type": "stream",
     "text": [
      "Found 2 basenjis in n02110806_4435.jpg\n",
      "Found 2 basenjis in n02110806_5114.jpg\n",
      "Found 2 basenjis in n02110806_3781.jpg\n"
     ]
    },
    {
     "name": "stderr",
     "output_type": "stream",
     "text": [
      " 83%|████████▎ | 7144/8580 [00:49<00:09, 149.99it/s]"
     ]
    },
    {
     "name": "stdout",
     "output_type": "stream",
     "text": [
      "Found 2 basenjis in n02110806_1033.jpg\n",
      "Found 2 basenjis in n02110806_5389.jpg\n",
      "Found 2 basenjis in n02110806_2349.jpg\n",
      "Found 2 basenjis in n02110806_4711.jpg\n"
     ]
    },
    {
     "name": "stderr",
     "output_type": "stream",
     "text": [
      " 84%|████████▍ | 7192/8580 [00:49<00:09, 141.37it/s]"
     ]
    },
    {
     "name": "stdout",
     "output_type": "stream",
     "text": [
      "Found 2 basenjis in n02110806_3123.jpg\n",
      "Found 2 pugs in n02110958_13340.jpg\n"
     ]
    },
    {
     "name": "stderr",
     "output_type": "stream",
     "text": [
      " 84%|████████▍ | 7222/8580 [00:50<00:09, 140.89it/s]"
     ]
    },
    {
     "name": "stdout",
     "output_type": "stream",
     "text": [
      "Found 2 pugs in n02110958_13560.jpg\n"
     ]
    },
    {
     "name": "stderr",
     "output_type": "stream",
     "text": [
      " 85%|████████▍ | 7251/8580 [00:50<00:09, 136.99it/s]"
     ]
    },
    {
     "name": "stdout",
     "output_type": "stream",
     "text": [
      "Found 4 pugs in n02110958_12128.jpg\n",
      "Found 3 pugs in n02110958_7915.jpg\n",
      "Found 2 pugs in n02110958_15615.jpg\n"
     ]
    },
    {
     "name": "stderr",
     "output_type": "stream",
     "text": [
      " 85%|████████▌ | 7298/8580 [00:50<00:09, 141.47it/s]"
     ]
    },
    {
     "name": "stdout",
     "output_type": "stream",
     "text": [
      "Found 3 pugs in n02110958_15766.jpg\n",
      "Found 2 pugs in n02110958_12611.jpg\n",
      "Found 2 Leonbergs in n02111129_545.jpg\n",
      "Found 2 Leonbergs in n02111129_253.jpg\n"
     ]
    },
    {
     "name": "stderr",
     "output_type": "stream",
     "text": [
      " 85%|████████▌ | 7329/8580 [00:50<00:08, 141.68it/s]"
     ]
    },
    {
     "name": "stdout",
     "output_type": "stream",
     "text": [
      "Found 2 Leonbergs in n02111129_207.jpg\n",
      "Found 2 Leonbergs in n02111129_489.jpg\n",
      "Found 2 Leonbergs in n02111129_646.jpg\n",
      "Found 2 Leonbergs in n02111129_2235.jpg\n",
      "Found 2 Leonbergs in n02111129_2785.jpg\n",
      "Found 2 Leonbergs in n02111129_4716.jpg\n",
      "Found 2 Leonbergs in n02111129_279.jpg\n",
      "Found 3 Leonbergs in n02111129_4584.jpg\n",
      "Found 2 Leonbergs in n02111129_237.jpg\n",
      "Found 2 Leonbergs in n02111129_1429.jpg\n"
     ]
    },
    {
     "name": "stderr",
     "output_type": "stream",
     "text": [
      " 86%|████████▌ | 7360/8580 [00:50<00:08, 145.96it/s]"
     ]
    },
    {
     "name": "stdout",
     "output_type": "stream",
     "text": [
      "Found 2 Leonbergs in n02111129_547.jpg\n",
      "Found 2 Leonbergs in n02111129_1832.jpg\n",
      "Found 2 Leonbergs in n02111129_3576.jpg\n",
      "Found 2 Leonbergs in n02111129_2119.jpg\n",
      "Found 2 Leonbergs in n02111129_1661.jpg\n",
      "Found 2 Leonbergs in n02111129_2520.jpg\n",
      "Found 4 Leonbergs in n02111129_2476.jpg\n"
     ]
    },
    {
     "name": "stderr",
     "output_type": "stream",
     "text": [
      " 86%|████████▌ | 7390/8580 [00:51<00:08, 141.86it/s]"
     ]
    },
    {
     "name": "stdout",
     "output_type": "stream",
     "text": [
      "Found 2 Leonbergs in n02111129_892.jpg\n",
      "Found 2 Leonbergs in n02111129_4682.jpg\n",
      "Found 2 Leonbergs in n02111129_1965.jpg\n"
     ]
    },
    {
     "name": "stderr",
     "output_type": "stream",
     "text": [
      " 87%|████████▋ | 7436/8580 [00:51<00:08, 140.90it/s]"
     ]
    },
    {
     "name": "stdout",
     "output_type": "stream",
     "text": [
      "Found 2 Newfoundlands in n02111277_3713.jpg\n",
      "Found 2 Newfoundlands in n02111277_2255.jpg\n"
     ]
    },
    {
     "name": "stderr",
     "output_type": "stream",
     "text": [
      " 87%|████████▋ | 7467/8580 [00:51<00:07, 144.86it/s]"
     ]
    },
    {
     "name": "stdout",
     "output_type": "stream",
     "text": [
      "Found 2 Newfoundlands in n02111277_3910.jpg\n",
      "Found 2 Newfoundlands in n02111277_6213.jpg\n"
     ]
    },
    {
     "name": "stderr",
     "output_type": "stream",
     "text": [
      " 88%|████████▊ | 7513/8580 [00:52<00:07, 150.04it/s]"
     ]
    },
    {
     "name": "stdout",
     "output_type": "stream",
     "text": [
      "Found 2 Great_Pyreneess in n02111500_8382.jpg\n",
      "Found 2 Great_Pyreneess in n02111500_4993.jpg\n"
     ]
    },
    {
     "name": "stderr",
     "output_type": "stream",
     "text": [
      " 88%|████████▊ | 7565/8580 [00:52<00:06, 160.18it/s]"
     ]
    },
    {
     "name": "stdout",
     "output_type": "stream",
     "text": [
      "Found 2 Great_Pyreneess in n02111500_4097.jpg\n",
      "Found 2 Great_Pyreneess in n02111500_7495.jpg\n",
      "Found 2 Great_Pyreneess in n02111500_5042.jpg\n",
      "Found 2 Great_Pyreneess in n02111500_2247.jpg\n"
     ]
    },
    {
     "name": "stderr",
     "output_type": "stream",
     "text": [
      " 89%|████████▊ | 7600/8580 [00:52<00:06, 163.03it/s]"
     ]
    },
    {
     "name": "stdout",
     "output_type": "stream",
     "text": [
      "Found 2 Great_Pyreneess in n02111500_2209.jpg\n",
      "Found 2 Great_Pyreneess in n02111500_4908.jpg\n",
      "Found 2 Great_Pyreneess in n02111500_8884.jpg\n"
     ]
    },
    {
     "name": "stderr",
     "output_type": "stream",
     "text": [
      " 89%|████████▉ | 7634/8580 [00:52<00:06, 152.24it/s]"
     ]
    },
    {
     "name": "stdout",
     "output_type": "stream",
     "text": [
      "Found 2 Samoyeds in n02111889_2425.jpg\n",
      "Found 3 Samoyeds in n02111889_662.jpg\n",
      "Found 2 Samoyeds in n02111889_1937.jpg\n",
      "Found 2 Samoyeds in n02111889_2410.jpg\n",
      "Found 2 Samoyeds in n02111889_464.jpg\n"
     ]
    },
    {
     "name": "stderr",
     "output_type": "stream",
     "text": [
      " 90%|████████▉ | 7698/8580 [00:53<00:05, 151.84it/s]"
     ]
    },
    {
     "name": "stdout",
     "output_type": "stream",
     "text": [
      "Found 2 Samoyeds in n02111889_2028.jpg\n",
      "Found 2 Samoyeds in n02111889_2667.jpg\n",
      "Found 3 Samoyeds in n02111889_2366.jpg\n"
     ]
    },
    {
     "name": "stderr",
     "output_type": "stream",
     "text": [
      " 90%|█████████ | 7732/8580 [00:53<00:05, 152.58it/s]"
     ]
    },
    {
     "name": "stdout",
     "output_type": "stream",
     "text": [
      "Found 4 Samoyeds in n02111889_7491.jpg\n",
      "Found 2 Samoyeds in n02111889_1020.jpg\n",
      "Found 2 Samoyeds in n02111889_6333.jpg\n",
      "Found 2 Samoyeds in n02111889_16090.jpg\n"
     ]
    },
    {
     "name": "stderr",
     "output_type": "stream",
     "text": [
      " 91%|█████████ | 7796/8580 [00:53<00:05, 152.52it/s]"
     ]
    },
    {
     "name": "stdout",
     "output_type": "stream",
     "text": [
      "Found 2 Pomeranians in n02112018_4583.jpg\n",
      "Found 2 Pomeranians in n02112018_336.jpg\n"
     ]
    },
    {
     "name": "stderr",
     "output_type": "stream",
     "text": [
      " 92%|█████████▏| 7860/8580 [00:54<00:04, 145.62it/s]"
     ]
    },
    {
     "name": "stdout",
     "output_type": "stream",
     "text": [
      "Found 2 chows in n02112137_7706.jpg\n"
     ]
    },
    {
     "name": "stderr",
     "output_type": "stream",
     "text": [
      " 93%|█████████▎| 7946/8580 [00:54<00:04, 129.42it/s]"
     ]
    },
    {
     "name": "stdout",
     "output_type": "stream",
     "text": [
      "Found 2 chows in n02112137_11830.jpg\n",
      "Found 2 keeshonds in n02112350_6861.jpg\n",
      "Found 2 keeshonds in n02112350_9896.jpg\n",
      "Found 2 keeshonds in n02112350_7826.jpg\n"
     ]
    },
    {
     "name": "stderr",
     "output_type": "stream",
     "text": [
      " 93%|█████████▎| 7974/8580 [00:55<00:04, 131.76it/s]"
     ]
    },
    {
     "name": "stdout",
     "output_type": "stream",
     "text": [
      "Found 3 keeshonds in n02112350_8593.jpg\n",
      "Found 2 keeshonds in n02112350_6916.jpg\n",
      "Found 2 keeshonds in n02112350_8849.jpg\n",
      "Found 2 keeshonds in n02112350_3314.jpg\n"
     ]
    },
    {
     "name": "stderr",
     "output_type": "stream",
     "text": [
      " 93%|█████████▎| 8019/8580 [00:55<00:04, 138.53it/s]"
     ]
    },
    {
     "name": "stdout",
     "output_type": "stream",
     "text": [
      "Found 2 keeshonds in n02112350_9889.jpg\n",
      "Found 2 keeshonds in n02112350_7368.jpg\n"
     ]
    },
    {
     "name": "stderr",
     "output_type": "stream",
     "text": [
      " 94%|█████████▍| 8081/8580 [00:55<00:03, 142.30it/s]"
     ]
    },
    {
     "name": "stdout",
     "output_type": "stream",
     "text": [
      "Found 2 Pembrokes in n02113023_1258.jpg\n",
      "Found 2 Pembrokes in n02113023_2992.jpg\n"
     ]
    },
    {
     "name": "stderr",
     "output_type": "stream",
     "text": [
      " 95%|█████████▍| 8111/8580 [00:56<00:03, 140.20it/s]"
     ]
    },
    {
     "name": "stdout",
     "output_type": "stream",
     "text": [
      "Found 2 Pembrokes in n02113023_4544.jpg\n",
      "Found 2 Pembrokes in n02113023_1785.jpg\n",
      "Found 2 Pembrokes in n02113023_4082.jpg\n",
      "Found 2 Pembrokes in n02113023_9621.jpg\n"
     ]
    },
    {
     "name": "stderr",
     "output_type": "stream",
     "text": [
      " 95%|█████████▍| 8141/8580 [00:56<00:03, 142.06it/s]"
     ]
    },
    {
     "name": "stdout",
     "output_type": "stream",
     "text": [
      "Found 3 Pembrokes in n02113023_16112.jpg\n",
      "Found 2 Pembrokes in n02113023_1823.jpg\n",
      "Found 2 Cardigans in n02113186_9615.jpg\n",
      "Found 2 Cardigans in n02113186_9000.jpg\n",
      "Found 2 Cardigans in n02113186_4536.jpg\n"
     ]
    },
    {
     "name": "stderr",
     "output_type": "stream",
     "text": [
      " 95%|█████████▌| 8172/8580 [00:56<00:02, 148.54it/s]"
     ]
    },
    {
     "name": "stdout",
     "output_type": "stream",
     "text": [
      "Found 3 Cardigans in n02113186_7231.jpg\n",
      "Found 2 Cardigans in n02113186_13413.jpg\n"
     ]
    },
    {
     "name": "stderr",
     "output_type": "stream",
     "text": [
      " 96%|█████████▌| 8218/8580 [00:56<00:02, 142.96it/s]"
     ]
    },
    {
     "name": "stdout",
     "output_type": "stream",
     "text": [
      "Found 2 toy_poodles in n02113624_2784.jpg\n",
      "Found 2 toy_poodles in n02113624_3341.jpg\n"
     ]
    },
    {
     "name": "stderr",
     "output_type": "stream",
     "text": [
      " 96%|█████████▌| 8249/8580 [00:57<00:02, 142.19it/s]"
     ]
    },
    {
     "name": "stdout",
     "output_type": "stream",
     "text": [
      "Found 2 toy_poodles in n02113624_681.jpg\n",
      "Found 2 miniature_poodles in n02113712_566.jpg\n"
     ]
    },
    {
     "name": "stderr",
     "output_type": "stream",
     "text": [
      " 97%|█████████▋| 8314/8580 [00:57<00:01, 142.04it/s]"
     ]
    },
    {
     "name": "stdout",
     "output_type": "stream",
     "text": [
      "Found 2 miniature_poodles in n02113712_160.jpg\n",
      "Found 2 standard_poodles in n02113799_5486.jpg\n",
      "Found 2 standard_poodles in n02113799_6045.jpg\n",
      "Found 2 standard_poodles in n02113799_2401.jpg\n"
     ]
    },
    {
     "name": "stderr",
     "output_type": "stream",
     "text": [
      " 97%|█████████▋| 8344/8580 [00:57<00:01, 144.81it/s]"
     ]
    },
    {
     "name": "stdout",
     "output_type": "stream",
     "text": [
      "Found 2 standard_poodles in n02113799_5075.jpg\n"
     ]
    },
    {
     "name": "stderr",
     "output_type": "stream",
     "text": [
      " 98%|█████████▊| 8374/8580 [00:57<00:01, 145.29it/s]"
     ]
    },
    {
     "name": "stdout",
     "output_type": "stream",
     "text": [
      "Found 2 Mexican_hairlesss in n02113978_3640.jpg\n",
      "Found 2 Mexican_hairlesss in n02113978_183.jpg\n"
     ]
    },
    {
     "name": "stderr",
     "output_type": "stream",
     "text": [
      " 98%|█████████▊| 8426/8580 [00:58<00:01, 152.35it/s]"
     ]
    },
    {
     "name": "stdout",
     "output_type": "stream",
     "text": [
      "Found 2 Mexican_hairlesss in n02113978_2261.jpg\n",
      "Found 4 dingos in n02115641_9396.jpg\n"
     ]
    },
    {
     "name": "stderr",
     "output_type": "stream",
     "text": [
      " 99%|█████████▊| 8459/8580 [00:58<00:00, 155.76it/s]"
     ]
    },
    {
     "name": "stdout",
     "output_type": "stream",
     "text": [
      "Found 2 dingos in n02115641_2440.jpg\n",
      "Found 2 dingos in n02115641_6747.jpg\n",
      "Found 2 dingos in n02115641_13253.jpg\n",
      "Found 2 dingos in n02115641_6228.jpg\n",
      "Found 2 dingos in n02115641_7237.jpg\n",
      "Found 2 dholes in n02115913_1677.jpg\n",
      "Found 2 dholes in n02115913_4144.jpg\n"
     ]
    },
    {
     "name": "stderr",
     "output_type": "stream",
     "text": [
      " 99%|█████████▉| 8491/8580 [00:58<00:00, 152.91it/s]"
     ]
    },
    {
     "name": "stdout",
     "output_type": "stream",
     "text": [
      "Found 2 dholes in n02115913_4179.jpg\n",
      "Found 2 dholes in n02115913_1224.jpg\n",
      "Found 2 dholes in n02115913_312.jpg\n",
      "Found 3 dholes in n02115913_257.jpg\n"
     ]
    },
    {
     "name": "stderr",
     "output_type": "stream",
     "text": [
      " 99%|█████████▉| 8522/8580 [00:58<00:00, 146.58it/s]"
     ]
    },
    {
     "name": "stdout",
     "output_type": "stream",
     "text": [
      "Found 2 dholes in n02115913_4055.jpg\n",
      "Found 2 dholes in n02115913_3196.jpg\n",
      "Found 2 African_hunting_dogs in n02116738_6297.jpg\n",
      "Found 3 African_hunting_dogs in n02116738_4508.jpg\n",
      "Found 2 African_hunting_dogs in n02116738_806.jpg\n",
      "Found 4 African_hunting_dogs in n02116738_5241.jpg\n"
     ]
    },
    {
     "name": "stderr",
     "output_type": "stream",
     "text": [
      "100%|█████████▉| 8555/8580 [00:59<00:00, 153.86it/s]"
     ]
    },
    {
     "name": "stdout",
     "output_type": "stream",
     "text": [
      "Found 2 African_hunting_dogs in n02116738_308.jpg\n",
      "Found 2 African_hunting_dogs in n02116738_2515.jpg\n",
      "Found 2 African_hunting_dogs in n02116738_7590.jpg\n",
      "Found 2 African_hunting_dogs in n02116738_1627.jpg\n",
      "Found 2 African_hunting_dogs in n02116738_607.jpg\n",
      "Found 2 African_hunting_dogs in n02116738_7753.jpg\n",
      "Found 2 African_hunting_dogs in n02116738_2514.jpg\n",
      "Found 2 African_hunting_dogs in n02116738_1849.jpg\n"
     ]
    },
    {
     "name": "stderr",
     "output_type": "stream",
     "text": [
      "100%|██████████| 8580/8580 [00:59<00:00, 144.76it/s]\n"
     ]
    },
    {
     "name": "stdout",
     "output_type": "stream",
     "text": [
      "Found 4 African_hunting_dogs in n02116738_5338.jpg\n",
      "Found 2 African_hunting_dogs in n02116738_6330.jpg\n",
      "\tTotal of 1264 multiples found in 595 images\n",
      "Finished preparing test data!!\n",
      "Cleaning up unprocessed files\n",
      "\tRemoving data/Annotation ...\n",
      "\tRemoving data/Images ...\n",
      "\tDeleting data/file_list.mat\n"
     ]
    },
    {
     "ename": "AttributeError",
     "evalue": "module 'pathlib' has no attribute 'unlink'",
     "output_type": "error",
     "traceback": [
      "\u001b[0;31m---------------------------------------------------------------------------\u001b[0m",
      "\u001b[0;31mAttributeError\u001b[0m                            Traceback (most recent call last)",
      "\u001b[0;32m<ipython-input-3-0a9216f86a13>\u001b[0m in \u001b[0;36m<module>\u001b[0;34m\u001b[0m\n\u001b[0;32m----> 1\u001b[0;31m \u001b[0mrun_pipeline\u001b[0m\u001b[0;34m(\u001b[0m\u001b[0mroot_dir\u001b[0m \u001b[0;34m=\u001b[0m \u001b[0mdata_dir\u001b[0m\u001b[0;34m)\u001b[0m\u001b[0;34m\u001b[0m\u001b[0;34m\u001b[0m\u001b[0m\n\u001b[0m",
      "\u001b[0;32m~/Desktop/Projects/IDEOWhitespace/ml-udacity-capstone/preprocess.py\u001b[0m in \u001b[0;36mrun_pipeline\u001b[0;34m(root_dir)\u001b[0m\n\u001b[1;32m    278\u001b[0m         \u001b[0mmat_fl\u001b[0m \u001b[0;34m=\u001b[0m \u001b[0;34mf\"{mat_type}_list.mat\"\u001b[0m\u001b[0;34m\u001b[0m\u001b[0;34m\u001b[0m\u001b[0m\n\u001b[1;32m    279\u001b[0m         \u001b[0mprint\u001b[0m\u001b[0;34m(\u001b[0m\u001b[0;34mf\"\\tDeleting {root_dir / mat_fl}\"\u001b[0m\u001b[0;34m)\u001b[0m\u001b[0;34m\u001b[0m\u001b[0;34m\u001b[0m\u001b[0m\n\u001b[0;32m--> 280\u001b[0;31m         \u001b[0mpathlib\u001b[0m\u001b[0;34m.\u001b[0m\u001b[0munlink\u001b[0m\u001b[0;34m(\u001b[0m\u001b[0mroot_dir\u001b[0m \u001b[0;34m/\u001b[0m \u001b[0mmat_fl\u001b[0m\u001b[0;34m)\u001b[0m\u001b[0;34m\u001b[0m\u001b[0;34m\u001b[0m\u001b[0m\n\u001b[0m\u001b[1;32m    281\u001b[0m     \u001b[0mprint\u001b[0m\u001b[0;34m(\u001b[0m\u001b[0;34m\"Pipeline Finished\"\u001b[0m\u001b[0;34m)\u001b[0m\u001b[0;34m\u001b[0m\u001b[0;34m\u001b[0m\u001b[0m\n\u001b[1;32m    282\u001b[0m \u001b[0;34m\u001b[0m\u001b[0m\n",
      "\u001b[0;31mAttributeError\u001b[0m: module 'pathlib' has no attribute 'unlink'"
     ]
    }
   ],
   "source": [
    "run_pipeline(root_dir = data_dir)"
   ]
  },
  {
   "cell_type": "markdown",
   "metadata": {},
   "source": [
    "ahaha lol I made a funny ... I fixed this error "
   ]
  },
  {
   "cell_type": "code",
   "execution_count": 5,
   "metadata": {},
   "outputs": [
    {
     "name": "stdout",
     "output_type": "stream",
     "text": [
      "\tDeleting data/file_list.mat\n",
      "\tDeleting data/test_list.mat\n",
      "\tDeleting data/train_list.mat\n"
     ]
    }
   ],
   "source": [
    "for mat_type in [\"file\", \"test\", \"train\"]:\n",
    "    mat_path = data_dir / f\"{mat_type}_list.mat\"\n",
    "    print(f\"\\tDeleting {mat_path}\")\n",
    "    mat_path.unlink()"
   ]
  },
  {
   "cell_type": "code",
   "execution_count": null,
   "metadata": {},
   "outputs": [],
   "source": []
  }
 ],
 "metadata": {
  "kernelspec": {
   "display_name": "Python 3",
   "language": "python",
   "name": "python3"
  },
  "language_info": {
   "codemirror_mode": {
    "name": "ipython",
    "version": 3
   },
   "file_extension": ".py",
   "mimetype": "text/x-python",
   "name": "python",
   "nbconvert_exporter": "python",
   "pygments_lexer": "ipython3",
   "version": "3.6.10"
  }
 },
 "nbformat": 4,
 "nbformat_minor": 4
}
